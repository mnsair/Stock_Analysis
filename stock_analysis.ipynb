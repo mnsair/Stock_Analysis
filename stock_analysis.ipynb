{
 "cells": [
  {
   "cell_type": "code",
   "execution_count": 7,
   "metadata": {},
   "outputs": [
    {
     "name": "stdout",
     "output_type": "stream",
     "text": [
      "[*********************100%%**********************]  1 of 1 completed\n",
      "[*********************100%%**********************]  1 of 1 completed\n",
      "[*********************100%%**********************]  1 of 1 completed\n"
     ]
    },
    {
     "data": {
      "application/vnd.plotly.v1+json": {
       "config": {
        "plotlyServerURL": "https://plot.ly"
       },
       "data": [
        {
         "hovertemplate": "variable=AAPL<br>Date=%{x}<br>Weekly Average Price=%{y}<extra></extra>",
         "legendgroup": "AAPL",
         "marker": {
          "color": "#636efa",
          "symbol": "circle"
         },
         "mode": "markers",
         "name": "AAPL",
         "orientation": "v",
         "showlegend": true,
         "type": "scatter",
         "x": [
          "2023-01-08T00:00:00"
         ],
         "xaxis": "x",
         "y": [
          125.98001289367676
         ],
         "yaxis": "y"
        },
        {
         "hovertemplate": "variable=MSFT<br>Date=%{x}<br>Weekly Average Price=%{y}<extra></extra>",
         "legendgroup": "MSFT",
         "marker": {
          "color": "#EF553B",
          "symbol": "circle"
         },
         "mode": "markers",
         "name": "MSFT",
         "orientation": "v",
         "showlegend": true,
         "type": "scatter",
         "x": [
          "2023-01-08T00:00:00"
         ],
         "xaxis": "x",
         "y": [
          227.42816162109375
         ],
         "yaxis": "y"
        },
        {
         "hovertemplate": "variable=TSLA<br>Date=%{x}<br>Weekly Average Price=%{y}<extra></extra>",
         "legendgroup": "TSLA",
         "marker": {
          "color": "#00cc96",
          "symbol": "circle"
         },
         "mode": "markers",
         "name": "TSLA",
         "orientation": "v",
         "showlegend": true,
         "type": "scatter",
         "x": [
          "2023-01-08T00:00:00"
         ],
         "xaxis": "x",
         "y": [
          111.28499794006348
         ],
         "yaxis": "y"
        }
       ],
       "frames": [
        {
         "data": [
          {
           "hovertemplate": "variable=AAPL<br>Date=%{x}<br>Weekly Average Price=%{y}<extra></extra>",
           "legendgroup": "AAPL",
           "marker": {
            "color": "#636efa",
            "symbol": "circle"
           },
           "mode": "markers",
           "name": "AAPL",
           "orientation": "v",
           "showlegend": true,
           "type": "scatter",
           "x": [
            "2023-01-08T00:00:00"
           ],
           "xaxis": "x",
           "y": [
            125.98001289367676
           ],
           "yaxis": "y"
          },
          {
           "hovertemplate": "variable=MSFT<br>Date=%{x}<br>Weekly Average Price=%{y}<extra></extra>",
           "legendgroup": "MSFT",
           "marker": {
            "color": "#EF553B",
            "symbol": "circle"
           },
           "mode": "markers",
           "name": "MSFT",
           "orientation": "v",
           "showlegend": true,
           "type": "scatter",
           "x": [
            "2023-01-08T00:00:00"
           ],
           "xaxis": "x",
           "y": [
            227.42816162109375
           ],
           "yaxis": "y"
          },
          {
           "hovertemplate": "variable=TSLA<br>Date=%{x}<br>Weekly Average Price=%{y}<extra></extra>",
           "legendgroup": "TSLA",
           "marker": {
            "color": "#00cc96",
            "symbol": "circle"
           },
           "mode": "markers",
           "name": "TSLA",
           "orientation": "v",
           "showlegend": true,
           "type": "scatter",
           "x": [
            "2023-01-08T00:00:00"
           ],
           "xaxis": "x",
           "y": [
            111.28499794006348
           ],
           "yaxis": "y"
          }
         ],
         "name": "2023-01-08 00:00:00"
        },
        {
         "data": [
          {
           "hovertemplate": "variable=AAPL<br>Date=%{x}<br>Weekly Average Price=%{y}<extra></extra>",
           "legendgroup": "AAPL",
           "marker": {
            "color": "#636efa",
            "symbol": "circle"
           },
           "mode": "markers",
           "name": "AAPL",
           "orientation": "v",
           "showlegend": true,
           "type": "scatter",
           "x": [
            "2023-01-15T00:00:00"
           ],
           "xaxis": "x",
           "y": [
            131.945068359375
           ],
           "yaxis": "y"
          },
          {
           "hovertemplate": "variable=MSFT<br>Date=%{x}<br>Weekly Average Price=%{y}<extra></extra>",
           "legendgroup": "MSFT",
           "marker": {
            "color": "#EF553B",
            "symbol": "circle"
           },
           "mode": "markers",
           "name": "MSFT",
           "orientation": "v",
           "showlegend": true,
           "type": "scatter",
           "x": [
            "2023-01-15T00:00:00"
           ],
           "xaxis": "x",
           "y": [
            232.31083984375
           ],
           "yaxis": "y"
          },
          {
           "hovertemplate": "variable=TSLA<br>Date=%{x}<br>Weekly Average Price=%{y}<extra></extra>",
           "legendgroup": "TSLA",
           "marker": {
            "color": "#00cc96",
            "symbol": "circle"
           },
           "mode": "markers",
           "name": "TSLA",
           "orientation": "v",
           "showlegend": true,
           "type": "scatter",
           "x": [
            "2023-01-15T00:00:00"
           ],
           "xaxis": "x",
           "y": [
            121.55999908447265
           ],
           "yaxis": "y"
          }
         ],
         "name": "2023-01-15 00:00:00"
        },
        {
         "data": [
          {
           "hovertemplate": "variable=AAPL<br>Date=%{x}<br>Weekly Average Price=%{y}<extra></extra>",
           "legendgroup": "AAPL",
           "marker": {
            "color": "#636efa",
            "symbol": "circle"
           },
           "mode": "markers",
           "name": "AAPL",
           "orientation": "v",
           "showlegend": true,
           "type": "scatter",
           "x": [
            "2023-01-22T00:00:00"
           ],
           "xaxis": "x",
           "y": [
            135.49442672729492
           ],
           "yaxis": "y"
          },
          {
           "hovertemplate": "variable=MSFT<br>Date=%{x}<br>Weekly Average Price=%{y}<extra></extra>",
           "legendgroup": "MSFT",
           "marker": {
            "color": "#EF553B",
            "symbol": "circle"
           },
           "mode": "markers",
           "name": "MSFT",
           "orientation": "v",
           "showlegend": true,
           "type": "scatter",
           "x": [
            "2023-01-22T00:00:00"
           ],
           "xaxis": "x",
           "y": [
            235.47078704833984
           ],
           "yaxis": "y"
          },
          {
           "hovertemplate": "variable=TSLA<br>Date=%{x}<br>Weekly Average Price=%{y}<extra></extra>",
           "legendgroup": "TSLA",
           "marker": {
            "color": "#00cc96",
            "symbol": "circle"
           },
           "mode": "markers",
           "name": "TSLA",
           "orientation": "v",
           "showlegend": true,
           "type": "scatter",
           "x": [
            "2023-01-22T00:00:00"
           ],
           "xaxis": "x",
           "y": [
            130.2150001525879
           ],
           "yaxis": "y"
          }
         ],
         "name": "2023-01-22 00:00:00"
        },
        {
         "data": [
          {
           "hovertemplate": "variable=AAPL<br>Date=%{x}<br>Weekly Average Price=%{y}<extra></extra>",
           "legendgroup": "AAPL",
           "marker": {
            "color": "#636efa",
            "symbol": "circle"
           },
           "mode": "markers",
           "name": "AAPL",
           "orientation": "v",
           "showlegend": true,
           "type": "scatter",
           "x": [
            "2023-01-29T00:00:00"
           ],
           "xaxis": "x",
           "y": [
            142.47015991210938
           ],
           "yaxis": "y"
          },
          {
           "hovertemplate": "variable=MSFT<br>Date=%{x}<br>Weekly Average Price=%{y}<extra></extra>",
           "legendgroup": "MSFT",
           "marker": {
            "color": "#EF553B",
            "symbol": "circle"
           },
           "mode": "markers",
           "name": "MSFT",
           "orientation": "v",
           "showlegend": true,
           "type": "scatter",
           "x": [
            "2023-01-29T00:00:00"
           ],
           "xaxis": "x",
           "y": [
            242.62249145507812
           ],
           "yaxis": "y"
          },
          {
           "hovertemplate": "variable=TSLA<br>Date=%{x}<br>Weekly Average Price=%{y}<extra></extra>",
           "legendgroup": "TSLA",
           "marker": {
            "color": "#00cc96",
            "symbol": "circle"
           },
           "mode": "markers",
           "name": "TSLA",
           "orientation": "v",
           "showlegend": true,
           "type": "scatter",
           "x": [
            "2023-01-29T00:00:00"
           ],
           "xaxis": "x",
           "y": [
            154.047998046875
           ],
           "yaxis": "y"
          }
         ],
         "name": "2023-01-29 00:00:00"
        },
        {
         "data": [
          {
           "hovertemplate": "variable=AAPL<br>Date=%{x}<br>Weekly Average Price=%{y}<extra></extra>",
           "legendgroup": "AAPL",
           "marker": {
            "color": "#636efa",
            "symbol": "circle"
           },
           "mode": "markers",
           "name": "AAPL",
           "orientation": "v",
           "showlegend": true,
           "type": "scatter",
           "x": [
            "2023-02-05T00:00:00"
           ],
           "xaxis": "x",
           "y": [
            146.9809112548828
           ],
           "yaxis": "y"
          },
          {
           "hovertemplate": "variable=MSFT<br>Date=%{x}<br>Weekly Average Price=%{y}<extra></extra>",
           "legendgroup": "MSFT",
           "marker": {
            "color": "#EF553B",
            "symbol": "circle"
           },
           "mode": "markers",
           "name": "MSFT",
           "orientation": "v",
           "showlegend": true,
           "type": "scatter",
           "x": [
            "2023-02-05T00:00:00"
           ],
           "xaxis": "x",
           "y": [
            251.52772827148436
           ],
           "yaxis": "y"
          },
          {
           "hovertemplate": "variable=TSLA<br>Date=%{x}<br>Weekly Average Price=%{y}<extra></extra>",
           "legendgroup": "TSLA",
           "marker": {
            "color": "#00cc96",
            "symbol": "circle"
           },
           "mode": "markers",
           "name": "TSLA",
           "orientation": "v",
           "showlegend": true,
           "type": "scatter",
           "x": [
            "2023-02-05T00:00:00"
           ],
           "xaxis": "x",
           "y": [
            179.9080017089844
           ],
           "yaxis": "y"
          }
         ],
         "name": "2023-02-05 00:00:00"
        },
        {
         "data": [
          {
           "hovertemplate": "variable=AAPL<br>Date=%{x}<br>Weekly Average Price=%{y}<extra></extra>",
           "legendgroup": "AAPL",
           "marker": {
            "color": "#636efa",
            "symbol": "circle"
           },
           "mode": "markers",
           "name": "AAPL",
           "orientation": "v",
           "showlegend": true,
           "type": "scatter",
           "x": [
            "2023-02-12T00:00:00"
           ],
           "xaxis": "x",
           "y": [
            151.43601989746094
           ],
           "yaxis": "y"
          },
          {
           "hovertemplate": "variable=MSFT<br>Date=%{x}<br>Weekly Average Price=%{y}<extra></extra>",
           "legendgroup": "MSFT",
           "marker": {
            "color": "#EF553B",
            "symbol": "circle"
           },
           "mode": "markers",
           "name": "MSFT",
           "orientation": "v",
           "showlegend": true,
           "type": "scatter",
           "x": [
            "2023-02-12T00:00:00"
           ],
           "xaxis": "x",
           "y": [
            261.76983642578125
           ],
           "yaxis": "y"
          },
          {
           "hovertemplate": "variable=TSLA<br>Date=%{x}<br>Weekly Average Price=%{y}<extra></extra>",
           "legendgroup": "TSLA",
           "marker": {
            "color": "#00cc96",
            "symbol": "circle"
           },
           "mode": "markers",
           "name": "TSLA",
           "orientation": "v",
           "showlegend": true,
           "type": "scatter",
           "x": [
            "2023-02-12T00:00:00"
           ],
           "xaxis": "x",
           "y": [
            199.41399841308595
           ],
           "yaxis": "y"
          }
         ],
         "name": "2023-02-12 00:00:00"
        },
        {
         "data": [
          {
           "hovertemplate": "variable=AAPL<br>Date=%{x}<br>Weekly Average Price=%{y}<extra></extra>",
           "legendgroup": "AAPL",
           "marker": {
            "color": "#636efa",
            "symbol": "circle"
           },
           "mode": "markers",
           "name": "AAPL",
           "orientation": "v",
           "showlegend": true,
           "type": "scatter",
           "x": [
            "2023-02-19T00:00:00"
           ],
           "xaxis": "x",
           "y": [
            153.3086395263672
           ],
           "yaxis": "y"
          },
          {
           "hovertemplate": "variable=MSFT<br>Date=%{x}<br>Weekly Average Price=%{y}<extra></extra>",
           "legendgroup": "MSFT",
           "marker": {
            "color": "#EF553B",
            "symbol": "circle"
           },
           "mode": "markers",
           "name": "MSFT",
           "orientation": "v",
           "showlegend": true,
           "type": "scatter",
           "x": [
            "2023-02-19T00:00:00"
           ],
           "xaxis": "x",
           "y": [
            265.1900146484375
           ],
           "yaxis": "y"
          },
          {
           "hovertemplate": "variable=TSLA<br>Date=%{x}<br>Weekly Average Price=%{y}<extra></extra>",
           "legendgroup": "TSLA",
           "marker": {
            "color": "#00cc96",
            "symbol": "circle"
           },
           "mode": "markers",
           "name": "TSLA",
           "orientation": "v",
           "showlegend": true,
           "type": "scatter",
           "x": [
            "2023-02-19T00:00:00"
           ],
           "xaxis": "x",
           "y": [
            205.6959991455078
           ],
           "yaxis": "y"
          }
         ],
         "name": "2023-02-19 00:00:00"
        },
        {
         "data": [
          {
           "hovertemplate": "variable=AAPL<br>Date=%{x}<br>Weekly Average Price=%{y}<extra></extra>",
           "legendgroup": "AAPL",
           "marker": {
            "color": "#636efa",
            "symbol": "circle"
           },
           "mode": "markers",
           "name": "AAPL",
           "orientation": "v",
           "showlegend": true,
           "type": "scatter",
           "x": [
            "2023-02-26T00:00:00"
           ],
           "xaxis": "x",
           "y": [
            147.9702377319336
           ],
           "yaxis": "y"
          },
          {
           "hovertemplate": "variable=MSFT<br>Date=%{x}<br>Weekly Average Price=%{y}<extra></extra>",
           "legendgroup": "MSFT",
           "marker": {
            "color": "#EF553B",
            "symbol": "circle"
           },
           "mode": "markers",
           "name": "MSFT",
           "orientation": "v",
           "showlegend": true,
           "type": "scatter",
           "x": [
            "2023-02-26T00:00:00"
           ],
           "xaxis": "x",
           "y": [
            250.9613800048828
           ],
           "yaxis": "y"
          },
          {
           "hovertemplate": "variable=TSLA<br>Date=%{x}<br>Weekly Average Price=%{y}<extra></extra>",
           "legendgroup": "TSLA",
           "marker": {
            "color": "#00cc96",
            "symbol": "circle"
           },
           "mode": "markers",
           "name": "TSLA",
           "orientation": "v",
           "showlegend": true,
           "type": "scatter",
           "x": [
            "2023-02-26T00:00:00"
           ],
           "xaxis": "x",
           "y": [
            199.29500198364258
           ],
           "yaxis": "y"
          }
         ],
         "name": "2023-02-26 00:00:00"
        },
        {
         "data": [
          {
           "hovertemplate": "variable=AAPL<br>Date=%{x}<br>Weekly Average Price=%{y}<extra></extra>",
           "legendgroup": "AAPL",
           "marker": {
            "color": "#636efa",
            "symbol": "circle"
           },
           "mode": "markers",
           "name": "AAPL",
           "orientation": "v",
           "showlegend": true,
           "type": "scatter",
           "x": [
            "2023-03-05T00:00:00"
           ],
           "xaxis": "x",
           "y": [
            147.11358032226562
           ],
           "yaxis": "y"
          },
          {
           "hovertemplate": "variable=MSFT<br>Date=%{x}<br>Weekly Average Price=%{y}<extra></extra>",
           "legendgroup": "MSFT",
           "marker": {
            "color": "#EF553B",
            "symbol": "circle"
           },
           "mode": "markers",
           "name": "MSFT",
           "orientation": "v",
           "showlegend": true,
           "type": "scatter",
           "x": [
            "2023-03-05T00:00:00"
           ],
           "xaxis": "x",
           "y": [
            249.3757110595703
           ],
           "yaxis": "y"
          },
          {
           "hovertemplate": "variable=TSLA<br>Date=%{x}<br>Weekly Average Price=%{y}<extra></extra>",
           "legendgroup": "TSLA",
           "marker": {
            "color": "#00cc96",
            "symbol": "circle"
           },
           "mode": "markers",
           "name": "TSLA",
           "orientation": "v",
           "showlegend": true,
           "type": "scatter",
           "x": [
            "2023-03-05T00:00:00"
           ],
           "xaxis": "x",
           "y": [
            200.96000061035156
           ],
           "yaxis": "y"
          }
         ],
         "name": "2023-03-05 00:00:00"
        },
        {
         "data": [
          {
           "hovertemplate": "variable=AAPL<br>Date=%{x}<br>Weekly Average Price=%{y}<extra></extra>",
           "legendgroup": "AAPL",
           "marker": {
            "color": "#636efa",
            "symbol": "circle"
           },
           "mode": "markers",
           "name": "AAPL",
           "orientation": "v",
           "showlegend": true,
           "type": "scatter",
           "x": [
            "2023-03-12T00:00:00"
           ],
           "xaxis": "x",
           "y": [
            151.0647705078125
           ],
           "yaxis": "y"
          },
          {
           "hovertemplate": "variable=MSFT<br>Date=%{x}<br>Weekly Average Price=%{y}<extra></extra>",
           "legendgroup": "MSFT",
           "marker": {
            "color": "#EF553B",
            "symbol": "circle"
           },
           "mode": "markers",
           "name": "MSFT",
           "orientation": "v",
           "showlegend": true,
           "type": "scatter",
           "x": [
            "2023-03-12T00:00:00"
           ],
           "xaxis": "x",
           "y": [
            252.04023132324218
           ],
           "yaxis": "y"
          },
          {
           "hovertemplate": "variable=TSLA<br>Date=%{x}<br>Weekly Average Price=%{y}<extra></extra>",
           "legendgroup": "TSLA",
           "marker": {
            "color": "#00cc96",
            "symbol": "circle"
           },
           "mode": "markers",
           "name": "TSLA",
           "orientation": "v",
           "showlegend": true,
           "type": "scatter",
           "x": [
            "2023-03-12T00:00:00"
           ],
           "xaxis": "x",
           "y": [
            181.9760009765625
           ],
           "yaxis": "y"
          }
         ],
         "name": "2023-03-12 00:00:00"
        },
        {
         "data": [
          {
           "hovertemplate": "variable=AAPL<br>Date=%{x}<br>Weekly Average Price=%{y}<extra></extra>",
           "legendgroup": "AAPL",
           "marker": {
            "color": "#636efa",
            "symbol": "circle"
           },
           "mode": "markers",
           "name": "AAPL",
           "orientation": "v",
           "showlegend": true,
           "type": "scatter",
           "x": [
            "2023-03-19T00:00:00"
           ],
           "xaxis": "x",
           "y": [
            152.96158752441406
           ],
           "yaxis": "y"
          },
          {
           "hovertemplate": "variable=MSFT<br>Date=%{x}<br>Weekly Average Price=%{y}<extra></extra>",
           "legendgroup": "MSFT",
           "marker": {
            "color": "#EF553B",
            "symbol": "circle"
           },
           "mode": "markers",
           "name": "MSFT",
           "orientation": "v",
           "showlegend": true,
           "type": "scatter",
           "x": [
            "2023-03-19T00:00:00"
           ],
           "xaxis": "x",
           "y": [
            266.0100555419922
           ],
           "yaxis": "y"
          },
          {
           "hovertemplate": "variable=TSLA<br>Date=%{x}<br>Weekly Average Price=%{y}<extra></extra>",
           "legendgroup": "TSLA",
           "marker": {
            "color": "#00cc96",
            "symbol": "circle"
           },
           "mode": "markers",
           "name": "TSLA",
           "orientation": "v",
           "showlegend": true,
           "type": "scatter",
           "x": [
            "2023-03-19T00:00:00"
           ],
           "xaxis": "x",
           "y": [
            180.48999938964843
           ],
           "yaxis": "y"
          }
         ],
         "name": "2023-03-19 00:00:00"
        },
        {
         "data": [
          {
           "hovertemplate": "variable=AAPL<br>Date=%{x}<br>Weekly Average Price=%{y}<extra></extra>",
           "legendgroup": "AAPL",
           "marker": {
            "color": "#636efa",
            "symbol": "circle"
           },
           "mode": "markers",
           "name": "AAPL",
           "orientation": "v",
           "showlegend": true,
           "type": "scatter",
           "x": [
            "2023-03-26T00:00:00"
           ],
           "xaxis": "x",
           "y": [
            158.30496215820312
           ],
           "yaxis": "y"
          },
          {
           "hovertemplate": "variable=MSFT<br>Date=%{x}<br>Weekly Average Price=%{y}<extra></extra>",
           "legendgroup": "MSFT",
           "marker": {
            "color": "#EF553B",
            "symbol": "circle"
           },
           "mode": "markers",
           "name": "MSFT",
           "orientation": "v",
           "showlegend": true,
           "type": "scatter",
           "x": [
            "2023-03-26T00:00:00"
           ],
           "xaxis": "x",
           "y": [
            274.1250915527344
           ],
           "yaxis": "y"
          },
          {
           "hovertemplate": "variable=TSLA<br>Date=%{x}<br>Weekly Average Price=%{y}<extra></extra>",
           "legendgroup": "TSLA",
           "marker": {
            "color": "#00cc96",
            "symbol": "circle"
           },
           "mode": "markers",
           "name": "TSLA",
           "orientation": "v",
           "showlegend": true,
           "type": "scatter",
           "x": [
            "2023-03-26T00:00:00"
           ],
           "xaxis": "x",
           "y": [
            190.9220001220703
           ],
           "yaxis": "y"
          }
         ],
         "name": "2023-03-26 00:00:00"
        },
        {
         "data": [
          {
           "hovertemplate": "variable=AAPL<br>Date=%{x}<br>Weekly Average Price=%{y}<extra></extra>",
           "legendgroup": "AAPL",
           "marker": {
            "color": "#636efa",
            "symbol": "circle"
           },
           "mode": "markers",
           "name": "AAPL",
           "orientation": "v",
           "showlegend": true,
           "type": "scatter",
           "x": [
            "2023-04-02T00:00:00"
           ],
           "xaxis": "x",
           "y": [
            160.35336608886718
           ],
           "yaxis": "y"
          },
          {
           "hovertemplate": "variable=MSFT<br>Date=%{x}<br>Weekly Average Price=%{y}<extra></extra>",
           "legendgroup": "MSFT",
           "marker": {
            "color": "#EF553B",
            "symbol": "circle"
           },
           "mode": "markers",
           "name": "MSFT",
           "orientation": "v",
           "showlegend": true,
           "type": "scatter",
           "x": [
            "2023-04-02T00:00:00"
           ],
           "xaxis": "x",
           "y": [
            279.6891235351562
           ],
           "yaxis": "y"
          },
          {
           "hovertemplate": "variable=TSLA<br>Date=%{x}<br>Weekly Average Price=%{y}<extra></extra>",
           "legendgroup": "TSLA",
           "marker": {
            "color": "#00cc96",
            "symbol": "circle"
           },
           "mode": "markers",
           "name": "TSLA",
           "orientation": "v",
           "showlegend": true,
           "type": "scatter",
           "x": [
            "2023-04-02T00:00:00"
           ],
           "xaxis": "x",
           "y": [
            195.5240020751953
           ],
           "yaxis": "y"
          }
         ],
         "name": "2023-04-02 00:00:00"
        },
        {
         "data": [
          {
           "hovertemplate": "variable=AAPL<br>Date=%{x}<br>Weekly Average Price=%{y}<extra></extra>",
           "legendgroup": "AAPL",
           "marker": {
            "color": "#636efa",
            "symbol": "circle"
           },
           "mode": "markers",
           "name": "AAPL",
           "orientation": "v",
           "showlegend": true,
           "type": "scatter",
           "x": [
            "2023-04-09T00:00:00"
           ],
           "xaxis": "x",
           "y": [
            164.604736328125
           ],
           "yaxis": "y"
          },
          {
           "hovertemplate": "variable=MSFT<br>Date=%{x}<br>Weekly Average Price=%{y}<extra></extra>",
           "legendgroup": "MSFT",
           "marker": {
            "color": "#EF553B",
            "symbol": "circle"
           },
           "mode": "markers",
           "name": "MSFT",
           "orientation": "v",
           "showlegend": true,
           "type": "scatter",
           "x": [
            "2023-04-09T00:00:00"
           ],
           "xaxis": "x",
           "y": [
            286.3539047241211
           ],
           "yaxis": "y"
          },
          {
           "hovertemplate": "variable=TSLA<br>Date=%{x}<br>Weekly Average Price=%{y}<extra></extra>",
           "legendgroup": "TSLA",
           "marker": {
            "color": "#00cc96",
            "symbol": "circle"
           },
           "mode": "markers",
           "name": "TSLA",
           "orientation": "v",
           "showlegend": true,
           "type": "scatter",
           "x": [
            "2023-04-09T00:00:00"
           ],
           "xaxis": "x",
           "y": [
            189.48250198364258
           ],
           "yaxis": "y"
          }
         ],
         "name": "2023-04-09 00:00:00"
        },
        {
         "data": [
          {
           "hovertemplate": "variable=AAPL<br>Date=%{x}<br>Weekly Average Price=%{y}<extra></extra>",
           "legendgroup": "AAPL",
           "marker": {
            "color": "#636efa",
            "symbol": "circle"
           },
           "mode": "markers",
           "name": "AAPL",
           "orientation": "v",
           "showlegend": true,
           "type": "scatter",
           "x": [
            "2023-04-16T00:00:00"
           ],
           "xaxis": "x",
           "y": [
            162.29605102539062
           ],
           "yaxis": "y"
          },
          {
           "hovertemplate": "variable=MSFT<br>Date=%{x}<br>Weekly Average Price=%{y}<extra></extra>",
           "legendgroup": "MSFT",
           "marker": {
            "color": "#EF553B",
            "symbol": "circle"
           },
           "mode": "markers",
           "name": "MSFT",
           "orientation": "v",
           "showlegend": true,
           "type": "scatter",
           "x": [
            "2023-04-16T00:00:00"
           ],
           "xaxis": "x",
           "y": [
            285.1097717285156
           ],
           "yaxis": "y"
          },
          {
           "hovertemplate": "variable=TSLA<br>Date=%{x}<br>Weekly Average Price=%{y}<extra></extra>",
           "legendgroup": "TSLA",
           "marker": {
            "color": "#00cc96",
            "symbol": "circle"
           },
           "mode": "markers",
           "name": "TSLA",
           "orientation": "v",
           "showlegend": true,
           "type": "scatter",
           "x": [
            "2023-04-16T00:00:00"
           ],
           "xaxis": "x",
           "y": [
            184.5479949951172
           ],
           "yaxis": "y"
          }
         ],
         "name": "2023-04-16 00:00:00"
        },
        {
         "data": [
          {
           "hovertemplate": "variable=AAPL<br>Date=%{x}<br>Weekly Average Price=%{y}<extra></extra>",
           "legendgroup": "AAPL",
           "marker": {
            "color": "#636efa",
            "symbol": "circle"
           },
           "mode": "markers",
           "name": "AAPL",
           "orientation": "v",
           "showlegend": true,
           "type": "scatter",
           "x": [
            "2023-04-23T00:00:00"
           ],
           "xaxis": "x",
           "y": [
            165.74661560058593
           ],
           "yaxis": "y"
          },
          {
           "hovertemplate": "variable=MSFT<br>Date=%{x}<br>Weekly Average Price=%{y}<extra></extra>",
           "legendgroup": "MSFT",
           "marker": {
            "color": "#EF553B",
            "symbol": "circle"
           },
           "mode": "markers",
           "name": "MSFT",
           "orientation": "v",
           "showlegend": true,
           "type": "scatter",
           "x": [
            "2023-04-23T00:00:00"
           ],
           "xaxis": "x",
           "y": [
            286.2648071289062
           ],
           "yaxis": "y"
          },
          {
           "hovertemplate": "variable=TSLA<br>Date=%{x}<br>Weekly Average Price=%{y}<extra></extra>",
           "legendgroup": "TSLA",
           "marker": {
            "color": "#00cc96",
            "symbol": "circle"
           },
           "mode": "markers",
           "name": "TSLA",
           "orientation": "v",
           "showlegend": true,
           "type": "scatter",
           "x": [
            "2023-04-23T00:00:00"
           ],
           "xaxis": "x",
           "y": [
            176.0019989013672
           ],
           "yaxis": "y"
          }
         ],
         "name": "2023-04-23 00:00:00"
        },
        {
         "data": [
          {
           "hovertemplate": "variable=AAPL<br>Date=%{x}<br>Weekly Average Price=%{y}<extra></extra>",
           "legendgroup": "AAPL",
           "marker": {
            "color": "#636efa",
            "symbol": "circle"
           },
           "mode": "markers",
           "name": "AAPL",
           "orientation": "v",
           "showlegend": true,
           "type": "scatter",
           "x": [
            "2023-04-30T00:00:00"
           ],
           "xaxis": "x",
           "y": [
            165.73663940429688
           ],
           "yaxis": "y"
          },
          {
           "hovertemplate": "variable=MSFT<br>Date=%{x}<br>Weekly Average Price=%{y}<extra></extra>",
           "legendgroup": "MSFT",
           "marker": {
            "color": "#EF553B",
            "symbol": "circle"
           },
           "mode": "markers",
           "name": "MSFT",
           "orientation": "v",
           "showlegend": true,
           "type": "scatter",
           "x": [
            "2023-04-30T00:00:00"
           ],
           "xaxis": "x",
           "y": [
            291.6734985351562
           ],
           "yaxis": "y"
          },
          {
           "hovertemplate": "variable=TSLA<br>Date=%{x}<br>Weekly Average Price=%{y}<extra></extra>",
           "legendgroup": "TSLA",
           "marker": {
            "color": "#00cc96",
            "symbol": "circle"
           },
           "mode": "markers",
           "name": "TSLA",
           "orientation": "v",
           "showlegend": true,
           "type": "scatter",
           "x": [
            "2023-04-30T00:00:00"
           ],
           "xaxis": "x",
           "y": [
            160.29400024414062
           ],
           "yaxis": "y"
          }
         ],
         "name": "2023-04-30 00:00:00"
        },
        {
         "data": [
          {
           "hovertemplate": "variable=AAPL<br>Date=%{x}<br>Weekly Average Price=%{y}<extra></extra>",
           "legendgroup": "AAPL",
           "marker": {
            "color": "#636efa",
            "symbol": "circle"
           },
           "mode": "markers",
           "name": "AAPL",
           "orientation": "v",
           "showlegend": true,
           "type": "scatter",
           "x": [
            "2023-05-07T00:00:00"
           ],
           "xaxis": "x",
           "y": [
            168.527001953125
           ],
           "yaxis": "y"
          },
          {
           "hovertemplate": "variable=MSFT<br>Date=%{x}<br>Weekly Average Price=%{y}<extra></extra>",
           "legendgroup": "MSFT",
           "marker": {
            "color": "#EF553B",
            "symbol": "circle"
           },
           "mode": "markers",
           "name": "MSFT",
           "orientation": "v",
           "showlegend": true,
           "type": "scatter",
           "x": [
            "2023-05-07T00:00:00"
           ],
           "xaxis": "x",
           "y": [
            304.9721984863281
           ],
           "yaxis": "y"
          },
          {
           "hovertemplate": "variable=TSLA<br>Date=%{x}<br>Weekly Average Price=%{y}<extra></extra>",
           "legendgroup": "TSLA",
           "marker": {
            "color": "#00cc96",
            "symbol": "circle"
           },
           "mode": "markers",
           "name": "TSLA",
           "orientation": "v",
           "showlegend": true,
           "type": "scatter",
           "x": [
            "2023-05-07T00:00:00"
           ],
           "xaxis": "x",
           "y": [
            162.8019989013672
           ],
           "yaxis": "y"
          }
         ],
         "name": "2023-05-07 00:00:00"
        },
        {
         "data": [
          {
           "hovertemplate": "variable=AAPL<br>Date=%{x}<br>Weekly Average Price=%{y}<extra></extra>",
           "legendgroup": "AAPL",
           "marker": {
            "color": "#636efa",
            "symbol": "circle"
           },
           "mode": "markers",
           "name": "AAPL",
           "orientation": "v",
           "showlegend": true,
           "type": "scatter",
           "x": [
            "2023-05-14T00:00:00"
           ],
           "xaxis": "x",
           "y": [
            172.6055877685547
           ],
           "yaxis": "y"
          },
          {
           "hovertemplate": "variable=MSFT<br>Date=%{x}<br>Weekly Average Price=%{y}<extra></extra>",
           "legendgroup": "MSFT",
           "marker": {
            "color": "#EF553B",
            "symbol": "circle"
           },
           "mode": "markers",
           "name": "MSFT",
           "orientation": "v",
           "showlegend": true,
           "type": "scatter",
           "x": [
            "2023-05-14T00:00:00"
           ],
           "xaxis": "x",
           "y": [
            308.08082275390626
           ],
           "yaxis": "y"
          },
          {
           "hovertemplate": "variable=TSLA<br>Date=%{x}<br>Weekly Average Price=%{y}<extra></extra>",
           "legendgroup": "TSLA",
           "marker": {
            "color": "#00cc96",
            "symbol": "circle"
           },
           "mode": "markers",
           "name": "TSLA",
           "orientation": "v",
           "showlegend": true,
           "type": "scatter",
           "x": [
            "2023-05-14T00:00:00"
           ],
           "xaxis": "x",
           "y": [
            169.90799560546876
           ],
           "yaxis": "y"
          }
         ],
         "name": "2023-05-14 00:00:00"
        },
        {
         "data": [
          {
           "hovertemplate": "variable=AAPL<br>Date=%{x}<br>Weekly Average Price=%{y}<extra></extra>",
           "legendgroup": "AAPL",
           "marker": {
            "color": "#636efa",
            "symbol": "circle"
           },
           "mode": "markers",
           "name": "AAPL",
           "orientation": "v",
           "showlegend": true,
           "type": "scatter",
           "x": [
            "2023-05-21T00:00:00"
           ],
           "xaxis": "x",
           "y": [
            173.17415771484374
           ],
           "yaxis": "y"
          },
          {
           "hovertemplate": "variable=MSFT<br>Date=%{x}<br>Weekly Average Price=%{y}<extra></extra>",
           "legendgroup": "MSFT",
           "marker": {
            "color": "#EF553B",
            "symbol": "circle"
           },
           "mode": "markers",
           "name": "MSFT",
           "orientation": "v",
           "showlegend": true,
           "type": "scatter",
           "x": [
            "2023-05-21T00:00:00"
           ],
           "xaxis": "x",
           "y": [
            313.477294921875
           ],
           "yaxis": "y"
          },
          {
           "hovertemplate": "variable=TSLA<br>Date=%{x}<br>Weekly Average Price=%{y}<extra></extra>",
           "legendgroup": "TSLA",
           "marker": {
            "color": "#00cc96",
            "symbol": "circle"
           },
           "mode": "markers",
           "name": "TSLA",
           "orientation": "v",
           "showlegend": true,
           "type": "scatter",
           "x": [
            "2023-05-21T00:00:00"
           ],
           "xaxis": "x",
           "y": [
            172.752001953125
           ],
           "yaxis": "y"
          }
         ],
         "name": "2023-05-21 00:00:00"
        },
        {
         "data": [
          {
           "hovertemplate": "variable=AAPL<br>Date=%{x}<br>Weekly Average Price=%{y}<extra></extra>",
           "legendgroup": "AAPL",
           "marker": {
            "color": "#636efa",
            "symbol": "circle"
           },
           "mode": "markers",
           "name": "AAPL",
           "orientation": "v",
           "showlegend": true,
           "type": "scatter",
           "x": [
            "2023-05-28T00:00:00"
           ],
           "xaxis": "x",
           "y": [
            172.97042236328124
           ],
           "yaxis": "y"
          },
          {
           "hovertemplate": "variable=MSFT<br>Date=%{x}<br>Weekly Average Price=%{y}<extra></extra>",
           "legendgroup": "MSFT",
           "marker": {
            "color": "#EF553B",
            "symbol": "circle"
           },
           "mode": "markers",
           "name": "MSFT",
           "orientation": "v",
           "showlegend": true,
           "type": "scatter",
           "x": [
            "2023-05-28T00:00:00"
           ],
           "xaxis": "x",
           "y": [
            321.14008178710935
           ],
           "yaxis": "y"
          },
          {
           "hovertemplate": "variable=TSLA<br>Date=%{x}<br>Weekly Average Price=%{y}<extra></extra>",
           "legendgroup": "TSLA",
           "marker": {
            "color": "#00cc96",
            "symbol": "circle"
           },
           "mode": "markers",
           "name": "TSLA",
           "orientation": "v",
           "showlegend": true,
           "type": "scatter",
           "x": [
            "2023-05-28T00:00:00"
           ],
           "xaxis": "x",
           "y": [
            187.03599853515624
           ],
           "yaxis": "y"
          }
         ],
         "name": "2023-05-28 00:00:00"
        },
        {
         "data": [
          {
           "hovertemplate": "variable=AAPL<br>Date=%{x}<br>Weekly Average Price=%{y}<extra></extra>",
           "legendgroup": "AAPL",
           "marker": {
            "color": "#636efa",
            "symbol": "circle"
           },
           "mode": "markers",
           "name": "AAPL",
           "orientation": "v",
           "showlegend": true,
           "type": "scatter",
           "x": [
            "2023-06-04T00:00:00"
           ],
           "xaxis": "x",
           "y": [
            178.65624618530273
           ],
           "yaxis": "y"
          },
          {
           "hovertemplate": "variable=MSFT<br>Date=%{x}<br>Weekly Average Price=%{y}<extra></extra>",
           "legendgroup": "MSFT",
           "marker": {
            "color": "#EF553B",
            "symbol": "circle"
           },
           "mode": "markers",
           "name": "MSFT",
           "orientation": "v",
           "showlegend": true,
           "type": "scatter",
           "x": [
            "2023-06-04T00:00:00"
           ],
           "xaxis": "x",
           "y": [
            331.1937789916992
           ],
           "yaxis": "y"
          },
          {
           "hovertemplate": "variable=TSLA<br>Date=%{x}<br>Weekly Average Price=%{y}<extra></extra>",
           "legendgroup": "TSLA",
           "marker": {
            "color": "#00cc96",
            "symbol": "circle"
           },
           "mode": "markers",
           "name": "TSLA",
           "orientation": "v",
           "showlegend": true,
           "type": "scatter",
           "x": [
            "2023-06-04T00:00:00"
           ],
           "xaxis": "x",
           "y": [
            206.64500045776367
           ],
           "yaxis": "y"
          }
         ],
         "name": "2023-06-04 00:00:00"
        },
        {
         "data": [
          {
           "hovertemplate": "variable=AAPL<br>Date=%{x}<br>Weekly Average Price=%{y}<extra></extra>",
           "legendgroup": "AAPL",
           "marker": {
            "color": "#636efa",
            "symbol": "circle"
           },
           "mode": "markers",
           "name": "AAPL",
           "orientation": "v",
           "showlegend": true,
           "type": "scatter",
           "x": [
            "2023-06-11T00:00:00"
           ],
           "xaxis": "x",
           "y": [
            179.3857666015625
           ],
           "yaxis": "y"
          },
          {
           "hovertemplate": "variable=MSFT<br>Date=%{x}<br>Weekly Average Price=%{y}<extra></extra>",
           "legendgroup": "MSFT",
           "marker": {
            "color": "#EF553B",
            "symbol": "circle"
           },
           "mode": "markers",
           "name": "MSFT",
           "orientation": "v",
           "showlegend": true,
           "type": "scatter",
           "x": [
            "2023-06-11T00:00:00"
           ],
           "xaxis": "x",
           "y": [
            328.31488647460935
           ],
           "yaxis": "y"
          },
          {
           "hovertemplate": "variable=TSLA<br>Date=%{x}<br>Weekly Average Price=%{y}<extra></extra>",
           "legendgroup": "TSLA",
           "marker": {
            "color": "#00cc96",
            "symbol": "circle"
           },
           "mode": "markers",
           "name": "TSLA",
           "orientation": "v",
           "showlegend": true,
           "type": "scatter",
           "x": [
            "2023-06-11T00:00:00"
           ],
           "xaxis": "x",
           "y": [
            228.55
           ],
           "yaxis": "y"
          }
         ],
         "name": "2023-06-11 00:00:00"
        },
        {
         "data": [
          {
           "hovertemplate": "variable=AAPL<br>Date=%{x}<br>Weekly Average Price=%{y}<extra></extra>",
           "legendgroup": "AAPL",
           "marker": {
            "color": "#636efa",
            "symbol": "circle"
           },
           "mode": "markers",
           "name": "AAPL",
           "orientation": "v",
           "showlegend": true,
           "type": "scatter",
           "x": [
            "2023-06-18T00:00:00"
           ],
           "xaxis": "x",
           "y": [
            184.14732971191407
           ],
           "yaxis": "y"
          },
          {
           "hovertemplate": "variable=MSFT<br>Date=%{x}<br>Weekly Average Price=%{y}<extra></extra>",
           "legendgroup": "MSFT",
           "marker": {
            "color": "#EF553B",
            "symbol": "circle"
           },
           "mode": "markers",
           "name": "MSFT",
           "orientation": "v",
           "showlegend": true,
           "type": "scatter",
           "x": [
            "2023-06-18T00:00:00"
           ],
           "xaxis": "x",
           "y": [
            338.0662414550781
           ],
           "yaxis": "y"
          },
          {
           "hovertemplate": "variable=TSLA<br>Date=%{x}<br>Weekly Average Price=%{y}<extra></extra>",
           "legendgroup": "TSLA",
           "marker": {
            "color": "#00cc96",
            "symbol": "circle"
           },
           "mode": "markers",
           "name": "TSLA",
           "orientation": "v",
           "showlegend": true,
           "type": "scatter",
           "x": [
            "2023-06-18T00:00:00"
           ],
           "xaxis": "x",
           "y": [
            256.3540008544922
           ],
           "yaxis": "y"
          }
         ],
         "name": "2023-06-18 00:00:00"
        },
        {
         "data": [
          {
           "hovertemplate": "variable=AAPL<br>Date=%{x}<br>Weekly Average Price=%{y}<extra></extra>",
           "legendgroup": "AAPL",
           "marker": {
            "color": "#636efa",
            "symbol": "circle"
           },
           "mode": "markers",
           "name": "AAPL",
           "orientation": "v",
           "showlegend": true,
           "type": "scatter",
           "x": [
            "2023-06-25T00:00:00"
           ],
           "xaxis": "x",
           "y": [
            185.4121208190918
           ],
           "yaxis": "y"
          },
          {
           "hovertemplate": "variable=MSFT<br>Date=%{x}<br>Weekly Average Price=%{y}<extra></extra>",
           "legendgroup": "MSFT",
           "marker": {
            "color": "#EF553B",
            "symbol": "circle"
           },
           "mode": "markers",
           "name": "MSFT",
           "orientation": "v",
           "showlegend": true,
           "type": "scatter",
           "x": [
            "2023-06-25T00:00:00"
           ],
           "xaxis": "x",
           "y": [
            335.8738708496094
           ],
           "yaxis": "y"
          },
          {
           "hovertemplate": "variable=TSLA<br>Date=%{x}<br>Weekly Average Price=%{y}<extra></extra>",
           "legendgroup": "TSLA",
           "marker": {
            "color": "#00cc96",
            "symbol": "circle"
           },
           "mode": "markers",
           "name": "TSLA",
           "orientation": "v",
           "showlegend": true,
           "type": "scatter",
           "x": [
            "2023-06-25T00:00:00"
           ],
           "xaxis": "x",
           "y": [
            263.7799987792969
           ],
           "yaxis": "y"
          }
         ],
         "name": "2023-06-25 00:00:00"
        },
        {
         "data": [
          {
           "hovertemplate": "variable=AAPL<br>Date=%{x}<br>Weekly Average Price=%{y}<extra></extra>",
           "legendgroup": "AAPL",
           "marker": {
            "color": "#636efa",
            "symbol": "circle"
           },
           "mode": "markers",
           "name": "AAPL",
           "orientation": "v",
           "showlegend": true,
           "type": "scatter",
           "x": [
            "2023-07-02T00:00:00"
           ],
           "xaxis": "x",
           "y": [
            188.97281188964843
           ],
           "yaxis": "y"
          },
          {
           "hovertemplate": "variable=MSFT<br>Date=%{x}<br>Weekly Average Price=%{y}<extra></extra>",
           "legendgroup": "MSFT",
           "marker": {
            "color": "#EF553B",
            "symbol": "circle"
           },
           "mode": "markers",
           "name": "MSFT",
           "orientation": "v",
           "showlegend": true,
           "type": "scatter",
           "x": [
            "2023-07-02T00:00:00"
           ],
           "xaxis": "x",
           "y": [
            334.2143981933594
           ],
           "yaxis": "y"
          },
          {
           "hovertemplate": "variable=TSLA<br>Date=%{x}<br>Weekly Average Price=%{y}<extra></extra>",
           "legendgroup": "TSLA",
           "marker": {
            "color": "#00cc96",
            "symbol": "circle"
           },
           "mode": "markers",
           "name": "TSLA",
           "orientation": "v",
           "showlegend": true,
           "type": "scatter",
           "x": [
            "2023-07-02T00:00:00"
           ],
           "xaxis": "x",
           "y": [
            253.35399780273437
           ],
           "yaxis": "y"
          }
         ],
         "name": "2023-07-02 00:00:00"
        },
        {
         "data": [
          {
           "hovertemplate": "variable=AAPL<br>Date=%{x}<br>Weekly Average Price=%{y}<extra></extra>",
           "legendgroup": "AAPL",
           "marker": {
            "color": "#636efa",
            "symbol": "circle"
           },
           "mode": "markers",
           "name": "AAPL",
           "orientation": "v",
           "showlegend": true,
           "type": "scatter",
           "x": [
            "2023-07-09T00:00:00"
           ],
           "xaxis": "x",
           "y": [
            191.3116569519043
           ],
           "yaxis": "y"
          },
          {
           "hovertemplate": "variable=MSFT<br>Date=%{x}<br>Weekly Average Price=%{y}<extra></extra>",
           "legendgroup": "MSFT",
           "marker": {
            "color": "#EF553B",
            "symbol": "circle"
           },
           "mode": "markers",
           "name": "MSFT",
           "orientation": "v",
           "showlegend": true,
           "type": "scatter",
           "x": [
            "2023-07-09T00:00:00"
           ],
           "xaxis": "x",
           "y": [
            337.94200134277344
           ],
           "yaxis": "y"
          },
          {
           "hovertemplate": "variable=TSLA<br>Date=%{x}<br>Weekly Average Price=%{y}<extra></extra>",
           "legendgroup": "TSLA",
           "marker": {
            "color": "#00cc96",
            "symbol": "circle"
           },
           "mode": "markers",
           "name": "TSLA",
           "orientation": "v",
           "showlegend": true,
           "type": "scatter",
           "x": [
            "2023-07-09T00:00:00"
           ],
           "xaxis": "x",
           "y": [
            278.3175048828125
           ],
           "yaxis": "y"
          }
         ],
         "name": "2023-07-09 00:00:00"
        },
        {
         "data": [
          {
           "hovertemplate": "variable=AAPL<br>Date=%{x}<br>Weekly Average Price=%{y}<extra></extra>",
           "legendgroup": "AAPL",
           "marker": {
            "color": "#636efa",
            "symbol": "circle"
           },
           "mode": "markers",
           "name": "AAPL",
           "orientation": "v",
           "showlegend": true,
           "type": "scatter",
           "x": [
            "2023-07-16T00:00:00"
           ],
           "xaxis": "x",
           "y": [
            189.2823974609375
           ],
           "yaxis": "y"
          },
          {
           "hovertemplate": "variable=MSFT<br>Date=%{x}<br>Weekly Average Price=%{y}<extra></extra>",
           "legendgroup": "MSFT",
           "marker": {
            "color": "#EF553B",
            "symbol": "circle"
           },
           "mode": "markers",
           "name": "MSFT",
           "orientation": "v",
           "showlegend": true,
           "type": "scatter",
           "x": [
            "2023-07-16T00:00:00"
           ],
           "xaxis": "x",
           "y": [
            337.1661376953125
           ],
           "yaxis": "y"
          },
          {
           "hovertemplate": "variable=TSLA<br>Date=%{x}<br>Weekly Average Price=%{y}<extra></extra>",
           "legendgroup": "TSLA",
           "marker": {
            "color": "#00cc96",
            "symbol": "circle"
           },
           "mode": "markers",
           "name": "TSLA",
           "orientation": "v",
           "showlegend": true,
           "type": "scatter",
           "x": [
            "2023-07-16T00:00:00"
           ],
           "xaxis": "x",
           "y": [
            274.1339965820313
           ],
           "yaxis": "y"
          }
         ],
         "name": "2023-07-16 00:00:00"
        },
        {
         "data": [
          {
           "hovertemplate": "variable=AAPL<br>Date=%{x}<br>Weekly Average Price=%{y}<extra></extra>",
           "legendgroup": "AAPL",
           "marker": {
            "color": "#636efa",
            "symbol": "circle"
           },
           "mode": "markers",
           "name": "AAPL",
           "orientation": "v",
           "showlegend": true,
           "type": "scatter",
           "x": [
            "2023-07-23T00:00:00"
           ],
           "xaxis": "x",
           "y": [
            193.31694946289062
           ],
           "yaxis": "y"
          },
          {
           "hovertemplate": "variable=MSFT<br>Date=%{x}<br>Weekly Average Price=%{y}<extra></extra>",
           "legendgroup": "MSFT",
           "marker": {
            "color": "#EF553B",
            "symbol": "circle"
           },
           "mode": "markers",
           "name": "MSFT",
           "orientation": "v",
           "showlegend": true,
           "type": "scatter",
           "x": [
            "2023-07-23T00:00:00"
           ],
           "xaxis": "x",
           "y": [
            349.44813842773436
           ],
           "yaxis": "y"
          },
          {
           "hovertemplate": "variable=TSLA<br>Date=%{x}<br>Weekly Average Price=%{y}<extra></extra>",
           "legendgroup": "TSLA",
           "marker": {
            "color": "#00cc96",
            "symbol": "circle"
           },
           "mode": "markers",
           "name": "TSLA",
           "orientation": "v",
           "showlegend": true,
           "type": "scatter",
           "x": [
            "2023-07-23T00:00:00"
           ],
           "xaxis": "x",
           "y": [
            279.5799987792969
           ],
           "yaxis": "y"
          }
         ],
         "name": "2023-07-23 00:00:00"
        },
        {
         "data": [
          {
           "hovertemplate": "variable=AAPL<br>Date=%{x}<br>Weekly Average Price=%{y}<extra></extra>",
           "legendgroup": "AAPL",
           "marker": {
            "color": "#636efa",
            "symbol": "circle"
           },
           "mode": "markers",
           "name": "AAPL",
           "orientation": "v",
           "showlegend": true,
           "type": "scatter",
           "x": [
            "2023-07-30T00:00:00"
           ],
           "xaxis": "x",
           "y": [
            193.72239990234374
           ],
           "yaxis": "y"
          },
          {
           "hovertemplate": "variable=MSFT<br>Date=%{x}<br>Weekly Average Price=%{y}<extra></extra>",
           "legendgroup": "MSFT",
           "marker": {
            "color": "#EF553B",
            "symbol": "circle"
           },
           "mode": "markers",
           "name": "MSFT",
           "orientation": "v",
           "showlegend": true,
           "type": "scatter",
           "x": [
            "2023-07-30T00:00:00"
           ],
           "xaxis": "x",
           "y": [
            339.87041015625
           ],
           "yaxis": "y"
          },
          {
           "hovertemplate": "variable=TSLA<br>Date=%{x}<br>Weekly Average Price=%{y}<extra></extra>",
           "legendgroup": "TSLA",
           "marker": {
            "color": "#00cc96",
            "symbol": "circle"
           },
           "mode": "markers",
           "name": "TSLA",
           "orientation": "v",
           "showlegend": true,
           "type": "scatter",
           "x": [
            "2023-07-30T00:00:00"
           ],
           "xaxis": "x",
           "y": [
            264.1680023193359
           ],
           "yaxis": "y"
          }
         ],
         "name": "2023-07-30 00:00:00"
        },
        {
         "data": [
          {
           "hovertemplate": "variable=AAPL<br>Date=%{x}<br>Weekly Average Price=%{y}<extra></extra>",
           "legendgroup": "AAPL",
           "marker": {
            "color": "#636efa",
            "symbol": "circle"
           },
           "mode": "markers",
           "name": "AAPL",
           "orientation": "v",
           "showlegend": true,
           "type": "scatter",
           "x": [
            "2023-08-06T00:00:00"
           ],
           "xaxis": "x",
           "y": [
            191.30167236328126
           ],
           "yaxis": "y"
          },
          {
           "hovertemplate": "variable=MSFT<br>Date=%{x}<br>Weekly Average Price=%{y}<extra></extra>",
           "legendgroup": "MSFT",
           "marker": {
            "color": "#EF553B",
            "symbol": "circle"
           },
           "mode": "markers",
           "name": "MSFT",
           "orientation": "v",
           "showlegend": true,
           "type": "scatter",
           "x": [
            "2023-08-06T00:00:00"
           ],
           "xaxis": "x",
           "y": [
            330.1410217285156
           ],
           "yaxis": "y"
          },
          {
           "hovertemplate": "variable=TSLA<br>Date=%{x}<br>Weekly Average Price=%{y}<extra></extra>",
           "legendgroup": "TSLA",
           "marker": {
            "color": "#00cc96",
            "symbol": "circle"
           },
           "mode": "markers",
           "name": "TSLA",
           "orientation": "v",
           "showlegend": true,
           "type": "scatter",
           "x": [
            "2023-08-06T00:00:00"
           ],
           "xaxis": "x",
           "y": [
            259.1580017089844
           ],
           "yaxis": "y"
          }
         ],
         "name": "2023-08-06 00:00:00"
        },
        {
         "data": [
          {
           "hovertemplate": "variable=AAPL<br>Date=%{x}<br>Weekly Average Price=%{y}<extra></extra>",
           "legendgroup": "AAPL",
           "marker": {
            "color": "#636efa",
            "symbol": "circle"
           },
           "mode": "markers",
           "name": "AAPL",
           "orientation": "v",
           "showlegend": true,
           "type": "scatter",
           "x": [
            "2023-08-13T00:00:00"
           ],
           "xaxis": "x",
           "y": [
            178.32720642089845
           ],
           "yaxis": "y"
          },
          {
           "hovertemplate": "variable=MSFT<br>Date=%{x}<br>Weekly Average Price=%{y}<extra></extra>",
           "legendgroup": "MSFT",
           "marker": {
            "color": "#EF553B",
            "symbol": "circle"
           },
           "mode": "markers",
           "name": "MSFT",
           "orientation": "v",
           "showlegend": true,
           "type": "scatter",
           "x": [
            "2023-08-13T00:00:00"
           ],
           "xaxis": "x",
           "y": [
            323.7804748535156
           ],
           "yaxis": "y"
          },
          {
           "hovertemplate": "variable=TSLA<br>Date=%{x}<br>Weekly Average Price=%{y}<extra></extra>",
           "legendgroup": "TSLA",
           "marker": {
            "color": "#00cc96",
            "symbol": "circle"
           },
           "mode": "markers",
           "name": "TSLA",
           "orientation": "v",
           "showlegend": true,
           "type": "scatter",
           "x": [
            "2023-08-13T00:00:00"
           ],
           "xaxis": "x",
           "y": [
            246.26599731445313
           ],
           "yaxis": "y"
          }
         ],
         "name": "2023-08-13 00:00:00"
        },
        {
         "data": [
          {
           "hovertemplate": "variable=AAPL<br>Date=%{x}<br>Weekly Average Price=%{y}<extra></extra>",
           "legendgroup": "AAPL",
           "marker": {
            "color": "#636efa",
            "symbol": "circle"
           },
           "mode": "markers",
           "name": "AAPL",
           "orientation": "v",
           "showlegend": true,
           "type": "scatter",
           "x": [
            "2023-08-20T00:00:00"
           ],
           "xaxis": "x",
           "y": [
            176.39400329589844
           ],
           "yaxis": "y"
          },
          {
           "hovertemplate": "variable=MSFT<br>Date=%{x}<br>Weekly Average Price=%{y}<extra></extra>",
           "legendgroup": "MSFT",
           "marker": {
            "color": "#EF553B",
            "symbol": "circle"
           },
           "mode": "markers",
           "name": "MSFT",
           "orientation": "v",
           "showlegend": true,
           "type": "scatter",
           "x": [
            "2023-08-20T00:00:00"
           ],
           "xaxis": "x",
           "y": [
            319.65907592773436
           ],
           "yaxis": "y"
          },
          {
           "hovertemplate": "variable=TSLA<br>Date=%{x}<br>Weekly Average Price=%{y}<extra></extra>",
           "legendgroup": "TSLA",
           "marker": {
            "color": "#00cc96",
            "symbol": "circle"
           },
           "mode": "markers",
           "name": "TSLA",
           "orientation": "v",
           "showlegend": true,
           "type": "scatter",
           "x": [
            "2023-08-20T00:00:00"
           ],
           "xaxis": "x",
           "y": [
            226.6060028076172
           ],
           "yaxis": "y"
          }
         ],
         "name": "2023-08-20 00:00:00"
        },
        {
         "data": [
          {
           "hovertemplate": "variable=AAPL<br>Date=%{x}<br>Weekly Average Price=%{y}<extra></extra>",
           "legendgroup": "AAPL",
           "marker": {
            "color": "#636efa",
            "symbol": "circle"
           },
           "mode": "markers",
           "name": "AAPL",
           "orientation": "v",
           "showlegend": true,
           "type": "scatter",
           "x": [
            "2023-08-27T00:00:00"
           ],
           "xaxis": "x",
           "y": [
            177.83599853515625
           ],
           "yaxis": "y"
          },
          {
           "hovertemplate": "variable=MSFT<br>Date=%{x}<br>Weekly Average Price=%{y}<extra></extra>",
           "legendgroup": "MSFT",
           "marker": {
            "color": "#EF553B",
            "symbol": "circle"
           },
           "mode": "markers",
           "name": "MSFT",
           "orientation": "v",
           "showlegend": true,
           "type": "scatter",
           "x": [
            "2023-08-27T00:00:00"
           ],
           "xaxis": "x",
           "y": [
            322.8580017089844
           ],
           "yaxis": "y"
          },
          {
           "hovertemplate": "variable=TSLA<br>Date=%{x}<br>Weekly Average Price=%{y}<extra></extra>",
           "legendgroup": "TSLA",
           "marker": {
            "color": "#00cc96",
            "symbol": "circle"
           },
           "mode": "markers",
           "name": "TSLA",
           "orientation": "v",
           "showlegend": true,
           "type": "scatter",
           "x": [
            "2023-08-27T00:00:00"
           ],
           "xaxis": "x",
           "y": [
            233.99199829101562
           ],
           "yaxis": "y"
          }
         ],
         "name": "2023-08-27 00:00:00"
        },
        {
         "data": [
          {
           "hovertemplate": "variable=AAPL<br>Date=%{x}<br>Weekly Average Price=%{y}<extra></extra>",
           "legendgroup": "AAPL",
           "marker": {
            "color": "#636efa",
            "symbol": "circle"
           },
           "mode": "markers",
           "name": "AAPL",
           "orientation": "v",
           "showlegend": true,
           "type": "scatter",
           "x": [
            "2023-09-03T00:00:00"
           ],
           "xaxis": "x",
           "y": [
            185.85799865722657
           ],
           "yaxis": "y"
          },
          {
           "hovertemplate": "variable=MSFT<br>Date=%{x}<br>Weekly Average Price=%{y}<extra></extra>",
           "legendgroup": "MSFT",
           "marker": {
            "color": "#EF553B",
            "symbol": "circle"
           },
           "mode": "markers",
           "name": "MSFT",
           "orientation": "v",
           "showlegend": true,
           "type": "scatter",
           "x": [
            "2023-09-03T00:00:00"
           ],
           "xaxis": "x",
           "y": [
            327.46400756835936
           ],
           "yaxis": "y"
          },
          {
           "hovertemplate": "variable=TSLA<br>Date=%{x}<br>Weekly Average Price=%{y}<extra></extra>",
           "legendgroup": "TSLA",
           "marker": {
            "color": "#00cc96",
            "symbol": "circle"
           },
           "mode": "markers",
           "name": "TSLA",
           "orientation": "v",
           "showlegend": true,
           "type": "scatter",
           "x": [
            "2023-09-03T00:00:00"
           ],
           "xaxis": "x",
           "y": [
            251.1979949951172
           ],
           "yaxis": "y"
          }
         ],
         "name": "2023-09-03 00:00:00"
        },
        {
         "data": [
          {
           "hovertemplate": "variable=AAPL<br>Date=%{x}<br>Weekly Average Price=%{y}<extra></extra>",
           "legendgroup": "AAPL",
           "marker": {
            "color": "#636efa",
            "symbol": "circle"
           },
           "mode": "markers",
           "name": "AAPL",
           "orientation": "v",
           "showlegend": true,
           "type": "scatter",
           "x": [
            "2023-09-10T00:00:00"
           ],
           "xaxis": "x",
           "y": [
            182.08749771118164
           ],
           "yaxis": "y"
          },
          {
           "hovertemplate": "variable=MSFT<br>Date=%{x}<br>Weekly Average Price=%{y}<extra></extra>",
           "legendgroup": "MSFT",
           "marker": {
            "color": "#EF553B",
            "symbol": "circle"
           },
           "mode": "markers",
           "name": "MSFT",
           "orientation": "v",
           "showlegend": true,
           "type": "scatter",
           "x": [
            "2023-09-10T00:00:00"
           ],
           "xaxis": "x",
           "y": [
            332.6524963378906
           ],
           "yaxis": "y"
          },
          {
           "hovertemplate": "variable=TSLA<br>Date=%{x}<br>Weekly Average Price=%{y}<extra></extra>",
           "legendgroup": "TSLA",
           "marker": {
            "color": "#00cc96",
            "symbol": "circle"
           },
           "mode": "markers",
           "name": "TSLA",
           "orientation": "v",
           "showlegend": true,
           "type": "scatter",
           "x": [
            "2023-09-10T00:00:00"
           ],
           "xaxis": "x",
           "y": [
            252.0999984741211
           ],
           "yaxis": "y"
          }
         ],
         "name": "2023-09-10 00:00:00"
        },
        {
         "data": [
          {
           "hovertemplate": "variable=AAPL<br>Date=%{x}<br>Weekly Average Price=%{y}<extra></extra>",
           "legendgroup": "AAPL",
           "marker": {
            "color": "#636efa",
            "symbol": "circle"
           },
           "mode": "markers",
           "name": "AAPL",
           "orientation": "v",
           "showlegend": true,
           "type": "scatter",
           "x": [
            "2023-09-17T00:00:00"
           ],
           "xaxis": "x",
           "y": [
            176.1240020751953
           ],
           "yaxis": "y"
          },
          {
           "hovertemplate": "variable=MSFT<br>Date=%{x}<br>Weekly Average Price=%{y}<extra></extra>",
           "legendgroup": "MSFT",
           "marker": {
            "color": "#EF553B",
            "symbol": "circle"
           },
           "mode": "markers",
           "name": "MSFT",
           "orientation": "v",
           "showlegend": true,
           "type": "scatter",
           "x": [
            "2023-09-17T00:00:00"
           ],
           "xaxis": "x",
           "y": [
            334.93800048828126
           ],
           "yaxis": "y"
          },
          {
           "hovertemplate": "variable=TSLA<br>Date=%{x}<br>Weekly Average Price=%{y}<extra></extra>",
           "legendgroup": "TSLA",
           "marker": {
            "color": "#00cc96",
            "symbol": "circle"
           },
           "mode": "markers",
           "name": "TSLA",
           "orientation": "v",
           "showlegend": true,
           "type": "scatter",
           "x": [
            "2023-09-17T00:00:00"
           ],
           "xaxis": "x",
           "y": [
            272.55800170898436
           ],
           "yaxis": "y"
          }
         ],
         "name": "2023-09-17 00:00:00"
        },
        {
         "data": [
          {
           "hovertemplate": "variable=AAPL<br>Date=%{x}<br>Weekly Average Price=%{y}<extra></extra>",
           "legendgroup": "AAPL",
           "marker": {
            "color": "#636efa",
            "symbol": "circle"
           },
           "mode": "markers",
           "name": "AAPL",
           "orientation": "v",
           "showlegend": true,
           "type": "scatter",
           "x": [
            "2023-09-24T00:00:00"
           ],
           "xaxis": "x",
           "y": [
            176.25
           ],
           "yaxis": "y"
          },
          {
           "hovertemplate": "variable=MSFT<br>Date=%{x}<br>Weekly Average Price=%{y}<extra></extra>",
           "legendgroup": "MSFT",
           "marker": {
            "color": "#EF553B",
            "symbol": "circle"
           },
           "mode": "markers",
           "name": "MSFT",
           "orientation": "v",
           "showlegend": true,
           "type": "scatter",
           "x": [
            "2023-09-24T00:00:00"
           ],
           "xaxis": "x",
           "y": [
            323.0039978027344
           ],
           "yaxis": "y"
          },
          {
           "hovertemplate": "variable=TSLA<br>Date=%{x}<br>Weekly Average Price=%{y}<extra></extra>",
           "legendgroup": "TSLA",
           "marker": {
            "color": "#00cc96",
            "symbol": "circle"
           },
           "mode": "markers",
           "name": "TSLA",
           "orientation": "v",
           "showlegend": true,
           "type": "scatter",
           "x": [
            "2023-09-24T00:00:00"
           ],
           "xaxis": "x",
           "y": [
            258.98999938964846
           ],
           "yaxis": "y"
          }
         ],
         "name": "2023-09-24 00:00:00"
        },
        {
         "data": [
          {
           "hovertemplate": "variable=AAPL<br>Date=%{x}<br>Weekly Average Price=%{y}<extra></extra>",
           "legendgroup": "AAPL",
           "marker": {
            "color": "#636efa",
            "symbol": "circle"
           },
           "mode": "markers",
           "name": "AAPL",
           "orientation": "v",
           "showlegend": true,
           "type": "scatter",
           "x": [
            "2023-10-01T00:00:00"
           ],
           "xaxis": "x",
           "y": [
            172.07400207519532
           ],
           "yaxis": "y"
          },
          {
           "hovertemplate": "variable=MSFT<br>Date=%{x}<br>Weekly Average Price=%{y}<extra></extra>",
           "legendgroup": "MSFT",
           "marker": {
            "color": "#EF553B",
            "symbol": "circle"
           },
           "mode": "markers",
           "name": "MSFT",
           "orientation": "v",
           "showlegend": true,
           "type": "scatter",
           "x": [
            "2023-10-01T00:00:00"
           ],
           "xaxis": "x",
           "y": [
            314.37200927734375
           ],
           "yaxis": "y"
          },
          {
           "hovertemplate": "variable=TSLA<br>Date=%{x}<br>Weekly Average Price=%{y}<extra></extra>",
           "legendgroup": "TSLA",
           "marker": {
            "color": "#00cc96",
            "symbol": "circle"
           },
           "mode": "markers",
           "name": "TSLA",
           "orientation": "v",
           "showlegend": true,
           "type": "scatter",
           "x": [
            "2023-10-01T00:00:00"
           ],
           "xaxis": "x",
           "y": [
            245.64200134277343
           ],
           "yaxis": "y"
          }
         ],
         "name": "2023-10-01 00:00:00"
        },
        {
         "data": [
          {
           "hovertemplate": "variable=AAPL<br>Date=%{x}<br>Weekly Average Price=%{y}<extra></extra>",
           "legendgroup": "AAPL",
           "marker": {
            "color": "#636efa",
            "symbol": "circle"
           },
           "mode": "markers",
           "name": "AAPL",
           "orientation": "v",
           "showlegend": true,
           "type": "scatter",
           "x": [
            "2023-10-08T00:00:00"
           ],
           "xaxis": "x",
           "y": [
            174.44200134277344
           ],
           "yaxis": "y"
          },
          {
           "hovertemplate": "variable=MSFT<br>Date=%{x}<br>Weekly Average Price=%{y}<extra></extra>",
           "legendgroup": "MSFT",
           "marker": {
            "color": "#EF553B",
            "symbol": "circle"
           },
           "mode": "markers",
           "name": "MSFT",
           "orientation": "v",
           "showlegend": true,
           "type": "scatter",
           "x": [
            "2023-10-08T00:00:00"
           ],
           "xaxis": "x",
           "y": [
            320.15399780273435
           ],
           "yaxis": "y"
          },
          {
           "hovertemplate": "variable=TSLA<br>Date=%{x}<br>Weekly Average Price=%{y}<extra></extra>",
           "legendgroup": "TSLA",
           "marker": {
            "color": "#00cc96",
            "symbol": "circle"
           },
           "mode": "markers",
           "name": "TSLA",
           "orientation": "v",
           "showlegend": true,
           "type": "scatter",
           "x": [
            "2023-10-08T00:00:00"
           ],
           "xaxis": "x",
           "y": [
            255.9739990234375
           ],
           "yaxis": "y"
          }
         ],
         "name": "2023-10-08 00:00:00"
        },
        {
         "data": [
          {
           "hovertemplate": "variable=AAPL<br>Date=%{x}<br>Weekly Average Price=%{y}<extra></extra>",
           "legendgroup": "AAPL",
           "marker": {
            "color": "#636efa",
            "symbol": "circle"
           },
           "mode": "markers",
           "name": "AAPL",
           "orientation": "v",
           "showlegend": true,
           "type": "scatter",
           "x": [
            "2023-10-15T00:00:00"
           ],
           "xaxis": "x",
           "y": [
            179.34800415039064
           ],
           "yaxis": "y"
          },
          {
           "hovertemplate": "variable=MSFT<br>Date=%{x}<br>Weekly Average Price=%{y}<extra></extra>",
           "legendgroup": "MSFT",
           "marker": {
            "color": "#EF553B",
            "symbol": "circle"
           },
           "mode": "markers",
           "name": "MSFT",
           "orientation": "v",
           "showlegend": true,
           "type": "scatter",
           "x": [
            "2023-10-15T00:00:00"
           ],
           "xaxis": "x",
           "y": [
            329.9040100097656
           ],
           "yaxis": "y"
          },
          {
           "hovertemplate": "variable=TSLA<br>Date=%{x}<br>Weekly Average Price=%{y}<extra></extra>",
           "legendgroup": "TSLA",
           "marker": {
            "color": "#00cc96",
            "symbol": "circle"
           },
           "mode": "markers",
           "name": "TSLA",
           "orientation": "v",
           "showlegend": true,
           "type": "scatter",
           "x": [
            "2023-10-15T00:00:00"
           ],
           "xaxis": "x",
           "y": [
            259.2539978027344
           ],
           "yaxis": "y"
          }
         ],
         "name": "2023-10-15 00:00:00"
        },
        {
         "data": [
          {
           "hovertemplate": "variable=AAPL<br>Date=%{x}<br>Weekly Average Price=%{y}<extra></extra>",
           "legendgroup": "AAPL",
           "marker": {
            "color": "#636efa",
            "symbol": "circle"
           },
           "mode": "markers",
           "name": "AAPL",
           "orientation": "v",
           "showlegend": true,
           "type": "scatter",
           "x": [
            "2023-10-22T00:00:00"
           ],
           "xaxis": "x",
           "y": [
            176.01000061035157
           ],
           "yaxis": "y"
          },
          {
           "hovertemplate": "variable=MSFT<br>Date=%{x}<br>Weekly Average Price=%{y}<extra></extra>",
           "legendgroup": "MSFT",
           "marker": {
            "color": "#EF553B",
            "symbol": "circle"
           },
           "mode": "markers",
           "name": "MSFT",
           "orientation": "v",
           "showlegend": true,
           "type": "scatter",
           "x": [
            "2023-10-22T00:00:00"
           ],
           "xaxis": "x",
           "y": [
            330.56000366210935
           ],
           "yaxis": "y"
          },
          {
           "hovertemplate": "variable=TSLA<br>Date=%{x}<br>Weekly Average Price=%{y}<extra></extra>",
           "legendgroup": "TSLA",
           "marker": {
            "color": "#00cc96",
            "symbol": "circle"
           },
           "mode": "markers",
           "name": "TSLA",
           "orientation": "v",
           "showlegend": true,
           "type": "scatter",
           "x": [
            "2023-10-22T00:00:00"
           ],
           "xaxis": "x",
           "y": [
            236.71000061035156
           ],
           "yaxis": "y"
          }
         ],
         "name": "2023-10-22 00:00:00"
        },
        {
         "data": [
          {
           "hovertemplate": "variable=AAPL<br>Date=%{x}<br>Weekly Average Price=%{y}<extra></extra>",
           "legendgroup": "AAPL",
           "marker": {
            "color": "#636efa",
            "symbol": "circle"
           },
           "mode": "markers",
           "name": "AAPL",
           "orientation": "v",
           "showlegend": true,
           "type": "scatter",
           "x": [
            "2023-10-29T00:00:00"
           ],
           "xaxis": "x",
           "y": [
            173.22000122070312
           ],
           "yaxis": "y"
          },
          {
           "hovertemplate": "variable=MSFT<br>Date=%{x}<br>Weekly Average Price=%{y}<extra></extra>",
           "legendgroup": "MSFT",
           "marker": {
            "color": "#EF553B",
            "symbol": "circle"
           },
           "mode": "markers",
           "name": "MSFT",
           "orientation": "v",
           "showlegend": true,
           "type": "scatter",
           "x": [
            "2023-10-29T00:00:00"
           ],
           "xaxis": "x",
           "y": [
            329.9250030517578
           ],
           "yaxis": "y"
          },
          {
           "hovertemplate": "variable=TSLA<br>Date=%{x}<br>Weekly Average Price=%{y}<extra></extra>",
           "legendgroup": "TSLA",
           "marker": {
            "color": "#00cc96",
            "symbol": "circle"
           },
           "mode": "markers",
           "name": "TSLA",
           "orientation": "v",
           "showlegend": true,
           "type": "scatter",
           "x": [
            "2023-10-29T00:00:00"
           ],
           "xaxis": "x",
           "y": [
            214.3000030517578
           ],
           "yaxis": "y"
          }
         ],
         "name": "2023-10-29 00:00:00"
        }
       ],
       "layout": {
        "legend": {
         "title": {
          "text": "variable"
         },
         "tracegroupgap": 0
        },
        "sliders": [
         {
          "active": 0,
          "currentvalue": {
           "prefix": "Date="
          },
          "len": 0.9,
          "pad": {
           "b": 10,
           "t": 60
          },
          "steps": [
           {
            "args": [
             [
              "2023-01-08 00:00:00"
             ],
             {
              "frame": {
               "duration": 0,
               "redraw": false
              },
              "fromcurrent": true,
              "mode": "immediate",
              "transition": {
               "duration": 0,
               "easing": "linear"
              }
             }
            ],
            "label": "2023-01-08 00:00:00",
            "method": "animate"
           },
           {
            "args": [
             [
              "2023-01-15 00:00:00"
             ],
             {
              "frame": {
               "duration": 0,
               "redraw": false
              },
              "fromcurrent": true,
              "mode": "immediate",
              "transition": {
               "duration": 0,
               "easing": "linear"
              }
             }
            ],
            "label": "2023-01-15 00:00:00",
            "method": "animate"
           },
           {
            "args": [
             [
              "2023-01-22 00:00:00"
             ],
             {
              "frame": {
               "duration": 0,
               "redraw": false
              },
              "fromcurrent": true,
              "mode": "immediate",
              "transition": {
               "duration": 0,
               "easing": "linear"
              }
             }
            ],
            "label": "2023-01-22 00:00:00",
            "method": "animate"
           },
           {
            "args": [
             [
              "2023-01-29 00:00:00"
             ],
             {
              "frame": {
               "duration": 0,
               "redraw": false
              },
              "fromcurrent": true,
              "mode": "immediate",
              "transition": {
               "duration": 0,
               "easing": "linear"
              }
             }
            ],
            "label": "2023-01-29 00:00:00",
            "method": "animate"
           },
           {
            "args": [
             [
              "2023-02-05 00:00:00"
             ],
             {
              "frame": {
               "duration": 0,
               "redraw": false
              },
              "fromcurrent": true,
              "mode": "immediate",
              "transition": {
               "duration": 0,
               "easing": "linear"
              }
             }
            ],
            "label": "2023-02-05 00:00:00",
            "method": "animate"
           },
           {
            "args": [
             [
              "2023-02-12 00:00:00"
             ],
             {
              "frame": {
               "duration": 0,
               "redraw": false
              },
              "fromcurrent": true,
              "mode": "immediate",
              "transition": {
               "duration": 0,
               "easing": "linear"
              }
             }
            ],
            "label": "2023-02-12 00:00:00",
            "method": "animate"
           },
           {
            "args": [
             [
              "2023-02-19 00:00:00"
             ],
             {
              "frame": {
               "duration": 0,
               "redraw": false
              },
              "fromcurrent": true,
              "mode": "immediate",
              "transition": {
               "duration": 0,
               "easing": "linear"
              }
             }
            ],
            "label": "2023-02-19 00:00:00",
            "method": "animate"
           },
           {
            "args": [
             [
              "2023-02-26 00:00:00"
             ],
             {
              "frame": {
               "duration": 0,
               "redraw": false
              },
              "fromcurrent": true,
              "mode": "immediate",
              "transition": {
               "duration": 0,
               "easing": "linear"
              }
             }
            ],
            "label": "2023-02-26 00:00:00",
            "method": "animate"
           },
           {
            "args": [
             [
              "2023-03-05 00:00:00"
             ],
             {
              "frame": {
               "duration": 0,
               "redraw": false
              },
              "fromcurrent": true,
              "mode": "immediate",
              "transition": {
               "duration": 0,
               "easing": "linear"
              }
             }
            ],
            "label": "2023-03-05 00:00:00",
            "method": "animate"
           },
           {
            "args": [
             [
              "2023-03-12 00:00:00"
             ],
             {
              "frame": {
               "duration": 0,
               "redraw": false
              },
              "fromcurrent": true,
              "mode": "immediate",
              "transition": {
               "duration": 0,
               "easing": "linear"
              }
             }
            ],
            "label": "2023-03-12 00:00:00",
            "method": "animate"
           },
           {
            "args": [
             [
              "2023-03-19 00:00:00"
             ],
             {
              "frame": {
               "duration": 0,
               "redraw": false
              },
              "fromcurrent": true,
              "mode": "immediate",
              "transition": {
               "duration": 0,
               "easing": "linear"
              }
             }
            ],
            "label": "2023-03-19 00:00:00",
            "method": "animate"
           },
           {
            "args": [
             [
              "2023-03-26 00:00:00"
             ],
             {
              "frame": {
               "duration": 0,
               "redraw": false
              },
              "fromcurrent": true,
              "mode": "immediate",
              "transition": {
               "duration": 0,
               "easing": "linear"
              }
             }
            ],
            "label": "2023-03-26 00:00:00",
            "method": "animate"
           },
           {
            "args": [
             [
              "2023-04-02 00:00:00"
             ],
             {
              "frame": {
               "duration": 0,
               "redraw": false
              },
              "fromcurrent": true,
              "mode": "immediate",
              "transition": {
               "duration": 0,
               "easing": "linear"
              }
             }
            ],
            "label": "2023-04-02 00:00:00",
            "method": "animate"
           },
           {
            "args": [
             [
              "2023-04-09 00:00:00"
             ],
             {
              "frame": {
               "duration": 0,
               "redraw": false
              },
              "fromcurrent": true,
              "mode": "immediate",
              "transition": {
               "duration": 0,
               "easing": "linear"
              }
             }
            ],
            "label": "2023-04-09 00:00:00",
            "method": "animate"
           },
           {
            "args": [
             [
              "2023-04-16 00:00:00"
             ],
             {
              "frame": {
               "duration": 0,
               "redraw": false
              },
              "fromcurrent": true,
              "mode": "immediate",
              "transition": {
               "duration": 0,
               "easing": "linear"
              }
             }
            ],
            "label": "2023-04-16 00:00:00",
            "method": "animate"
           },
           {
            "args": [
             [
              "2023-04-23 00:00:00"
             ],
             {
              "frame": {
               "duration": 0,
               "redraw": false
              },
              "fromcurrent": true,
              "mode": "immediate",
              "transition": {
               "duration": 0,
               "easing": "linear"
              }
             }
            ],
            "label": "2023-04-23 00:00:00",
            "method": "animate"
           },
           {
            "args": [
             [
              "2023-04-30 00:00:00"
             ],
             {
              "frame": {
               "duration": 0,
               "redraw": false
              },
              "fromcurrent": true,
              "mode": "immediate",
              "transition": {
               "duration": 0,
               "easing": "linear"
              }
             }
            ],
            "label": "2023-04-30 00:00:00",
            "method": "animate"
           },
           {
            "args": [
             [
              "2023-05-07 00:00:00"
             ],
             {
              "frame": {
               "duration": 0,
               "redraw": false
              },
              "fromcurrent": true,
              "mode": "immediate",
              "transition": {
               "duration": 0,
               "easing": "linear"
              }
             }
            ],
            "label": "2023-05-07 00:00:00",
            "method": "animate"
           },
           {
            "args": [
             [
              "2023-05-14 00:00:00"
             ],
             {
              "frame": {
               "duration": 0,
               "redraw": false
              },
              "fromcurrent": true,
              "mode": "immediate",
              "transition": {
               "duration": 0,
               "easing": "linear"
              }
             }
            ],
            "label": "2023-05-14 00:00:00",
            "method": "animate"
           },
           {
            "args": [
             [
              "2023-05-21 00:00:00"
             ],
             {
              "frame": {
               "duration": 0,
               "redraw": false
              },
              "fromcurrent": true,
              "mode": "immediate",
              "transition": {
               "duration": 0,
               "easing": "linear"
              }
             }
            ],
            "label": "2023-05-21 00:00:00",
            "method": "animate"
           },
           {
            "args": [
             [
              "2023-05-28 00:00:00"
             ],
             {
              "frame": {
               "duration": 0,
               "redraw": false
              },
              "fromcurrent": true,
              "mode": "immediate",
              "transition": {
               "duration": 0,
               "easing": "linear"
              }
             }
            ],
            "label": "2023-05-28 00:00:00",
            "method": "animate"
           },
           {
            "args": [
             [
              "2023-06-04 00:00:00"
             ],
             {
              "frame": {
               "duration": 0,
               "redraw": false
              },
              "fromcurrent": true,
              "mode": "immediate",
              "transition": {
               "duration": 0,
               "easing": "linear"
              }
             }
            ],
            "label": "2023-06-04 00:00:00",
            "method": "animate"
           },
           {
            "args": [
             [
              "2023-06-11 00:00:00"
             ],
             {
              "frame": {
               "duration": 0,
               "redraw": false
              },
              "fromcurrent": true,
              "mode": "immediate",
              "transition": {
               "duration": 0,
               "easing": "linear"
              }
             }
            ],
            "label": "2023-06-11 00:00:00",
            "method": "animate"
           },
           {
            "args": [
             [
              "2023-06-18 00:00:00"
             ],
             {
              "frame": {
               "duration": 0,
               "redraw": false
              },
              "fromcurrent": true,
              "mode": "immediate",
              "transition": {
               "duration": 0,
               "easing": "linear"
              }
             }
            ],
            "label": "2023-06-18 00:00:00",
            "method": "animate"
           },
           {
            "args": [
             [
              "2023-06-25 00:00:00"
             ],
             {
              "frame": {
               "duration": 0,
               "redraw": false
              },
              "fromcurrent": true,
              "mode": "immediate",
              "transition": {
               "duration": 0,
               "easing": "linear"
              }
             }
            ],
            "label": "2023-06-25 00:00:00",
            "method": "animate"
           },
           {
            "args": [
             [
              "2023-07-02 00:00:00"
             ],
             {
              "frame": {
               "duration": 0,
               "redraw": false
              },
              "fromcurrent": true,
              "mode": "immediate",
              "transition": {
               "duration": 0,
               "easing": "linear"
              }
             }
            ],
            "label": "2023-07-02 00:00:00",
            "method": "animate"
           },
           {
            "args": [
             [
              "2023-07-09 00:00:00"
             ],
             {
              "frame": {
               "duration": 0,
               "redraw": false
              },
              "fromcurrent": true,
              "mode": "immediate",
              "transition": {
               "duration": 0,
               "easing": "linear"
              }
             }
            ],
            "label": "2023-07-09 00:00:00",
            "method": "animate"
           },
           {
            "args": [
             [
              "2023-07-16 00:00:00"
             ],
             {
              "frame": {
               "duration": 0,
               "redraw": false
              },
              "fromcurrent": true,
              "mode": "immediate",
              "transition": {
               "duration": 0,
               "easing": "linear"
              }
             }
            ],
            "label": "2023-07-16 00:00:00",
            "method": "animate"
           },
           {
            "args": [
             [
              "2023-07-23 00:00:00"
             ],
             {
              "frame": {
               "duration": 0,
               "redraw": false
              },
              "fromcurrent": true,
              "mode": "immediate",
              "transition": {
               "duration": 0,
               "easing": "linear"
              }
             }
            ],
            "label": "2023-07-23 00:00:00",
            "method": "animate"
           },
           {
            "args": [
             [
              "2023-07-30 00:00:00"
             ],
             {
              "frame": {
               "duration": 0,
               "redraw": false
              },
              "fromcurrent": true,
              "mode": "immediate",
              "transition": {
               "duration": 0,
               "easing": "linear"
              }
             }
            ],
            "label": "2023-07-30 00:00:00",
            "method": "animate"
           },
           {
            "args": [
             [
              "2023-08-06 00:00:00"
             ],
             {
              "frame": {
               "duration": 0,
               "redraw": false
              },
              "fromcurrent": true,
              "mode": "immediate",
              "transition": {
               "duration": 0,
               "easing": "linear"
              }
             }
            ],
            "label": "2023-08-06 00:00:00",
            "method": "animate"
           },
           {
            "args": [
             [
              "2023-08-13 00:00:00"
             ],
             {
              "frame": {
               "duration": 0,
               "redraw": false
              },
              "fromcurrent": true,
              "mode": "immediate",
              "transition": {
               "duration": 0,
               "easing": "linear"
              }
             }
            ],
            "label": "2023-08-13 00:00:00",
            "method": "animate"
           },
           {
            "args": [
             [
              "2023-08-20 00:00:00"
             ],
             {
              "frame": {
               "duration": 0,
               "redraw": false
              },
              "fromcurrent": true,
              "mode": "immediate",
              "transition": {
               "duration": 0,
               "easing": "linear"
              }
             }
            ],
            "label": "2023-08-20 00:00:00",
            "method": "animate"
           },
           {
            "args": [
             [
              "2023-08-27 00:00:00"
             ],
             {
              "frame": {
               "duration": 0,
               "redraw": false
              },
              "fromcurrent": true,
              "mode": "immediate",
              "transition": {
               "duration": 0,
               "easing": "linear"
              }
             }
            ],
            "label": "2023-08-27 00:00:00",
            "method": "animate"
           },
           {
            "args": [
             [
              "2023-09-03 00:00:00"
             ],
             {
              "frame": {
               "duration": 0,
               "redraw": false
              },
              "fromcurrent": true,
              "mode": "immediate",
              "transition": {
               "duration": 0,
               "easing": "linear"
              }
             }
            ],
            "label": "2023-09-03 00:00:00",
            "method": "animate"
           },
           {
            "args": [
             [
              "2023-09-10 00:00:00"
             ],
             {
              "frame": {
               "duration": 0,
               "redraw": false
              },
              "fromcurrent": true,
              "mode": "immediate",
              "transition": {
               "duration": 0,
               "easing": "linear"
              }
             }
            ],
            "label": "2023-09-10 00:00:00",
            "method": "animate"
           },
           {
            "args": [
             [
              "2023-09-17 00:00:00"
             ],
             {
              "frame": {
               "duration": 0,
               "redraw": false
              },
              "fromcurrent": true,
              "mode": "immediate",
              "transition": {
               "duration": 0,
               "easing": "linear"
              }
             }
            ],
            "label": "2023-09-17 00:00:00",
            "method": "animate"
           },
           {
            "args": [
             [
              "2023-09-24 00:00:00"
             ],
             {
              "frame": {
               "duration": 0,
               "redraw": false
              },
              "fromcurrent": true,
              "mode": "immediate",
              "transition": {
               "duration": 0,
               "easing": "linear"
              }
             }
            ],
            "label": "2023-09-24 00:00:00",
            "method": "animate"
           },
           {
            "args": [
             [
              "2023-10-01 00:00:00"
             ],
             {
              "frame": {
               "duration": 0,
               "redraw": false
              },
              "fromcurrent": true,
              "mode": "immediate",
              "transition": {
               "duration": 0,
               "easing": "linear"
              }
             }
            ],
            "label": "2023-10-01 00:00:00",
            "method": "animate"
           },
           {
            "args": [
             [
              "2023-10-08 00:00:00"
             ],
             {
              "frame": {
               "duration": 0,
               "redraw": false
              },
              "fromcurrent": true,
              "mode": "immediate",
              "transition": {
               "duration": 0,
               "easing": "linear"
              }
             }
            ],
            "label": "2023-10-08 00:00:00",
            "method": "animate"
           },
           {
            "args": [
             [
              "2023-10-15 00:00:00"
             ],
             {
              "frame": {
               "duration": 0,
               "redraw": false
              },
              "fromcurrent": true,
              "mode": "immediate",
              "transition": {
               "duration": 0,
               "easing": "linear"
              }
             }
            ],
            "label": "2023-10-15 00:00:00",
            "method": "animate"
           },
           {
            "args": [
             [
              "2023-10-22 00:00:00"
             ],
             {
              "frame": {
               "duration": 0,
               "redraw": false
              },
              "fromcurrent": true,
              "mode": "immediate",
              "transition": {
               "duration": 0,
               "easing": "linear"
              }
             }
            ],
            "label": "2023-10-22 00:00:00",
            "method": "animate"
           },
           {
            "args": [
             [
              "2023-10-29 00:00:00"
             ],
             {
              "frame": {
               "duration": 0,
               "redraw": false
              },
              "fromcurrent": true,
              "mode": "immediate",
              "transition": {
               "duration": 0,
               "easing": "linear"
              }
             }
            ],
            "label": "2023-10-29 00:00:00",
            "method": "animate"
           }
          ],
          "x": 0.1,
          "xanchor": "left",
          "y": 0,
          "yanchor": "top"
         }
        ],
        "template": {
         "data": {
          "bar": [
           {
            "error_x": {
             "color": "#2a3f5f"
            },
            "error_y": {
             "color": "#2a3f5f"
            },
            "marker": {
             "line": {
              "color": "#E5ECF6",
              "width": 0.5
             },
             "pattern": {
              "fillmode": "overlay",
              "size": 10,
              "solidity": 0.2
             }
            },
            "type": "bar"
           }
          ],
          "barpolar": [
           {
            "marker": {
             "line": {
              "color": "#E5ECF6",
              "width": 0.5
             },
             "pattern": {
              "fillmode": "overlay",
              "size": 10,
              "solidity": 0.2
             }
            },
            "type": "barpolar"
           }
          ],
          "carpet": [
           {
            "aaxis": {
             "endlinecolor": "#2a3f5f",
             "gridcolor": "white",
             "linecolor": "white",
             "minorgridcolor": "white",
             "startlinecolor": "#2a3f5f"
            },
            "baxis": {
             "endlinecolor": "#2a3f5f",
             "gridcolor": "white",
             "linecolor": "white",
             "minorgridcolor": "white",
             "startlinecolor": "#2a3f5f"
            },
            "type": "carpet"
           }
          ],
          "choropleth": [
           {
            "colorbar": {
             "outlinewidth": 0,
             "ticks": ""
            },
            "type": "choropleth"
           }
          ],
          "contour": [
           {
            "colorbar": {
             "outlinewidth": 0,
             "ticks": ""
            },
            "colorscale": [
             [
              0,
              "#0d0887"
             ],
             [
              0.1111111111111111,
              "#46039f"
             ],
             [
              0.2222222222222222,
              "#7201a8"
             ],
             [
              0.3333333333333333,
              "#9c179e"
             ],
             [
              0.4444444444444444,
              "#bd3786"
             ],
             [
              0.5555555555555556,
              "#d8576b"
             ],
             [
              0.6666666666666666,
              "#ed7953"
             ],
             [
              0.7777777777777778,
              "#fb9f3a"
             ],
             [
              0.8888888888888888,
              "#fdca26"
             ],
             [
              1,
              "#f0f921"
             ]
            ],
            "type": "contour"
           }
          ],
          "contourcarpet": [
           {
            "colorbar": {
             "outlinewidth": 0,
             "ticks": ""
            },
            "type": "contourcarpet"
           }
          ],
          "heatmap": [
           {
            "colorbar": {
             "outlinewidth": 0,
             "ticks": ""
            },
            "colorscale": [
             [
              0,
              "#0d0887"
             ],
             [
              0.1111111111111111,
              "#46039f"
             ],
             [
              0.2222222222222222,
              "#7201a8"
             ],
             [
              0.3333333333333333,
              "#9c179e"
             ],
             [
              0.4444444444444444,
              "#bd3786"
             ],
             [
              0.5555555555555556,
              "#d8576b"
             ],
             [
              0.6666666666666666,
              "#ed7953"
             ],
             [
              0.7777777777777778,
              "#fb9f3a"
             ],
             [
              0.8888888888888888,
              "#fdca26"
             ],
             [
              1,
              "#f0f921"
             ]
            ],
            "type": "heatmap"
           }
          ],
          "heatmapgl": [
           {
            "colorbar": {
             "outlinewidth": 0,
             "ticks": ""
            },
            "colorscale": [
             [
              0,
              "#0d0887"
             ],
             [
              0.1111111111111111,
              "#46039f"
             ],
             [
              0.2222222222222222,
              "#7201a8"
             ],
             [
              0.3333333333333333,
              "#9c179e"
             ],
             [
              0.4444444444444444,
              "#bd3786"
             ],
             [
              0.5555555555555556,
              "#d8576b"
             ],
             [
              0.6666666666666666,
              "#ed7953"
             ],
             [
              0.7777777777777778,
              "#fb9f3a"
             ],
             [
              0.8888888888888888,
              "#fdca26"
             ],
             [
              1,
              "#f0f921"
             ]
            ],
            "type": "heatmapgl"
           }
          ],
          "histogram": [
           {
            "marker": {
             "pattern": {
              "fillmode": "overlay",
              "size": 10,
              "solidity": 0.2
             }
            },
            "type": "histogram"
           }
          ],
          "histogram2d": [
           {
            "colorbar": {
             "outlinewidth": 0,
             "ticks": ""
            },
            "colorscale": [
             [
              0,
              "#0d0887"
             ],
             [
              0.1111111111111111,
              "#46039f"
             ],
             [
              0.2222222222222222,
              "#7201a8"
             ],
             [
              0.3333333333333333,
              "#9c179e"
             ],
             [
              0.4444444444444444,
              "#bd3786"
             ],
             [
              0.5555555555555556,
              "#d8576b"
             ],
             [
              0.6666666666666666,
              "#ed7953"
             ],
             [
              0.7777777777777778,
              "#fb9f3a"
             ],
             [
              0.8888888888888888,
              "#fdca26"
             ],
             [
              1,
              "#f0f921"
             ]
            ],
            "type": "histogram2d"
           }
          ],
          "histogram2dcontour": [
           {
            "colorbar": {
             "outlinewidth": 0,
             "ticks": ""
            },
            "colorscale": [
             [
              0,
              "#0d0887"
             ],
             [
              0.1111111111111111,
              "#46039f"
             ],
             [
              0.2222222222222222,
              "#7201a8"
             ],
             [
              0.3333333333333333,
              "#9c179e"
             ],
             [
              0.4444444444444444,
              "#bd3786"
             ],
             [
              0.5555555555555556,
              "#d8576b"
             ],
             [
              0.6666666666666666,
              "#ed7953"
             ],
             [
              0.7777777777777778,
              "#fb9f3a"
             ],
             [
              0.8888888888888888,
              "#fdca26"
             ],
             [
              1,
              "#f0f921"
             ]
            ],
            "type": "histogram2dcontour"
           }
          ],
          "mesh3d": [
           {
            "colorbar": {
             "outlinewidth": 0,
             "ticks": ""
            },
            "type": "mesh3d"
           }
          ],
          "parcoords": [
           {
            "line": {
             "colorbar": {
              "outlinewidth": 0,
              "ticks": ""
             }
            },
            "type": "parcoords"
           }
          ],
          "pie": [
           {
            "automargin": true,
            "type": "pie"
           }
          ],
          "scatter": [
           {
            "fillpattern": {
             "fillmode": "overlay",
             "size": 10,
             "solidity": 0.2
            },
            "type": "scatter"
           }
          ],
          "scatter3d": [
           {
            "line": {
             "colorbar": {
              "outlinewidth": 0,
              "ticks": ""
             }
            },
            "marker": {
             "colorbar": {
              "outlinewidth": 0,
              "ticks": ""
             }
            },
            "type": "scatter3d"
           }
          ],
          "scattercarpet": [
           {
            "marker": {
             "colorbar": {
              "outlinewidth": 0,
              "ticks": ""
             }
            },
            "type": "scattercarpet"
           }
          ],
          "scattergeo": [
           {
            "marker": {
             "colorbar": {
              "outlinewidth": 0,
              "ticks": ""
             }
            },
            "type": "scattergeo"
           }
          ],
          "scattergl": [
           {
            "marker": {
             "colorbar": {
              "outlinewidth": 0,
              "ticks": ""
             }
            },
            "type": "scattergl"
           }
          ],
          "scattermapbox": [
           {
            "marker": {
             "colorbar": {
              "outlinewidth": 0,
              "ticks": ""
             }
            },
            "type": "scattermapbox"
           }
          ],
          "scatterpolar": [
           {
            "marker": {
             "colorbar": {
              "outlinewidth": 0,
              "ticks": ""
             }
            },
            "type": "scatterpolar"
           }
          ],
          "scatterpolargl": [
           {
            "marker": {
             "colorbar": {
              "outlinewidth": 0,
              "ticks": ""
             }
            },
            "type": "scatterpolargl"
           }
          ],
          "scatterternary": [
           {
            "marker": {
             "colorbar": {
              "outlinewidth": 0,
              "ticks": ""
             }
            },
            "type": "scatterternary"
           }
          ],
          "surface": [
           {
            "colorbar": {
             "outlinewidth": 0,
             "ticks": ""
            },
            "colorscale": [
             [
              0,
              "#0d0887"
             ],
             [
              0.1111111111111111,
              "#46039f"
             ],
             [
              0.2222222222222222,
              "#7201a8"
             ],
             [
              0.3333333333333333,
              "#9c179e"
             ],
             [
              0.4444444444444444,
              "#bd3786"
             ],
             [
              0.5555555555555556,
              "#d8576b"
             ],
             [
              0.6666666666666666,
              "#ed7953"
             ],
             [
              0.7777777777777778,
              "#fb9f3a"
             ],
             [
              0.8888888888888888,
              "#fdca26"
             ],
             [
              1,
              "#f0f921"
             ]
            ],
            "type": "surface"
           }
          ],
          "table": [
           {
            "cells": {
             "fill": {
              "color": "#EBF0F8"
             },
             "line": {
              "color": "white"
             }
            },
            "header": {
             "fill": {
              "color": "#C8D4E3"
             },
             "line": {
              "color": "white"
             }
            },
            "type": "table"
           }
          ]
         },
         "layout": {
          "annotationdefaults": {
           "arrowcolor": "#2a3f5f",
           "arrowhead": 0,
           "arrowwidth": 1
          },
          "autotypenumbers": "strict",
          "coloraxis": {
           "colorbar": {
            "outlinewidth": 0,
            "ticks": ""
           }
          },
          "colorscale": {
           "diverging": [
            [
             0,
             "#8e0152"
            ],
            [
             0.1,
             "#c51b7d"
            ],
            [
             0.2,
             "#de77ae"
            ],
            [
             0.3,
             "#f1b6da"
            ],
            [
             0.4,
             "#fde0ef"
            ],
            [
             0.5,
             "#f7f7f7"
            ],
            [
             0.6,
             "#e6f5d0"
            ],
            [
             0.7,
             "#b8e186"
            ],
            [
             0.8,
             "#7fbc41"
            ],
            [
             0.9,
             "#4d9221"
            ],
            [
             1,
             "#276419"
            ]
           ],
           "sequential": [
            [
             0,
             "#0d0887"
            ],
            [
             0.1111111111111111,
             "#46039f"
            ],
            [
             0.2222222222222222,
             "#7201a8"
            ],
            [
             0.3333333333333333,
             "#9c179e"
            ],
            [
             0.4444444444444444,
             "#bd3786"
            ],
            [
             0.5555555555555556,
             "#d8576b"
            ],
            [
             0.6666666666666666,
             "#ed7953"
            ],
            [
             0.7777777777777778,
             "#fb9f3a"
            ],
            [
             0.8888888888888888,
             "#fdca26"
            ],
            [
             1,
             "#f0f921"
            ]
           ],
           "sequentialminus": [
            [
             0,
             "#0d0887"
            ],
            [
             0.1111111111111111,
             "#46039f"
            ],
            [
             0.2222222222222222,
             "#7201a8"
            ],
            [
             0.3333333333333333,
             "#9c179e"
            ],
            [
             0.4444444444444444,
             "#bd3786"
            ],
            [
             0.5555555555555556,
             "#d8576b"
            ],
            [
             0.6666666666666666,
             "#ed7953"
            ],
            [
             0.7777777777777778,
             "#fb9f3a"
            ],
            [
             0.8888888888888888,
             "#fdca26"
            ],
            [
             1,
             "#f0f921"
            ]
           ]
          },
          "colorway": [
           "#636efa",
           "#EF553B",
           "#00cc96",
           "#ab63fa",
           "#FFA15A",
           "#19d3f3",
           "#FF6692",
           "#B6E880",
           "#FF97FF",
           "#FECB52"
          ],
          "font": {
           "color": "#2a3f5f"
          },
          "geo": {
           "bgcolor": "white",
           "lakecolor": "white",
           "landcolor": "#E5ECF6",
           "showlakes": true,
           "showland": true,
           "subunitcolor": "white"
          },
          "hoverlabel": {
           "align": "left"
          },
          "hovermode": "closest",
          "mapbox": {
           "style": "light"
          },
          "paper_bgcolor": "white",
          "plot_bgcolor": "#E5ECF6",
          "polar": {
           "angularaxis": {
            "gridcolor": "white",
            "linecolor": "white",
            "ticks": ""
           },
           "bgcolor": "#E5ECF6",
           "radialaxis": {
            "gridcolor": "white",
            "linecolor": "white",
            "ticks": ""
           }
          },
          "scene": {
           "xaxis": {
            "backgroundcolor": "#E5ECF6",
            "gridcolor": "white",
            "gridwidth": 2,
            "linecolor": "white",
            "showbackground": true,
            "ticks": "",
            "zerolinecolor": "white"
           },
           "yaxis": {
            "backgroundcolor": "#E5ECF6",
            "gridcolor": "white",
            "gridwidth": 2,
            "linecolor": "white",
            "showbackground": true,
            "ticks": "",
            "zerolinecolor": "white"
           },
           "zaxis": {
            "backgroundcolor": "#E5ECF6",
            "gridcolor": "white",
            "gridwidth": 2,
            "linecolor": "white",
            "showbackground": true,
            "ticks": "",
            "zerolinecolor": "white"
           }
          },
          "shapedefaults": {
           "line": {
            "color": "#2a3f5f"
           }
          },
          "ternary": {
           "aaxis": {
            "gridcolor": "white",
            "linecolor": "white",
            "ticks": ""
           },
           "baxis": {
            "gridcolor": "white",
            "linecolor": "white",
            "ticks": ""
           },
           "bgcolor": "#E5ECF6",
           "caxis": {
            "gridcolor": "white",
            "linecolor": "white",
            "ticks": ""
           }
          },
          "title": {
           "x": 0.05
          },
          "xaxis": {
           "automargin": true,
           "gridcolor": "white",
           "linecolor": "white",
           "ticks": "",
           "title": {
            "standoff": 15
           },
           "zerolinecolor": "white",
           "zerolinewidth": 2
          },
          "yaxis": {
           "automargin": true,
           "gridcolor": "white",
           "linecolor": "white",
           "ticks": "",
           "title": {
            "standoff": 15
           },
           "zerolinecolor": "white",
           "zerolinewidth": 2
          }
         }
        },
        "title": {
         "text": "Weekly Stock Prices"
        },
        "updatemenus": [
         {
          "buttons": [
           {
            "args": [
             null,
             {
              "frame": {
               "duration": 500,
               "redraw": false
              },
              "fromcurrent": true,
              "mode": "immediate",
              "transition": {
               "duration": 500,
               "easing": "linear"
              }
             }
            ],
            "label": "&#9654;",
            "method": "animate"
           },
           {
            "args": [
             [
              null
             ],
             {
              "frame": {
               "duration": 0,
               "redraw": false
              },
              "fromcurrent": true,
              "mode": "immediate",
              "transition": {
               "duration": 0,
               "easing": "linear"
              }
             }
            ],
            "label": "&#9724;",
            "method": "animate"
           }
          ],
          "direction": "left",
          "pad": {
           "r": 10,
           "t": 70
          },
          "showactive": false,
          "type": "buttons",
          "x": 0.1,
          "xanchor": "right",
          "y": 0,
          "yanchor": "top"
         }
        ],
        "xaxis": {
         "anchor": "y",
         "categoryarray": [
          "2023-01-08T00:00:00",
          "2023-01-15T00:00:00",
          "2023-01-22T00:00:00",
          "2023-01-29T00:00:00",
          "2023-02-05T00:00:00",
          "2023-02-12T00:00:00",
          "2023-02-19T00:00:00",
          "2023-02-26T00:00:00",
          "2023-03-05T00:00:00",
          "2023-03-12T00:00:00",
          "2023-03-19T00:00:00",
          "2023-03-26T00:00:00",
          "2023-04-02T00:00:00",
          "2023-04-09T00:00:00",
          "2023-04-16T00:00:00",
          "2023-04-23T00:00:00",
          "2023-04-30T00:00:00",
          "2023-05-07T00:00:00",
          "2023-05-14T00:00:00",
          "2023-05-21T00:00:00",
          "2023-05-28T00:00:00",
          "2023-06-04T00:00:00",
          "2023-06-11T00:00:00",
          "2023-06-18T00:00:00",
          "2023-06-25T00:00:00",
          "2023-07-02T00:00:00",
          "2023-07-09T00:00:00",
          "2023-07-16T00:00:00",
          "2023-07-23T00:00:00",
          "2023-07-30T00:00:00",
          "2023-08-06T00:00:00",
          "2023-08-13T00:00:00",
          "2023-08-20T00:00:00",
          "2023-08-27T00:00:00",
          "2023-09-03T00:00:00",
          "2023-09-10T00:00:00",
          "2023-09-17T00:00:00",
          "2023-09-24T00:00:00",
          "2023-10-01T00:00:00",
          "2023-10-08T00:00:00",
          "2023-10-15T00:00:00",
          "2023-10-22T00:00:00",
          "2023-10-29T00:00:00"
         ],
         "categoryorder": "array",
         "domain": [
          0,
          1
         ],
         "range": [
          "2023-01-01",
          "2023-10-25"
         ],
         "title": {
          "text": "Date"
         }
        },
        "yaxis": {
         "anchor": "x",
         "domain": [
          0,
          1
         ],
         "range": [
          50,
          500
         ],
         "title": {
          "text": "Weekly Average Price"
         }
        }
       }
      }
     },
     "metadata": {},
     "output_type": "display_data"
    }
   ],
   "source": [
    "import yfinance as yf\n",
    "import pandas as pd\n",
    "import plotly.express as px\n",
    "\n",
    "# Define the list of stock symbols\n",
    "stock_symbols = [\"AAPL\", \"MSFT\", \"TSLA\"]\n",
    "\n",
    "# Define the start and end dates\n",
    "start_date = \"2023-01-01\"\n",
    "end_date = \"2023-10-25\"  # You can modify this to the current date or any other desired end date\n",
    "\n",
    "# Create an empty DataFrame to store the weekly data\n",
    "weekly_data = pd.DataFrame()\n",
    "\n",
    "# Loop through each stock symbol\n",
    "for symbol in stock_symbols:\n",
    "    # Download daily stock data from Yahoo Finance\n",
    "    df = yf.download(symbol, start=start_date, end=end_date)\n",
    "    \n",
    "    # Resample the daily data to weekly and calculate the mean\n",
    "    weekly_data[symbol] = df['Adj Close'].resample('W').mean()\n",
    "\n",
    "# Create an animated scatter plot\n",
    "fig = px.scatter(weekly_data, x=weekly_data.index, y=stock_symbols,\n",
    "                 labels={\"index\": \"Date\", \"value\": \"Weekly Average Price\"},\n",
    "                 title=\"Weekly Stock Prices\",\n",
    "                 animation_frame=weekly_data.index,\n",
    "                 range_x=[start_date, end_date],\n",
    "                 range_y=[50, 500], size_max=55)\n",
    "\n",
    "\n",
    "# Show the plot\n",
    "fig.show()\n",
    "\n",
    "\n",
    "\n",
    "# #animated scatter plot\n",
    "# fig = px.scatter(df, x='gdpPercap', y='lifeExp', animation_frame='year',\n",
    "#                  animation_group='country', size='pop', color='continent',\n",
    "#                  hover_name='country', log_x=True, size_max=55, range_x=[100, 100000],\n",
    "#                  range_y=[25, 90])\n",
    "# fig.show()\n"
   ]
  },
  {
   "cell_type": "code",
   "execution_count": 6,
   "metadata": {},
   "outputs": [
    {
     "data": {
      "text/html": [
       "<div>\n",
       "<style scoped>\n",
       "    .dataframe tbody tr th:only-of-type {\n",
       "        vertical-align: middle;\n",
       "    }\n",
       "\n",
       "    .dataframe tbody tr th {\n",
       "        vertical-align: top;\n",
       "    }\n",
       "\n",
       "    .dataframe thead th {\n",
       "        text-align: right;\n",
       "    }\n",
       "</style>\n",
       "<table border=\"1\" class=\"dataframe\">\n",
       "  <thead>\n",
       "    <tr style=\"text-align: right;\">\n",
       "      <th></th>\n",
       "      <th>AAPL</th>\n",
       "      <th>MSFT</th>\n",
       "      <th>TSLA</th>\n",
       "    </tr>\n",
       "    <tr>\n",
       "      <th>Date</th>\n",
       "      <th></th>\n",
       "      <th></th>\n",
       "      <th></th>\n",
       "    </tr>\n",
       "  </thead>\n",
       "  <tbody>\n",
       "    <tr>\n",
       "      <th>2023-01-08</th>\n",
       "      <td>125.980011</td>\n",
       "      <td>227.428162</td>\n",
       "      <td>111.284998</td>\n",
       "    </tr>\n",
       "    <tr>\n",
       "      <th>2023-01-15</th>\n",
       "      <td>131.945056</td>\n",
       "      <td>232.310840</td>\n",
       "      <td>121.559999</td>\n",
       "    </tr>\n",
       "    <tr>\n",
       "      <th>2023-01-22</th>\n",
       "      <td>135.494419</td>\n",
       "      <td>235.470787</td>\n",
       "      <td>130.215000</td>\n",
       "    </tr>\n",
       "    <tr>\n",
       "      <th>2023-01-29</th>\n",
       "      <td>142.470163</td>\n",
       "      <td>242.622491</td>\n",
       "      <td>154.047998</td>\n",
       "    </tr>\n",
       "    <tr>\n",
       "      <th>2023-02-05</th>\n",
       "      <td>146.980911</td>\n",
       "      <td>251.527728</td>\n",
       "      <td>179.908002</td>\n",
       "    </tr>\n",
       "  </tbody>\n",
       "</table>\n",
       "</div>"
      ],
      "text/plain": [
       "                  AAPL        MSFT        TSLA\n",
       "Date                                          \n",
       "2023-01-08  125.980011  227.428162  111.284998\n",
       "2023-01-15  131.945056  232.310840  121.559999\n",
       "2023-01-22  135.494419  235.470787  130.215000\n",
       "2023-01-29  142.470163  242.622491  154.047998\n",
       "2023-02-05  146.980911  251.527728  179.908002"
      ]
     },
     "execution_count": 6,
     "metadata": {},
     "output_type": "execute_result"
    }
   ],
   "source": [
    "weekly_data.head()"
   ]
  },
  {
   "cell_type": "code",
   "execution_count": 8,
   "metadata": {},
   "outputs": [
    {
     "name": "stdout",
     "output_type": "stream",
     "text": [
      "[*********************100%%**********************]  1 of 1 completed\n",
      "[*********************100%%**********************]  1 of 1 completed\n",
      "[*********************100%%**********************]  1 of 1 completed\n"
     ]
    },
    {
     "data": {
      "application/vnd.plotly.v1+json": {
       "config": {
        "plotlyServerURL": "https://plot.ly"
       },
       "data": [
        {
         "hovertemplate": "variable=AAPL<br>Date=%{x}<br>Weekly Average Price=%{y}<extra></extra>",
         "legendgroup": "AAPL",
         "marker": {
          "color": "#636efa",
          "symbol": "circle"
         },
         "mode": "markers",
         "name": "AAPL",
         "orientation": "v",
         "showlegend": true,
         "type": "scatter",
         "x": [
          "2023-01-08T00:00:00"
         ],
         "xaxis": "x",
         "y": [
          125.98001289367676
         ],
         "yaxis": "y"
        },
        {
         "hovertemplate": "variable=MSFT<br>Date=%{x}<br>Weekly Average Price=%{y}<extra></extra>",
         "legendgroup": "MSFT",
         "marker": {
          "color": "#EF553B",
          "symbol": "circle"
         },
         "mode": "markers",
         "name": "MSFT",
         "orientation": "v",
         "showlegend": true,
         "type": "scatter",
         "x": [
          "2023-01-08T00:00:00"
         ],
         "xaxis": "x",
         "y": [
          227.42816543579102
         ],
         "yaxis": "y"
        },
        {
         "hovertemplate": "variable=TSLA<br>Date=%{x}<br>Weekly Average Price=%{y}<extra></extra>",
         "legendgroup": "TSLA",
         "marker": {
          "color": "#00cc96",
          "symbol": "circle"
         },
         "mode": "markers",
         "name": "TSLA",
         "orientation": "v",
         "showlegend": true,
         "type": "scatter",
         "x": [
          "2023-01-08T00:00:00"
         ],
         "xaxis": "x",
         "y": [
          111.28499794006348
         ],
         "yaxis": "y"
        },
        {
         "line": {
          "width": 2
         },
         "mode": "lines",
         "name": "AAPL",
         "type": "scatter",
         "x": [
          "2023-01-01",
          "2023-10-25"
         ],
         "y": [
          125.98001289367676,
          173.22000122070312
         ]
        },
        {
         "line": {
          "width": 2
         },
         "mode": "lines",
         "name": "MSFT",
         "type": "scatter",
         "x": [
          "2023-01-01",
          "2023-10-25"
         ],
         "y": [
          227.42816543579102,
          329.9250030517578
         ]
        },
        {
         "line": {
          "width": 2
         },
         "mode": "lines",
         "name": "TSLA",
         "type": "scatter",
         "x": [
          "2023-01-01",
          "2023-10-25"
         ],
         "y": [
          111.28499794006348,
          214.3000030517578
         ]
        }
       ],
       "frames": [
        {
         "data": [
          {
           "hovertemplate": "variable=AAPL<br>Date=%{x}<br>Weekly Average Price=%{y}<extra></extra>",
           "legendgroup": "AAPL",
           "marker": {
            "color": "#636efa",
            "symbol": "circle"
           },
           "mode": "markers",
           "name": "AAPL",
           "orientation": "v",
           "showlegend": true,
           "type": "scatter",
           "x": [
            "2023-01-08T00:00:00"
           ],
           "xaxis": "x",
           "y": [
            125.98001289367676
           ],
           "yaxis": "y"
          },
          {
           "hovertemplate": "variable=MSFT<br>Date=%{x}<br>Weekly Average Price=%{y}<extra></extra>",
           "legendgroup": "MSFT",
           "marker": {
            "color": "#EF553B",
            "symbol": "circle"
           },
           "mode": "markers",
           "name": "MSFT",
           "orientation": "v",
           "showlegend": true,
           "type": "scatter",
           "x": [
            "2023-01-08T00:00:00"
           ],
           "xaxis": "x",
           "y": [
            227.42816543579102
           ],
           "yaxis": "y"
          },
          {
           "hovertemplate": "variable=TSLA<br>Date=%{x}<br>Weekly Average Price=%{y}<extra></extra>",
           "legendgroup": "TSLA",
           "marker": {
            "color": "#00cc96",
            "symbol": "circle"
           },
           "mode": "markers",
           "name": "TSLA",
           "orientation": "v",
           "showlegend": true,
           "type": "scatter",
           "x": [
            "2023-01-08T00:00:00"
           ],
           "xaxis": "x",
           "y": [
            111.28499794006348
           ],
           "yaxis": "y"
          }
         ],
         "name": "2023-01-08 00:00:00"
        },
        {
         "data": [
          {
           "hovertemplate": "variable=AAPL<br>Date=%{x}<br>Weekly Average Price=%{y}<extra></extra>",
           "legendgroup": "AAPL",
           "marker": {
            "color": "#636efa",
            "symbol": "circle"
           },
           "mode": "markers",
           "name": "AAPL",
           "orientation": "v",
           "showlegend": true,
           "type": "scatter",
           "x": [
            "2023-01-15T00:00:00"
           ],
           "xaxis": "x",
           "y": [
            131.945068359375
           ],
           "yaxis": "y"
          },
          {
           "hovertemplate": "variable=MSFT<br>Date=%{x}<br>Weekly Average Price=%{y}<extra></extra>",
           "legendgroup": "MSFT",
           "marker": {
            "color": "#EF553B",
            "symbol": "circle"
           },
           "mode": "markers",
           "name": "MSFT",
           "orientation": "v",
           "showlegend": true,
           "type": "scatter",
           "x": [
            "2023-01-15T00:00:00"
           ],
           "xaxis": "x",
           "y": [
            232.31084899902345
           ],
           "yaxis": "y"
          },
          {
           "hovertemplate": "variable=TSLA<br>Date=%{x}<br>Weekly Average Price=%{y}<extra></extra>",
           "legendgroup": "TSLA",
           "marker": {
            "color": "#00cc96",
            "symbol": "circle"
           },
           "mode": "markers",
           "name": "TSLA",
           "orientation": "v",
           "showlegend": true,
           "type": "scatter",
           "x": [
            "2023-01-15T00:00:00"
           ],
           "xaxis": "x",
           "y": [
            121.55999908447265
           ],
           "yaxis": "y"
          }
         ],
         "name": "2023-01-15 00:00:00"
        },
        {
         "data": [
          {
           "hovertemplate": "variable=AAPL<br>Date=%{x}<br>Weekly Average Price=%{y}<extra></extra>",
           "legendgroup": "AAPL",
           "marker": {
            "color": "#636efa",
            "symbol": "circle"
           },
           "mode": "markers",
           "name": "AAPL",
           "orientation": "v",
           "showlegend": true,
           "type": "scatter",
           "x": [
            "2023-01-22T00:00:00"
           ],
           "xaxis": "x",
           "y": [
            135.49442672729492
           ],
           "yaxis": "y"
          },
          {
           "hovertemplate": "variable=MSFT<br>Date=%{x}<br>Weekly Average Price=%{y}<extra></extra>",
           "legendgroup": "MSFT",
           "marker": {
            "color": "#EF553B",
            "symbol": "circle"
           },
           "mode": "markers",
           "name": "MSFT",
           "orientation": "v",
           "showlegend": true,
           "type": "scatter",
           "x": [
            "2023-01-22T00:00:00"
           ],
           "xaxis": "x",
           "y": [
            235.47078704833984
           ],
           "yaxis": "y"
          },
          {
           "hovertemplate": "variable=TSLA<br>Date=%{x}<br>Weekly Average Price=%{y}<extra></extra>",
           "legendgroup": "TSLA",
           "marker": {
            "color": "#00cc96",
            "symbol": "circle"
           },
           "mode": "markers",
           "name": "TSLA",
           "orientation": "v",
           "showlegend": true,
           "type": "scatter",
           "x": [
            "2023-01-22T00:00:00"
           ],
           "xaxis": "x",
           "y": [
            130.2150001525879
           ],
           "yaxis": "y"
          }
         ],
         "name": "2023-01-22 00:00:00"
        },
        {
         "data": [
          {
           "hovertemplate": "variable=AAPL<br>Date=%{x}<br>Weekly Average Price=%{y}<extra></extra>",
           "legendgroup": "AAPL",
           "marker": {
            "color": "#636efa",
            "symbol": "circle"
           },
           "mode": "markers",
           "name": "AAPL",
           "orientation": "v",
           "showlegend": true,
           "type": "scatter",
           "x": [
            "2023-01-29T00:00:00"
           ],
           "xaxis": "x",
           "y": [
            142.47015991210938
           ],
           "yaxis": "y"
          },
          {
           "hovertemplate": "variable=MSFT<br>Date=%{x}<br>Weekly Average Price=%{y}<extra></extra>",
           "legendgroup": "MSFT",
           "marker": {
            "color": "#EF553B",
            "symbol": "circle"
           },
           "mode": "markers",
           "name": "MSFT",
           "orientation": "v",
           "showlegend": true,
           "type": "scatter",
           "x": [
            "2023-01-29T00:00:00"
           ],
           "xaxis": "x",
           "y": [
            242.62249145507812
           ],
           "yaxis": "y"
          },
          {
           "hovertemplate": "variable=TSLA<br>Date=%{x}<br>Weekly Average Price=%{y}<extra></extra>",
           "legendgroup": "TSLA",
           "marker": {
            "color": "#00cc96",
            "symbol": "circle"
           },
           "mode": "markers",
           "name": "TSLA",
           "orientation": "v",
           "showlegend": true,
           "type": "scatter",
           "x": [
            "2023-01-29T00:00:00"
           ],
           "xaxis": "x",
           "y": [
            154.047998046875
           ],
           "yaxis": "y"
          }
         ],
         "name": "2023-01-29 00:00:00"
        },
        {
         "data": [
          {
           "hovertemplate": "variable=AAPL<br>Date=%{x}<br>Weekly Average Price=%{y}<extra></extra>",
           "legendgroup": "AAPL",
           "marker": {
            "color": "#636efa",
            "symbol": "circle"
           },
           "mode": "markers",
           "name": "AAPL",
           "orientation": "v",
           "showlegend": true,
           "type": "scatter",
           "x": [
            "2023-02-05T00:00:00"
           ],
           "xaxis": "x",
           "y": [
            146.9809112548828
           ],
           "yaxis": "y"
          },
          {
           "hovertemplate": "variable=MSFT<br>Date=%{x}<br>Weekly Average Price=%{y}<extra></extra>",
           "legendgroup": "MSFT",
           "marker": {
            "color": "#EF553B",
            "symbol": "circle"
           },
           "mode": "markers",
           "name": "MSFT",
           "orientation": "v",
           "showlegend": true,
           "type": "scatter",
           "x": [
            "2023-02-05T00:00:00"
           ],
           "xaxis": "x",
           "y": [
            251.52772827148436
           ],
           "yaxis": "y"
          },
          {
           "hovertemplate": "variable=TSLA<br>Date=%{x}<br>Weekly Average Price=%{y}<extra></extra>",
           "legendgroup": "TSLA",
           "marker": {
            "color": "#00cc96",
            "symbol": "circle"
           },
           "mode": "markers",
           "name": "TSLA",
           "orientation": "v",
           "showlegend": true,
           "type": "scatter",
           "x": [
            "2023-02-05T00:00:00"
           ],
           "xaxis": "x",
           "y": [
            179.9080017089844
           ],
           "yaxis": "y"
          }
         ],
         "name": "2023-02-05 00:00:00"
        },
        {
         "data": [
          {
           "hovertemplate": "variable=AAPL<br>Date=%{x}<br>Weekly Average Price=%{y}<extra></extra>",
           "legendgroup": "AAPL",
           "marker": {
            "color": "#636efa",
            "symbol": "circle"
           },
           "mode": "markers",
           "name": "AAPL",
           "orientation": "v",
           "showlegend": true,
           "type": "scatter",
           "x": [
            "2023-02-12T00:00:00"
           ],
           "xaxis": "x",
           "y": [
            151.43601989746094
           ],
           "yaxis": "y"
          },
          {
           "hovertemplate": "variable=MSFT<br>Date=%{x}<br>Weekly Average Price=%{y}<extra></extra>",
           "legendgroup": "MSFT",
           "marker": {
            "color": "#EF553B",
            "symbol": "circle"
           },
           "mode": "markers",
           "name": "MSFT",
           "orientation": "v",
           "showlegend": true,
           "type": "scatter",
           "x": [
            "2023-02-12T00:00:00"
           ],
           "xaxis": "x",
           "y": [
            261.76983337402345
           ],
           "yaxis": "y"
          },
          {
           "hovertemplate": "variable=TSLA<br>Date=%{x}<br>Weekly Average Price=%{y}<extra></extra>",
           "legendgroup": "TSLA",
           "marker": {
            "color": "#00cc96",
            "symbol": "circle"
           },
           "mode": "markers",
           "name": "TSLA",
           "orientation": "v",
           "showlegend": true,
           "type": "scatter",
           "x": [
            "2023-02-12T00:00:00"
           ],
           "xaxis": "x",
           "y": [
            199.41399841308595
           ],
           "yaxis": "y"
          }
         ],
         "name": "2023-02-12 00:00:00"
        },
        {
         "data": [
          {
           "hovertemplate": "variable=AAPL<br>Date=%{x}<br>Weekly Average Price=%{y}<extra></extra>",
           "legendgroup": "AAPL",
           "marker": {
            "color": "#636efa",
            "symbol": "circle"
           },
           "mode": "markers",
           "name": "AAPL",
           "orientation": "v",
           "showlegend": true,
           "type": "scatter",
           "x": [
            "2023-02-19T00:00:00"
           ],
           "xaxis": "x",
           "y": [
            153.3086395263672
           ],
           "yaxis": "y"
          },
          {
           "hovertemplate": "variable=MSFT<br>Date=%{x}<br>Weekly Average Price=%{y}<extra></extra>",
           "legendgroup": "MSFT",
           "marker": {
            "color": "#EF553B",
            "symbol": "circle"
           },
           "mode": "markers",
           "name": "MSFT",
           "orientation": "v",
           "showlegend": true,
           "type": "scatter",
           "x": [
            "2023-02-19T00:00:00"
           ],
           "xaxis": "x",
           "y": [
            265.1900146484375
           ],
           "yaxis": "y"
          },
          {
           "hovertemplate": "variable=TSLA<br>Date=%{x}<br>Weekly Average Price=%{y}<extra></extra>",
           "legendgroup": "TSLA",
           "marker": {
            "color": "#00cc96",
            "symbol": "circle"
           },
           "mode": "markers",
           "name": "TSLA",
           "orientation": "v",
           "showlegend": true,
           "type": "scatter",
           "x": [
            "2023-02-19T00:00:00"
           ],
           "xaxis": "x",
           "y": [
            205.6959991455078
           ],
           "yaxis": "y"
          }
         ],
         "name": "2023-02-19 00:00:00"
        },
        {
         "data": [
          {
           "hovertemplate": "variable=AAPL<br>Date=%{x}<br>Weekly Average Price=%{y}<extra></extra>",
           "legendgroup": "AAPL",
           "marker": {
            "color": "#636efa",
            "symbol": "circle"
           },
           "mode": "markers",
           "name": "AAPL",
           "orientation": "v",
           "showlegend": true,
           "type": "scatter",
           "x": [
            "2023-02-26T00:00:00"
           ],
           "xaxis": "x",
           "y": [
            147.9702377319336
           ],
           "yaxis": "y"
          },
          {
           "hovertemplate": "variable=MSFT<br>Date=%{x}<br>Weekly Average Price=%{y}<extra></extra>",
           "legendgroup": "MSFT",
           "marker": {
            "color": "#EF553B",
            "symbol": "circle"
           },
           "mode": "markers",
           "name": "MSFT",
           "orientation": "v",
           "showlegend": true,
           "type": "scatter",
           "x": [
            "2023-02-26T00:00:00"
           ],
           "xaxis": "x",
           "y": [
            250.9613800048828
           ],
           "yaxis": "y"
          },
          {
           "hovertemplate": "variable=TSLA<br>Date=%{x}<br>Weekly Average Price=%{y}<extra></extra>",
           "legendgroup": "TSLA",
           "marker": {
            "color": "#00cc96",
            "symbol": "circle"
           },
           "mode": "markers",
           "name": "TSLA",
           "orientation": "v",
           "showlegend": true,
           "type": "scatter",
           "x": [
            "2023-02-26T00:00:00"
           ],
           "xaxis": "x",
           "y": [
            199.29500198364258
           ],
           "yaxis": "y"
          }
         ],
         "name": "2023-02-26 00:00:00"
        },
        {
         "data": [
          {
           "hovertemplate": "variable=AAPL<br>Date=%{x}<br>Weekly Average Price=%{y}<extra></extra>",
           "legendgroup": "AAPL",
           "marker": {
            "color": "#636efa",
            "symbol": "circle"
           },
           "mode": "markers",
           "name": "AAPL",
           "orientation": "v",
           "showlegend": true,
           "type": "scatter",
           "x": [
            "2023-03-05T00:00:00"
           ],
           "xaxis": "x",
           "y": [
            147.11358032226562
           ],
           "yaxis": "y"
          },
          {
           "hovertemplate": "variable=MSFT<br>Date=%{x}<br>Weekly Average Price=%{y}<extra></extra>",
           "legendgroup": "MSFT",
           "marker": {
            "color": "#EF553B",
            "symbol": "circle"
           },
           "mode": "markers",
           "name": "MSFT",
           "orientation": "v",
           "showlegend": true,
           "type": "scatter",
           "x": [
            "2023-03-05T00:00:00"
           ],
           "xaxis": "x",
           "y": [
            249.3757110595703
           ],
           "yaxis": "y"
          },
          {
           "hovertemplate": "variable=TSLA<br>Date=%{x}<br>Weekly Average Price=%{y}<extra></extra>",
           "legendgroup": "TSLA",
           "marker": {
            "color": "#00cc96",
            "symbol": "circle"
           },
           "mode": "markers",
           "name": "TSLA",
           "orientation": "v",
           "showlegend": true,
           "type": "scatter",
           "x": [
            "2023-03-05T00:00:00"
           ],
           "xaxis": "x",
           "y": [
            200.96000061035156
           ],
           "yaxis": "y"
          }
         ],
         "name": "2023-03-05 00:00:00"
        },
        {
         "data": [
          {
           "hovertemplate": "variable=AAPL<br>Date=%{x}<br>Weekly Average Price=%{y}<extra></extra>",
           "legendgroup": "AAPL",
           "marker": {
            "color": "#636efa",
            "symbol": "circle"
           },
           "mode": "markers",
           "name": "AAPL",
           "orientation": "v",
           "showlegend": true,
           "type": "scatter",
           "x": [
            "2023-03-12T00:00:00"
           ],
           "xaxis": "x",
           "y": [
            151.0647705078125
           ],
           "yaxis": "y"
          },
          {
           "hovertemplate": "variable=MSFT<br>Date=%{x}<br>Weekly Average Price=%{y}<extra></extra>",
           "legendgroup": "MSFT",
           "marker": {
            "color": "#EF553B",
            "symbol": "circle"
           },
           "mode": "markers",
           "name": "MSFT",
           "orientation": "v",
           "showlegend": true,
           "type": "scatter",
           "x": [
            "2023-03-12T00:00:00"
           ],
           "xaxis": "x",
           "y": [
            252.04022827148438
           ],
           "yaxis": "y"
          },
          {
           "hovertemplate": "variable=TSLA<br>Date=%{x}<br>Weekly Average Price=%{y}<extra></extra>",
           "legendgroup": "TSLA",
           "marker": {
            "color": "#00cc96",
            "symbol": "circle"
           },
           "mode": "markers",
           "name": "TSLA",
           "orientation": "v",
           "showlegend": true,
           "type": "scatter",
           "x": [
            "2023-03-12T00:00:00"
           ],
           "xaxis": "x",
           "y": [
            181.9760009765625
           ],
           "yaxis": "y"
          }
         ],
         "name": "2023-03-12 00:00:00"
        },
        {
         "data": [
          {
           "hovertemplate": "variable=AAPL<br>Date=%{x}<br>Weekly Average Price=%{y}<extra></extra>",
           "legendgroup": "AAPL",
           "marker": {
            "color": "#636efa",
            "symbol": "circle"
           },
           "mode": "markers",
           "name": "AAPL",
           "orientation": "v",
           "showlegend": true,
           "type": "scatter",
           "x": [
            "2023-03-19T00:00:00"
           ],
           "xaxis": "x",
           "y": [
            152.96158752441406
           ],
           "yaxis": "y"
          },
          {
           "hovertemplate": "variable=MSFT<br>Date=%{x}<br>Weekly Average Price=%{y}<extra></extra>",
           "legendgroup": "MSFT",
           "marker": {
            "color": "#EF553B",
            "symbol": "circle"
           },
           "mode": "markers",
           "name": "MSFT",
           "orientation": "v",
           "showlegend": true,
           "type": "scatter",
           "x": [
            "2023-03-19T00:00:00"
           ],
           "xaxis": "x",
           "y": [
            266.0100555419922
           ],
           "yaxis": "y"
          },
          {
           "hovertemplate": "variable=TSLA<br>Date=%{x}<br>Weekly Average Price=%{y}<extra></extra>",
           "legendgroup": "TSLA",
           "marker": {
            "color": "#00cc96",
            "symbol": "circle"
           },
           "mode": "markers",
           "name": "TSLA",
           "orientation": "v",
           "showlegend": true,
           "type": "scatter",
           "x": [
            "2023-03-19T00:00:00"
           ],
           "xaxis": "x",
           "y": [
            180.48999938964843
           ],
           "yaxis": "y"
          }
         ],
         "name": "2023-03-19 00:00:00"
        },
        {
         "data": [
          {
           "hovertemplate": "variable=AAPL<br>Date=%{x}<br>Weekly Average Price=%{y}<extra></extra>",
           "legendgroup": "AAPL",
           "marker": {
            "color": "#636efa",
            "symbol": "circle"
           },
           "mode": "markers",
           "name": "AAPL",
           "orientation": "v",
           "showlegend": true,
           "type": "scatter",
           "x": [
            "2023-03-26T00:00:00"
           ],
           "xaxis": "x",
           "y": [
            158.30496215820312
           ],
           "yaxis": "y"
          },
          {
           "hovertemplate": "variable=MSFT<br>Date=%{x}<br>Weekly Average Price=%{y}<extra></extra>",
           "legendgroup": "MSFT",
           "marker": {
            "color": "#EF553B",
            "symbol": "circle"
           },
           "mode": "markers",
           "name": "MSFT",
           "orientation": "v",
           "showlegend": true,
           "type": "scatter",
           "x": [
            "2023-03-26T00:00:00"
           ],
           "xaxis": "x",
           "y": [
            274.1250915527344
           ],
           "yaxis": "y"
          },
          {
           "hovertemplate": "variable=TSLA<br>Date=%{x}<br>Weekly Average Price=%{y}<extra></extra>",
           "legendgroup": "TSLA",
           "marker": {
            "color": "#00cc96",
            "symbol": "circle"
           },
           "mode": "markers",
           "name": "TSLA",
           "orientation": "v",
           "showlegend": true,
           "type": "scatter",
           "x": [
            "2023-03-26T00:00:00"
           ],
           "xaxis": "x",
           "y": [
            190.9220001220703
           ],
           "yaxis": "y"
          }
         ],
         "name": "2023-03-26 00:00:00"
        },
        {
         "data": [
          {
           "hovertemplate": "variable=AAPL<br>Date=%{x}<br>Weekly Average Price=%{y}<extra></extra>",
           "legendgroup": "AAPL",
           "marker": {
            "color": "#636efa",
            "symbol": "circle"
           },
           "mode": "markers",
           "name": "AAPL",
           "orientation": "v",
           "showlegend": true,
           "type": "scatter",
           "x": [
            "2023-04-02T00:00:00"
           ],
           "xaxis": "x",
           "y": [
            160.35336608886718
           ],
           "yaxis": "y"
          },
          {
           "hovertemplate": "variable=MSFT<br>Date=%{x}<br>Weekly Average Price=%{y}<extra></extra>",
           "legendgroup": "MSFT",
           "marker": {
            "color": "#EF553B",
            "symbol": "circle"
           },
           "mode": "markers",
           "name": "MSFT",
           "orientation": "v",
           "showlegend": true,
           "type": "scatter",
           "x": [
            "2023-04-02T00:00:00"
           ],
           "xaxis": "x",
           "y": [
            279.6891235351562
           ],
           "yaxis": "y"
          },
          {
           "hovertemplate": "variable=TSLA<br>Date=%{x}<br>Weekly Average Price=%{y}<extra></extra>",
           "legendgroup": "TSLA",
           "marker": {
            "color": "#00cc96",
            "symbol": "circle"
           },
           "mode": "markers",
           "name": "TSLA",
           "orientation": "v",
           "showlegend": true,
           "type": "scatter",
           "x": [
            "2023-04-02T00:00:00"
           ],
           "xaxis": "x",
           "y": [
            195.5240020751953
           ],
           "yaxis": "y"
          }
         ],
         "name": "2023-04-02 00:00:00"
        },
        {
         "data": [
          {
           "hovertemplate": "variable=AAPL<br>Date=%{x}<br>Weekly Average Price=%{y}<extra></extra>",
           "legendgroup": "AAPL",
           "marker": {
            "color": "#636efa",
            "symbol": "circle"
           },
           "mode": "markers",
           "name": "AAPL",
           "orientation": "v",
           "showlegend": true,
           "type": "scatter",
           "x": [
            "2023-04-09T00:00:00"
           ],
           "xaxis": "x",
           "y": [
            164.604736328125
           ],
           "yaxis": "y"
          },
          {
           "hovertemplate": "variable=MSFT<br>Date=%{x}<br>Weekly Average Price=%{y}<extra></extra>",
           "legendgroup": "MSFT",
           "marker": {
            "color": "#EF553B",
            "symbol": "circle"
           },
           "mode": "markers",
           "name": "MSFT",
           "orientation": "v",
           "showlegend": true,
           "type": "scatter",
           "x": [
            "2023-04-09T00:00:00"
           ],
           "xaxis": "x",
           "y": [
            286.3539047241211
           ],
           "yaxis": "y"
          },
          {
           "hovertemplate": "variable=TSLA<br>Date=%{x}<br>Weekly Average Price=%{y}<extra></extra>",
           "legendgroup": "TSLA",
           "marker": {
            "color": "#00cc96",
            "symbol": "circle"
           },
           "mode": "markers",
           "name": "TSLA",
           "orientation": "v",
           "showlegend": true,
           "type": "scatter",
           "x": [
            "2023-04-09T00:00:00"
           ],
           "xaxis": "x",
           "y": [
            189.48250198364258
           ],
           "yaxis": "y"
          }
         ],
         "name": "2023-04-09 00:00:00"
        },
        {
         "data": [
          {
           "hovertemplate": "variable=AAPL<br>Date=%{x}<br>Weekly Average Price=%{y}<extra></extra>",
           "legendgroup": "AAPL",
           "marker": {
            "color": "#636efa",
            "symbol": "circle"
           },
           "mode": "markers",
           "name": "AAPL",
           "orientation": "v",
           "showlegend": true,
           "type": "scatter",
           "x": [
            "2023-04-16T00:00:00"
           ],
           "xaxis": "x",
           "y": [
            162.29605102539062
           ],
           "yaxis": "y"
          },
          {
           "hovertemplate": "variable=MSFT<br>Date=%{x}<br>Weekly Average Price=%{y}<extra></extra>",
           "legendgroup": "MSFT",
           "marker": {
            "color": "#EF553B",
            "symbol": "circle"
           },
           "mode": "markers",
           "name": "MSFT",
           "orientation": "v",
           "showlegend": true,
           "type": "scatter",
           "x": [
            "2023-04-16T00:00:00"
           ],
           "xaxis": "x",
           "y": [
            285.1097717285156
           ],
           "yaxis": "y"
          },
          {
           "hovertemplate": "variable=TSLA<br>Date=%{x}<br>Weekly Average Price=%{y}<extra></extra>",
           "legendgroup": "TSLA",
           "marker": {
            "color": "#00cc96",
            "symbol": "circle"
           },
           "mode": "markers",
           "name": "TSLA",
           "orientation": "v",
           "showlegend": true,
           "type": "scatter",
           "x": [
            "2023-04-16T00:00:00"
           ],
           "xaxis": "x",
           "y": [
            184.5479949951172
           ],
           "yaxis": "y"
          }
         ],
         "name": "2023-04-16 00:00:00"
        },
        {
         "data": [
          {
           "hovertemplate": "variable=AAPL<br>Date=%{x}<br>Weekly Average Price=%{y}<extra></extra>",
           "legendgroup": "AAPL",
           "marker": {
            "color": "#636efa",
            "symbol": "circle"
           },
           "mode": "markers",
           "name": "AAPL",
           "orientation": "v",
           "showlegend": true,
           "type": "scatter",
           "x": [
            "2023-04-23T00:00:00"
           ],
           "xaxis": "x",
           "y": [
            165.74661560058593
           ],
           "yaxis": "y"
          },
          {
           "hovertemplate": "variable=MSFT<br>Date=%{x}<br>Weekly Average Price=%{y}<extra></extra>",
           "legendgroup": "MSFT",
           "marker": {
            "color": "#EF553B",
            "symbol": "circle"
           },
           "mode": "markers",
           "name": "MSFT",
           "orientation": "v",
           "showlegend": true,
           "type": "scatter",
           "x": [
            "2023-04-23T00:00:00"
           ],
           "xaxis": "x",
           "y": [
            286.26478881835936
           ],
           "yaxis": "y"
          },
          {
           "hovertemplate": "variable=TSLA<br>Date=%{x}<br>Weekly Average Price=%{y}<extra></extra>",
           "legendgroup": "TSLA",
           "marker": {
            "color": "#00cc96",
            "symbol": "circle"
           },
           "mode": "markers",
           "name": "TSLA",
           "orientation": "v",
           "showlegend": true,
           "type": "scatter",
           "x": [
            "2023-04-23T00:00:00"
           ],
           "xaxis": "x",
           "y": [
            176.0019989013672
           ],
           "yaxis": "y"
          }
         ],
         "name": "2023-04-23 00:00:00"
        },
        {
         "data": [
          {
           "hovertemplate": "variable=AAPL<br>Date=%{x}<br>Weekly Average Price=%{y}<extra></extra>",
           "legendgroup": "AAPL",
           "marker": {
            "color": "#636efa",
            "symbol": "circle"
           },
           "mode": "markers",
           "name": "AAPL",
           "orientation": "v",
           "showlegend": true,
           "type": "scatter",
           "x": [
            "2023-04-30T00:00:00"
           ],
           "xaxis": "x",
           "y": [
            165.73663940429688
           ],
           "yaxis": "y"
          },
          {
           "hovertemplate": "variable=MSFT<br>Date=%{x}<br>Weekly Average Price=%{y}<extra></extra>",
           "legendgroup": "MSFT",
           "marker": {
            "color": "#EF553B",
            "symbol": "circle"
           },
           "mode": "markers",
           "name": "MSFT",
           "orientation": "v",
           "showlegend": true,
           "type": "scatter",
           "x": [
            "2023-04-30T00:00:00"
           ],
           "xaxis": "x",
           "y": [
            291.6735046386719
           ],
           "yaxis": "y"
          },
          {
           "hovertemplate": "variable=TSLA<br>Date=%{x}<br>Weekly Average Price=%{y}<extra></extra>",
           "legendgroup": "TSLA",
           "marker": {
            "color": "#00cc96",
            "symbol": "circle"
           },
           "mode": "markers",
           "name": "TSLA",
           "orientation": "v",
           "showlegend": true,
           "type": "scatter",
           "x": [
            "2023-04-30T00:00:00"
           ],
           "xaxis": "x",
           "y": [
            160.29400024414062
           ],
           "yaxis": "y"
          }
         ],
         "name": "2023-04-30 00:00:00"
        },
        {
         "data": [
          {
           "hovertemplate": "variable=AAPL<br>Date=%{x}<br>Weekly Average Price=%{y}<extra></extra>",
           "legendgroup": "AAPL",
           "marker": {
            "color": "#636efa",
            "symbol": "circle"
           },
           "mode": "markers",
           "name": "AAPL",
           "orientation": "v",
           "showlegend": true,
           "type": "scatter",
           "x": [
            "2023-05-07T00:00:00"
           ],
           "xaxis": "x",
           "y": [
            168.527001953125
           ],
           "yaxis": "y"
          },
          {
           "hovertemplate": "variable=MSFT<br>Date=%{x}<br>Weekly Average Price=%{y}<extra></extra>",
           "legendgroup": "MSFT",
           "marker": {
            "color": "#EF553B",
            "symbol": "circle"
           },
           "mode": "markers",
           "name": "MSFT",
           "orientation": "v",
           "showlegend": true,
           "type": "scatter",
           "x": [
            "2023-05-07T00:00:00"
           ],
           "xaxis": "x",
           "y": [
            304.9722045898437
           ],
           "yaxis": "y"
          },
          {
           "hovertemplate": "variable=TSLA<br>Date=%{x}<br>Weekly Average Price=%{y}<extra></extra>",
           "legendgroup": "TSLA",
           "marker": {
            "color": "#00cc96",
            "symbol": "circle"
           },
           "mode": "markers",
           "name": "TSLA",
           "orientation": "v",
           "showlegend": true,
           "type": "scatter",
           "x": [
            "2023-05-07T00:00:00"
           ],
           "xaxis": "x",
           "y": [
            162.8019989013672
           ],
           "yaxis": "y"
          }
         ],
         "name": "2023-05-07 00:00:00"
        },
        {
         "data": [
          {
           "hovertemplate": "variable=AAPL<br>Date=%{x}<br>Weekly Average Price=%{y}<extra></extra>",
           "legendgroup": "AAPL",
           "marker": {
            "color": "#636efa",
            "symbol": "circle"
           },
           "mode": "markers",
           "name": "AAPL",
           "orientation": "v",
           "showlegend": true,
           "type": "scatter",
           "x": [
            "2023-05-14T00:00:00"
           ],
           "xaxis": "x",
           "y": [
            172.6055877685547
           ],
           "yaxis": "y"
          },
          {
           "hovertemplate": "variable=MSFT<br>Date=%{x}<br>Weekly Average Price=%{y}<extra></extra>",
           "legendgroup": "MSFT",
           "marker": {
            "color": "#EF553B",
            "symbol": "circle"
           },
           "mode": "markers",
           "name": "MSFT",
           "orientation": "v",
           "showlegend": true,
           "type": "scatter",
           "x": [
            "2023-05-14T00:00:00"
           ],
           "xaxis": "x",
           "y": [
            308.080810546875
           ],
           "yaxis": "y"
          },
          {
           "hovertemplate": "variable=TSLA<br>Date=%{x}<br>Weekly Average Price=%{y}<extra></extra>",
           "legendgroup": "TSLA",
           "marker": {
            "color": "#00cc96",
            "symbol": "circle"
           },
           "mode": "markers",
           "name": "TSLA",
           "orientation": "v",
           "showlegend": true,
           "type": "scatter",
           "x": [
            "2023-05-14T00:00:00"
           ],
           "xaxis": "x",
           "y": [
            169.90799560546876
           ],
           "yaxis": "y"
          }
         ],
         "name": "2023-05-14 00:00:00"
        },
        {
         "data": [
          {
           "hovertemplate": "variable=AAPL<br>Date=%{x}<br>Weekly Average Price=%{y}<extra></extra>",
           "legendgroup": "AAPL",
           "marker": {
            "color": "#636efa",
            "symbol": "circle"
           },
           "mode": "markers",
           "name": "AAPL",
           "orientation": "v",
           "showlegend": true,
           "type": "scatter",
           "x": [
            "2023-05-21T00:00:00"
           ],
           "xaxis": "x",
           "y": [
            173.17415771484374
           ],
           "yaxis": "y"
          },
          {
           "hovertemplate": "variable=MSFT<br>Date=%{x}<br>Weekly Average Price=%{y}<extra></extra>",
           "legendgroup": "MSFT",
           "marker": {
            "color": "#EF553B",
            "symbol": "circle"
           },
           "mode": "markers",
           "name": "MSFT",
           "orientation": "v",
           "showlegend": true,
           "type": "scatter",
           "x": [
            "2023-05-21T00:00:00"
           ],
           "xaxis": "x",
           "y": [
            313.477294921875
           ],
           "yaxis": "y"
          },
          {
           "hovertemplate": "variable=TSLA<br>Date=%{x}<br>Weekly Average Price=%{y}<extra></extra>",
           "legendgroup": "TSLA",
           "marker": {
            "color": "#00cc96",
            "symbol": "circle"
           },
           "mode": "markers",
           "name": "TSLA",
           "orientation": "v",
           "showlegend": true,
           "type": "scatter",
           "x": [
            "2023-05-21T00:00:00"
           ],
           "xaxis": "x",
           "y": [
            172.752001953125
           ],
           "yaxis": "y"
          }
         ],
         "name": "2023-05-21 00:00:00"
        },
        {
         "data": [
          {
           "hovertemplate": "variable=AAPL<br>Date=%{x}<br>Weekly Average Price=%{y}<extra></extra>",
           "legendgroup": "AAPL",
           "marker": {
            "color": "#636efa",
            "symbol": "circle"
           },
           "mode": "markers",
           "name": "AAPL",
           "orientation": "v",
           "showlegend": true,
           "type": "scatter",
           "x": [
            "2023-05-28T00:00:00"
           ],
           "xaxis": "x",
           "y": [
            172.97042236328124
           ],
           "yaxis": "y"
          },
          {
           "hovertemplate": "variable=MSFT<br>Date=%{x}<br>Weekly Average Price=%{y}<extra></extra>",
           "legendgroup": "MSFT",
           "marker": {
            "color": "#EF553B",
            "symbol": "circle"
           },
           "mode": "markers",
           "name": "MSFT",
           "orientation": "v",
           "showlegend": true,
           "type": "scatter",
           "x": [
            "2023-05-28T00:00:00"
           ],
           "xaxis": "x",
           "y": [
            321.14008178710935
           ],
           "yaxis": "y"
          },
          {
           "hovertemplate": "variable=TSLA<br>Date=%{x}<br>Weekly Average Price=%{y}<extra></extra>",
           "legendgroup": "TSLA",
           "marker": {
            "color": "#00cc96",
            "symbol": "circle"
           },
           "mode": "markers",
           "name": "TSLA",
           "orientation": "v",
           "showlegend": true,
           "type": "scatter",
           "x": [
            "2023-05-28T00:00:00"
           ],
           "xaxis": "x",
           "y": [
            187.03599853515624
           ],
           "yaxis": "y"
          }
         ],
         "name": "2023-05-28 00:00:00"
        },
        {
         "data": [
          {
           "hovertemplate": "variable=AAPL<br>Date=%{x}<br>Weekly Average Price=%{y}<extra></extra>",
           "legendgroup": "AAPL",
           "marker": {
            "color": "#636efa",
            "symbol": "circle"
           },
           "mode": "markers",
           "name": "AAPL",
           "orientation": "v",
           "showlegend": true,
           "type": "scatter",
           "x": [
            "2023-06-04T00:00:00"
           ],
           "xaxis": "x",
           "y": [
            178.65624618530273
           ],
           "yaxis": "y"
          },
          {
           "hovertemplate": "variable=MSFT<br>Date=%{x}<br>Weekly Average Price=%{y}<extra></extra>",
           "legendgroup": "MSFT",
           "marker": {
            "color": "#EF553B",
            "symbol": "circle"
           },
           "mode": "markers",
           "name": "MSFT",
           "orientation": "v",
           "showlegend": true,
           "type": "scatter",
           "x": [
            "2023-06-04T00:00:00"
           ],
           "xaxis": "x",
           "y": [
            331.1937789916992
           ],
           "yaxis": "y"
          },
          {
           "hovertemplate": "variable=TSLA<br>Date=%{x}<br>Weekly Average Price=%{y}<extra></extra>",
           "legendgroup": "TSLA",
           "marker": {
            "color": "#00cc96",
            "symbol": "circle"
           },
           "mode": "markers",
           "name": "TSLA",
           "orientation": "v",
           "showlegend": true,
           "type": "scatter",
           "x": [
            "2023-06-04T00:00:00"
           ],
           "xaxis": "x",
           "y": [
            206.64500045776367
           ],
           "yaxis": "y"
          }
         ],
         "name": "2023-06-04 00:00:00"
        },
        {
         "data": [
          {
           "hovertemplate": "variable=AAPL<br>Date=%{x}<br>Weekly Average Price=%{y}<extra></extra>",
           "legendgroup": "AAPL",
           "marker": {
            "color": "#636efa",
            "symbol": "circle"
           },
           "mode": "markers",
           "name": "AAPL",
           "orientation": "v",
           "showlegend": true,
           "type": "scatter",
           "x": [
            "2023-06-11T00:00:00"
           ],
           "xaxis": "x",
           "y": [
            179.3857666015625
           ],
           "yaxis": "y"
          },
          {
           "hovertemplate": "variable=MSFT<br>Date=%{x}<br>Weekly Average Price=%{y}<extra></extra>",
           "legendgroup": "MSFT",
           "marker": {
            "color": "#EF553B",
            "symbol": "circle"
           },
           "mode": "markers",
           "name": "MSFT",
           "orientation": "v",
           "showlegend": true,
           "type": "scatter",
           "x": [
            "2023-06-11T00:00:00"
           ],
           "xaxis": "x",
           "y": [
            328.31488647460935
           ],
           "yaxis": "y"
          },
          {
           "hovertemplate": "variable=TSLA<br>Date=%{x}<br>Weekly Average Price=%{y}<extra></extra>",
           "legendgroup": "TSLA",
           "marker": {
            "color": "#00cc96",
            "symbol": "circle"
           },
           "mode": "markers",
           "name": "TSLA",
           "orientation": "v",
           "showlegend": true,
           "type": "scatter",
           "x": [
            "2023-06-11T00:00:00"
           ],
           "xaxis": "x",
           "y": [
            228.55
           ],
           "yaxis": "y"
          }
         ],
         "name": "2023-06-11 00:00:00"
        },
        {
         "data": [
          {
           "hovertemplate": "variable=AAPL<br>Date=%{x}<br>Weekly Average Price=%{y}<extra></extra>",
           "legendgroup": "AAPL",
           "marker": {
            "color": "#636efa",
            "symbol": "circle"
           },
           "mode": "markers",
           "name": "AAPL",
           "orientation": "v",
           "showlegend": true,
           "type": "scatter",
           "x": [
            "2023-06-18T00:00:00"
           ],
           "xaxis": "x",
           "y": [
            184.14732971191407
           ],
           "yaxis": "y"
          },
          {
           "hovertemplate": "variable=MSFT<br>Date=%{x}<br>Weekly Average Price=%{y}<extra></extra>",
           "legendgroup": "MSFT",
           "marker": {
            "color": "#EF553B",
            "symbol": "circle"
           },
           "mode": "markers",
           "name": "MSFT",
           "orientation": "v",
           "showlegend": true,
           "type": "scatter",
           "x": [
            "2023-06-18T00:00:00"
           ],
           "xaxis": "x",
           "y": [
            338.0662414550781
           ],
           "yaxis": "y"
          },
          {
           "hovertemplate": "variable=TSLA<br>Date=%{x}<br>Weekly Average Price=%{y}<extra></extra>",
           "legendgroup": "TSLA",
           "marker": {
            "color": "#00cc96",
            "symbol": "circle"
           },
           "mode": "markers",
           "name": "TSLA",
           "orientation": "v",
           "showlegend": true,
           "type": "scatter",
           "x": [
            "2023-06-18T00:00:00"
           ],
           "xaxis": "x",
           "y": [
            256.3540008544922
           ],
           "yaxis": "y"
          }
         ],
         "name": "2023-06-18 00:00:00"
        },
        {
         "data": [
          {
           "hovertemplate": "variable=AAPL<br>Date=%{x}<br>Weekly Average Price=%{y}<extra></extra>",
           "legendgroup": "AAPL",
           "marker": {
            "color": "#636efa",
            "symbol": "circle"
           },
           "mode": "markers",
           "name": "AAPL",
           "orientation": "v",
           "showlegend": true,
           "type": "scatter",
           "x": [
            "2023-06-25T00:00:00"
           ],
           "xaxis": "x",
           "y": [
            185.4121208190918
           ],
           "yaxis": "y"
          },
          {
           "hovertemplate": "variable=MSFT<br>Date=%{x}<br>Weekly Average Price=%{y}<extra></extra>",
           "legendgroup": "MSFT",
           "marker": {
            "color": "#EF553B",
            "symbol": "circle"
           },
           "mode": "markers",
           "name": "MSFT",
           "orientation": "v",
           "showlegend": true,
           "type": "scatter",
           "x": [
            "2023-06-25T00:00:00"
           ],
           "xaxis": "x",
           "y": [
            335.8738708496094
           ],
           "yaxis": "y"
          },
          {
           "hovertemplate": "variable=TSLA<br>Date=%{x}<br>Weekly Average Price=%{y}<extra></extra>",
           "legendgroup": "TSLA",
           "marker": {
            "color": "#00cc96",
            "symbol": "circle"
           },
           "mode": "markers",
           "name": "TSLA",
           "orientation": "v",
           "showlegend": true,
           "type": "scatter",
           "x": [
            "2023-06-25T00:00:00"
           ],
           "xaxis": "x",
           "y": [
            263.7799987792969
           ],
           "yaxis": "y"
          }
         ],
         "name": "2023-06-25 00:00:00"
        },
        {
         "data": [
          {
           "hovertemplate": "variable=AAPL<br>Date=%{x}<br>Weekly Average Price=%{y}<extra></extra>",
           "legendgroup": "AAPL",
           "marker": {
            "color": "#636efa",
            "symbol": "circle"
           },
           "mode": "markers",
           "name": "AAPL",
           "orientation": "v",
           "showlegend": true,
           "type": "scatter",
           "x": [
            "2023-07-02T00:00:00"
           ],
           "xaxis": "x",
           "y": [
            188.97281188964843
           ],
           "yaxis": "y"
          },
          {
           "hovertemplate": "variable=MSFT<br>Date=%{x}<br>Weekly Average Price=%{y}<extra></extra>",
           "legendgroup": "MSFT",
           "marker": {
            "color": "#EF553B",
            "symbol": "circle"
           },
           "mode": "markers",
           "name": "MSFT",
           "orientation": "v",
           "showlegend": true,
           "type": "scatter",
           "x": [
            "2023-07-02T00:00:00"
           ],
           "xaxis": "x",
           "y": [
            334.2143981933594
           ],
           "yaxis": "y"
          },
          {
           "hovertemplate": "variable=TSLA<br>Date=%{x}<br>Weekly Average Price=%{y}<extra></extra>",
           "legendgroup": "TSLA",
           "marker": {
            "color": "#00cc96",
            "symbol": "circle"
           },
           "mode": "markers",
           "name": "TSLA",
           "orientation": "v",
           "showlegend": true,
           "type": "scatter",
           "x": [
            "2023-07-02T00:00:00"
           ],
           "xaxis": "x",
           "y": [
            253.35399780273437
           ],
           "yaxis": "y"
          }
         ],
         "name": "2023-07-02 00:00:00"
        },
        {
         "data": [
          {
           "hovertemplate": "variable=AAPL<br>Date=%{x}<br>Weekly Average Price=%{y}<extra></extra>",
           "legendgroup": "AAPL",
           "marker": {
            "color": "#636efa",
            "symbol": "circle"
           },
           "mode": "markers",
           "name": "AAPL",
           "orientation": "v",
           "showlegend": true,
           "type": "scatter",
           "x": [
            "2023-07-09T00:00:00"
           ],
           "xaxis": "x",
           "y": [
            191.3116569519043
           ],
           "yaxis": "y"
          },
          {
           "hovertemplate": "variable=MSFT<br>Date=%{x}<br>Weekly Average Price=%{y}<extra></extra>",
           "legendgroup": "MSFT",
           "marker": {
            "color": "#EF553B",
            "symbol": "circle"
           },
           "mode": "markers",
           "name": "MSFT",
           "orientation": "v",
           "showlegend": true,
           "type": "scatter",
           "x": [
            "2023-07-09T00:00:00"
           ],
           "xaxis": "x",
           "y": [
            337.94200134277344
           ],
           "yaxis": "y"
          },
          {
           "hovertemplate": "variable=TSLA<br>Date=%{x}<br>Weekly Average Price=%{y}<extra></extra>",
           "legendgroup": "TSLA",
           "marker": {
            "color": "#00cc96",
            "symbol": "circle"
           },
           "mode": "markers",
           "name": "TSLA",
           "orientation": "v",
           "showlegend": true,
           "type": "scatter",
           "x": [
            "2023-07-09T00:00:00"
           ],
           "xaxis": "x",
           "y": [
            278.3175048828125
           ],
           "yaxis": "y"
          }
         ],
         "name": "2023-07-09 00:00:00"
        },
        {
         "data": [
          {
           "hovertemplate": "variable=AAPL<br>Date=%{x}<br>Weekly Average Price=%{y}<extra></extra>",
           "legendgroup": "AAPL",
           "marker": {
            "color": "#636efa",
            "symbol": "circle"
           },
           "mode": "markers",
           "name": "AAPL",
           "orientation": "v",
           "showlegend": true,
           "type": "scatter",
           "x": [
            "2023-07-16T00:00:00"
           ],
           "xaxis": "x",
           "y": [
            189.2823974609375
           ],
           "yaxis": "y"
          },
          {
           "hovertemplate": "variable=MSFT<br>Date=%{x}<br>Weekly Average Price=%{y}<extra></extra>",
           "legendgroup": "MSFT",
           "marker": {
            "color": "#EF553B",
            "symbol": "circle"
           },
           "mode": "markers",
           "name": "MSFT",
           "orientation": "v",
           "showlegend": true,
           "type": "scatter",
           "x": [
            "2023-07-16T00:00:00"
           ],
           "xaxis": "x",
           "y": [
            337.1661376953125
           ],
           "yaxis": "y"
          },
          {
           "hovertemplate": "variable=TSLA<br>Date=%{x}<br>Weekly Average Price=%{y}<extra></extra>",
           "legendgroup": "TSLA",
           "marker": {
            "color": "#00cc96",
            "symbol": "circle"
           },
           "mode": "markers",
           "name": "TSLA",
           "orientation": "v",
           "showlegend": true,
           "type": "scatter",
           "x": [
            "2023-07-16T00:00:00"
           ],
           "xaxis": "x",
           "y": [
            274.1339965820313
           ],
           "yaxis": "y"
          }
         ],
         "name": "2023-07-16 00:00:00"
        },
        {
         "data": [
          {
           "hovertemplate": "variable=AAPL<br>Date=%{x}<br>Weekly Average Price=%{y}<extra></extra>",
           "legendgroup": "AAPL",
           "marker": {
            "color": "#636efa",
            "symbol": "circle"
           },
           "mode": "markers",
           "name": "AAPL",
           "orientation": "v",
           "showlegend": true,
           "type": "scatter",
           "x": [
            "2023-07-23T00:00:00"
           ],
           "xaxis": "x",
           "y": [
            193.31694946289062
           ],
           "yaxis": "y"
          },
          {
           "hovertemplate": "variable=MSFT<br>Date=%{x}<br>Weekly Average Price=%{y}<extra></extra>",
           "legendgroup": "MSFT",
           "marker": {
            "color": "#EF553B",
            "symbol": "circle"
           },
           "mode": "markers",
           "name": "MSFT",
           "orientation": "v",
           "showlegend": true,
           "type": "scatter",
           "x": [
            "2023-07-23T00:00:00"
           ],
           "xaxis": "x",
           "y": [
            349.44813842773436
           ],
           "yaxis": "y"
          },
          {
           "hovertemplate": "variable=TSLA<br>Date=%{x}<br>Weekly Average Price=%{y}<extra></extra>",
           "legendgroup": "TSLA",
           "marker": {
            "color": "#00cc96",
            "symbol": "circle"
           },
           "mode": "markers",
           "name": "TSLA",
           "orientation": "v",
           "showlegend": true,
           "type": "scatter",
           "x": [
            "2023-07-23T00:00:00"
           ],
           "xaxis": "x",
           "y": [
            279.5799987792969
           ],
           "yaxis": "y"
          }
         ],
         "name": "2023-07-23 00:00:00"
        },
        {
         "data": [
          {
           "hovertemplate": "variable=AAPL<br>Date=%{x}<br>Weekly Average Price=%{y}<extra></extra>",
           "legendgroup": "AAPL",
           "marker": {
            "color": "#636efa",
            "symbol": "circle"
           },
           "mode": "markers",
           "name": "AAPL",
           "orientation": "v",
           "showlegend": true,
           "type": "scatter",
           "x": [
            "2023-07-30T00:00:00"
           ],
           "xaxis": "x",
           "y": [
            193.72239990234374
           ],
           "yaxis": "y"
          },
          {
           "hovertemplate": "variable=MSFT<br>Date=%{x}<br>Weekly Average Price=%{y}<extra></extra>",
           "legendgroup": "MSFT",
           "marker": {
            "color": "#EF553B",
            "symbol": "circle"
           },
           "mode": "markers",
           "name": "MSFT",
           "orientation": "v",
           "showlegend": true,
           "type": "scatter",
           "x": [
            "2023-07-30T00:00:00"
           ],
           "xaxis": "x",
           "y": [
            339.87041015625
           ],
           "yaxis": "y"
          },
          {
           "hovertemplate": "variable=TSLA<br>Date=%{x}<br>Weekly Average Price=%{y}<extra></extra>",
           "legendgroup": "TSLA",
           "marker": {
            "color": "#00cc96",
            "symbol": "circle"
           },
           "mode": "markers",
           "name": "TSLA",
           "orientation": "v",
           "showlegend": true,
           "type": "scatter",
           "x": [
            "2023-07-30T00:00:00"
           ],
           "xaxis": "x",
           "y": [
            264.1680023193359
           ],
           "yaxis": "y"
          }
         ],
         "name": "2023-07-30 00:00:00"
        },
        {
         "data": [
          {
           "hovertemplate": "variable=AAPL<br>Date=%{x}<br>Weekly Average Price=%{y}<extra></extra>",
           "legendgroup": "AAPL",
           "marker": {
            "color": "#636efa",
            "symbol": "circle"
           },
           "mode": "markers",
           "name": "AAPL",
           "orientation": "v",
           "showlegend": true,
           "type": "scatter",
           "x": [
            "2023-08-06T00:00:00"
           ],
           "xaxis": "x",
           "y": [
            191.30167236328126
           ],
           "yaxis": "y"
          },
          {
           "hovertemplate": "variable=MSFT<br>Date=%{x}<br>Weekly Average Price=%{y}<extra></extra>",
           "legendgroup": "MSFT",
           "marker": {
            "color": "#EF553B",
            "symbol": "circle"
           },
           "mode": "markers",
           "name": "MSFT",
           "orientation": "v",
           "showlegend": true,
           "type": "scatter",
           "x": [
            "2023-08-06T00:00:00"
           ],
           "xaxis": "x",
           "y": [
            330.1410217285156
           ],
           "yaxis": "y"
          },
          {
           "hovertemplate": "variable=TSLA<br>Date=%{x}<br>Weekly Average Price=%{y}<extra></extra>",
           "legendgroup": "TSLA",
           "marker": {
            "color": "#00cc96",
            "symbol": "circle"
           },
           "mode": "markers",
           "name": "TSLA",
           "orientation": "v",
           "showlegend": true,
           "type": "scatter",
           "x": [
            "2023-08-06T00:00:00"
           ],
           "xaxis": "x",
           "y": [
            259.1580017089844
           ],
           "yaxis": "y"
          }
         ],
         "name": "2023-08-06 00:00:00"
        },
        {
         "data": [
          {
           "hovertemplate": "variable=AAPL<br>Date=%{x}<br>Weekly Average Price=%{y}<extra></extra>",
           "legendgroup": "AAPL",
           "marker": {
            "color": "#636efa",
            "symbol": "circle"
           },
           "mode": "markers",
           "name": "AAPL",
           "orientation": "v",
           "showlegend": true,
           "type": "scatter",
           "x": [
            "2023-08-13T00:00:00"
           ],
           "xaxis": "x",
           "y": [
            178.32720642089845
           ],
           "yaxis": "y"
          },
          {
           "hovertemplate": "variable=MSFT<br>Date=%{x}<br>Weekly Average Price=%{y}<extra></extra>",
           "legendgroup": "MSFT",
           "marker": {
            "color": "#EF553B",
            "symbol": "circle"
           },
           "mode": "markers",
           "name": "MSFT",
           "orientation": "v",
           "showlegend": true,
           "type": "scatter",
           "x": [
            "2023-08-13T00:00:00"
           ],
           "xaxis": "x",
           "y": [
            323.7804748535156
           ],
           "yaxis": "y"
          },
          {
           "hovertemplate": "variable=TSLA<br>Date=%{x}<br>Weekly Average Price=%{y}<extra></extra>",
           "legendgroup": "TSLA",
           "marker": {
            "color": "#00cc96",
            "symbol": "circle"
           },
           "mode": "markers",
           "name": "TSLA",
           "orientation": "v",
           "showlegend": true,
           "type": "scatter",
           "x": [
            "2023-08-13T00:00:00"
           ],
           "xaxis": "x",
           "y": [
            246.26599731445313
           ],
           "yaxis": "y"
          }
         ],
         "name": "2023-08-13 00:00:00"
        },
        {
         "data": [
          {
           "hovertemplate": "variable=AAPL<br>Date=%{x}<br>Weekly Average Price=%{y}<extra></extra>",
           "legendgroup": "AAPL",
           "marker": {
            "color": "#636efa",
            "symbol": "circle"
           },
           "mode": "markers",
           "name": "AAPL",
           "orientation": "v",
           "showlegend": true,
           "type": "scatter",
           "x": [
            "2023-08-20T00:00:00"
           ],
           "xaxis": "x",
           "y": [
            176.39400329589844
           ],
           "yaxis": "y"
          },
          {
           "hovertemplate": "variable=MSFT<br>Date=%{x}<br>Weekly Average Price=%{y}<extra></extra>",
           "legendgroup": "MSFT",
           "marker": {
            "color": "#EF553B",
            "symbol": "circle"
           },
           "mode": "markers",
           "name": "MSFT",
           "orientation": "v",
           "showlegend": true,
           "type": "scatter",
           "x": [
            "2023-08-20T00:00:00"
           ],
           "xaxis": "x",
           "y": [
            319.65907592773436
           ],
           "yaxis": "y"
          },
          {
           "hovertemplate": "variable=TSLA<br>Date=%{x}<br>Weekly Average Price=%{y}<extra></extra>",
           "legendgroup": "TSLA",
           "marker": {
            "color": "#00cc96",
            "symbol": "circle"
           },
           "mode": "markers",
           "name": "TSLA",
           "orientation": "v",
           "showlegend": true,
           "type": "scatter",
           "x": [
            "2023-08-20T00:00:00"
           ],
           "xaxis": "x",
           "y": [
            226.6060028076172
           ],
           "yaxis": "y"
          }
         ],
         "name": "2023-08-20 00:00:00"
        },
        {
         "data": [
          {
           "hovertemplate": "variable=AAPL<br>Date=%{x}<br>Weekly Average Price=%{y}<extra></extra>",
           "legendgroup": "AAPL",
           "marker": {
            "color": "#636efa",
            "symbol": "circle"
           },
           "mode": "markers",
           "name": "AAPL",
           "orientation": "v",
           "showlegend": true,
           "type": "scatter",
           "x": [
            "2023-08-27T00:00:00"
           ],
           "xaxis": "x",
           "y": [
            177.83599853515625
           ],
           "yaxis": "y"
          },
          {
           "hovertemplate": "variable=MSFT<br>Date=%{x}<br>Weekly Average Price=%{y}<extra></extra>",
           "legendgroup": "MSFT",
           "marker": {
            "color": "#EF553B",
            "symbol": "circle"
           },
           "mode": "markers",
           "name": "MSFT",
           "orientation": "v",
           "showlegend": true,
           "type": "scatter",
           "x": [
            "2023-08-27T00:00:00"
           ],
           "xaxis": "x",
           "y": [
            322.8580017089844
           ],
           "yaxis": "y"
          },
          {
           "hovertemplate": "variable=TSLA<br>Date=%{x}<br>Weekly Average Price=%{y}<extra></extra>",
           "legendgroup": "TSLA",
           "marker": {
            "color": "#00cc96",
            "symbol": "circle"
           },
           "mode": "markers",
           "name": "TSLA",
           "orientation": "v",
           "showlegend": true,
           "type": "scatter",
           "x": [
            "2023-08-27T00:00:00"
           ],
           "xaxis": "x",
           "y": [
            233.99199829101562
           ],
           "yaxis": "y"
          }
         ],
         "name": "2023-08-27 00:00:00"
        },
        {
         "data": [
          {
           "hovertemplate": "variable=AAPL<br>Date=%{x}<br>Weekly Average Price=%{y}<extra></extra>",
           "legendgroup": "AAPL",
           "marker": {
            "color": "#636efa",
            "symbol": "circle"
           },
           "mode": "markers",
           "name": "AAPL",
           "orientation": "v",
           "showlegend": true,
           "type": "scatter",
           "x": [
            "2023-09-03T00:00:00"
           ],
           "xaxis": "x",
           "y": [
            185.85799865722657
           ],
           "yaxis": "y"
          },
          {
           "hovertemplate": "variable=MSFT<br>Date=%{x}<br>Weekly Average Price=%{y}<extra></extra>",
           "legendgroup": "MSFT",
           "marker": {
            "color": "#EF553B",
            "symbol": "circle"
           },
           "mode": "markers",
           "name": "MSFT",
           "orientation": "v",
           "showlegend": true,
           "type": "scatter",
           "x": [
            "2023-09-03T00:00:00"
           ],
           "xaxis": "x",
           "y": [
            327.46400756835936
           ],
           "yaxis": "y"
          },
          {
           "hovertemplate": "variable=TSLA<br>Date=%{x}<br>Weekly Average Price=%{y}<extra></extra>",
           "legendgroup": "TSLA",
           "marker": {
            "color": "#00cc96",
            "symbol": "circle"
           },
           "mode": "markers",
           "name": "TSLA",
           "orientation": "v",
           "showlegend": true,
           "type": "scatter",
           "x": [
            "2023-09-03T00:00:00"
           ],
           "xaxis": "x",
           "y": [
            251.1979949951172
           ],
           "yaxis": "y"
          }
         ],
         "name": "2023-09-03 00:00:00"
        },
        {
         "data": [
          {
           "hovertemplate": "variable=AAPL<br>Date=%{x}<br>Weekly Average Price=%{y}<extra></extra>",
           "legendgroup": "AAPL",
           "marker": {
            "color": "#636efa",
            "symbol": "circle"
           },
           "mode": "markers",
           "name": "AAPL",
           "orientation": "v",
           "showlegend": true,
           "type": "scatter",
           "x": [
            "2023-09-10T00:00:00"
           ],
           "xaxis": "x",
           "y": [
            182.08749771118164
           ],
           "yaxis": "y"
          },
          {
           "hovertemplate": "variable=MSFT<br>Date=%{x}<br>Weekly Average Price=%{y}<extra></extra>",
           "legendgroup": "MSFT",
           "marker": {
            "color": "#EF553B",
            "symbol": "circle"
           },
           "mode": "markers",
           "name": "MSFT",
           "orientation": "v",
           "showlegend": true,
           "type": "scatter",
           "x": [
            "2023-09-10T00:00:00"
           ],
           "xaxis": "x",
           "y": [
            332.6524963378906
           ],
           "yaxis": "y"
          },
          {
           "hovertemplate": "variable=TSLA<br>Date=%{x}<br>Weekly Average Price=%{y}<extra></extra>",
           "legendgroup": "TSLA",
           "marker": {
            "color": "#00cc96",
            "symbol": "circle"
           },
           "mode": "markers",
           "name": "TSLA",
           "orientation": "v",
           "showlegend": true,
           "type": "scatter",
           "x": [
            "2023-09-10T00:00:00"
           ],
           "xaxis": "x",
           "y": [
            252.0999984741211
           ],
           "yaxis": "y"
          }
         ],
         "name": "2023-09-10 00:00:00"
        },
        {
         "data": [
          {
           "hovertemplate": "variable=AAPL<br>Date=%{x}<br>Weekly Average Price=%{y}<extra></extra>",
           "legendgroup": "AAPL",
           "marker": {
            "color": "#636efa",
            "symbol": "circle"
           },
           "mode": "markers",
           "name": "AAPL",
           "orientation": "v",
           "showlegend": true,
           "type": "scatter",
           "x": [
            "2023-09-17T00:00:00"
           ],
           "xaxis": "x",
           "y": [
            176.1240020751953
           ],
           "yaxis": "y"
          },
          {
           "hovertemplate": "variable=MSFT<br>Date=%{x}<br>Weekly Average Price=%{y}<extra></extra>",
           "legendgroup": "MSFT",
           "marker": {
            "color": "#EF553B",
            "symbol": "circle"
           },
           "mode": "markers",
           "name": "MSFT",
           "orientation": "v",
           "showlegend": true,
           "type": "scatter",
           "x": [
            "2023-09-17T00:00:00"
           ],
           "xaxis": "x",
           "y": [
            334.93800048828126
           ],
           "yaxis": "y"
          },
          {
           "hovertemplate": "variable=TSLA<br>Date=%{x}<br>Weekly Average Price=%{y}<extra></extra>",
           "legendgroup": "TSLA",
           "marker": {
            "color": "#00cc96",
            "symbol": "circle"
           },
           "mode": "markers",
           "name": "TSLA",
           "orientation": "v",
           "showlegend": true,
           "type": "scatter",
           "x": [
            "2023-09-17T00:00:00"
           ],
           "xaxis": "x",
           "y": [
            272.55800170898436
           ],
           "yaxis": "y"
          }
         ],
         "name": "2023-09-17 00:00:00"
        },
        {
         "data": [
          {
           "hovertemplate": "variable=AAPL<br>Date=%{x}<br>Weekly Average Price=%{y}<extra></extra>",
           "legendgroup": "AAPL",
           "marker": {
            "color": "#636efa",
            "symbol": "circle"
           },
           "mode": "markers",
           "name": "AAPL",
           "orientation": "v",
           "showlegend": true,
           "type": "scatter",
           "x": [
            "2023-09-24T00:00:00"
           ],
           "xaxis": "x",
           "y": [
            176.25
           ],
           "yaxis": "y"
          },
          {
           "hovertemplate": "variable=MSFT<br>Date=%{x}<br>Weekly Average Price=%{y}<extra></extra>",
           "legendgroup": "MSFT",
           "marker": {
            "color": "#EF553B",
            "symbol": "circle"
           },
           "mode": "markers",
           "name": "MSFT",
           "orientation": "v",
           "showlegend": true,
           "type": "scatter",
           "x": [
            "2023-09-24T00:00:00"
           ],
           "xaxis": "x",
           "y": [
            323.0039978027344
           ],
           "yaxis": "y"
          },
          {
           "hovertemplate": "variable=TSLA<br>Date=%{x}<br>Weekly Average Price=%{y}<extra></extra>",
           "legendgroup": "TSLA",
           "marker": {
            "color": "#00cc96",
            "symbol": "circle"
           },
           "mode": "markers",
           "name": "TSLA",
           "orientation": "v",
           "showlegend": true,
           "type": "scatter",
           "x": [
            "2023-09-24T00:00:00"
           ],
           "xaxis": "x",
           "y": [
            258.98999938964846
           ],
           "yaxis": "y"
          }
         ],
         "name": "2023-09-24 00:00:00"
        },
        {
         "data": [
          {
           "hovertemplate": "variable=AAPL<br>Date=%{x}<br>Weekly Average Price=%{y}<extra></extra>",
           "legendgroup": "AAPL",
           "marker": {
            "color": "#636efa",
            "symbol": "circle"
           },
           "mode": "markers",
           "name": "AAPL",
           "orientation": "v",
           "showlegend": true,
           "type": "scatter",
           "x": [
            "2023-10-01T00:00:00"
           ],
           "xaxis": "x",
           "y": [
            172.07400207519532
           ],
           "yaxis": "y"
          },
          {
           "hovertemplate": "variable=MSFT<br>Date=%{x}<br>Weekly Average Price=%{y}<extra></extra>",
           "legendgroup": "MSFT",
           "marker": {
            "color": "#EF553B",
            "symbol": "circle"
           },
           "mode": "markers",
           "name": "MSFT",
           "orientation": "v",
           "showlegend": true,
           "type": "scatter",
           "x": [
            "2023-10-01T00:00:00"
           ],
           "xaxis": "x",
           "y": [
            314.37200927734375
           ],
           "yaxis": "y"
          },
          {
           "hovertemplate": "variable=TSLA<br>Date=%{x}<br>Weekly Average Price=%{y}<extra></extra>",
           "legendgroup": "TSLA",
           "marker": {
            "color": "#00cc96",
            "symbol": "circle"
           },
           "mode": "markers",
           "name": "TSLA",
           "orientation": "v",
           "showlegend": true,
           "type": "scatter",
           "x": [
            "2023-10-01T00:00:00"
           ],
           "xaxis": "x",
           "y": [
            245.64200134277343
           ],
           "yaxis": "y"
          }
         ],
         "name": "2023-10-01 00:00:00"
        },
        {
         "data": [
          {
           "hovertemplate": "variable=AAPL<br>Date=%{x}<br>Weekly Average Price=%{y}<extra></extra>",
           "legendgroup": "AAPL",
           "marker": {
            "color": "#636efa",
            "symbol": "circle"
           },
           "mode": "markers",
           "name": "AAPL",
           "orientation": "v",
           "showlegend": true,
           "type": "scatter",
           "x": [
            "2023-10-08T00:00:00"
           ],
           "xaxis": "x",
           "y": [
            174.44200134277344
           ],
           "yaxis": "y"
          },
          {
           "hovertemplate": "variable=MSFT<br>Date=%{x}<br>Weekly Average Price=%{y}<extra></extra>",
           "legendgroup": "MSFT",
           "marker": {
            "color": "#EF553B",
            "symbol": "circle"
           },
           "mode": "markers",
           "name": "MSFT",
           "orientation": "v",
           "showlegend": true,
           "type": "scatter",
           "x": [
            "2023-10-08T00:00:00"
           ],
           "xaxis": "x",
           "y": [
            320.15399780273435
           ],
           "yaxis": "y"
          },
          {
           "hovertemplate": "variable=TSLA<br>Date=%{x}<br>Weekly Average Price=%{y}<extra></extra>",
           "legendgroup": "TSLA",
           "marker": {
            "color": "#00cc96",
            "symbol": "circle"
           },
           "mode": "markers",
           "name": "TSLA",
           "orientation": "v",
           "showlegend": true,
           "type": "scatter",
           "x": [
            "2023-10-08T00:00:00"
           ],
           "xaxis": "x",
           "y": [
            255.9739990234375
           ],
           "yaxis": "y"
          }
         ],
         "name": "2023-10-08 00:00:00"
        },
        {
         "data": [
          {
           "hovertemplate": "variable=AAPL<br>Date=%{x}<br>Weekly Average Price=%{y}<extra></extra>",
           "legendgroup": "AAPL",
           "marker": {
            "color": "#636efa",
            "symbol": "circle"
           },
           "mode": "markers",
           "name": "AAPL",
           "orientation": "v",
           "showlegend": true,
           "type": "scatter",
           "x": [
            "2023-10-15T00:00:00"
           ],
           "xaxis": "x",
           "y": [
            179.34800415039064
           ],
           "yaxis": "y"
          },
          {
           "hovertemplate": "variable=MSFT<br>Date=%{x}<br>Weekly Average Price=%{y}<extra></extra>",
           "legendgroup": "MSFT",
           "marker": {
            "color": "#EF553B",
            "symbol": "circle"
           },
           "mode": "markers",
           "name": "MSFT",
           "orientation": "v",
           "showlegend": true,
           "type": "scatter",
           "x": [
            "2023-10-15T00:00:00"
           ],
           "xaxis": "x",
           "y": [
            329.9040100097656
           ],
           "yaxis": "y"
          },
          {
           "hovertemplate": "variable=TSLA<br>Date=%{x}<br>Weekly Average Price=%{y}<extra></extra>",
           "legendgroup": "TSLA",
           "marker": {
            "color": "#00cc96",
            "symbol": "circle"
           },
           "mode": "markers",
           "name": "TSLA",
           "orientation": "v",
           "showlegend": true,
           "type": "scatter",
           "x": [
            "2023-10-15T00:00:00"
           ],
           "xaxis": "x",
           "y": [
            259.2539978027344
           ],
           "yaxis": "y"
          }
         ],
         "name": "2023-10-15 00:00:00"
        },
        {
         "data": [
          {
           "hovertemplate": "variable=AAPL<br>Date=%{x}<br>Weekly Average Price=%{y}<extra></extra>",
           "legendgroup": "AAPL",
           "marker": {
            "color": "#636efa",
            "symbol": "circle"
           },
           "mode": "markers",
           "name": "AAPL",
           "orientation": "v",
           "showlegend": true,
           "type": "scatter",
           "x": [
            "2023-10-22T00:00:00"
           ],
           "xaxis": "x",
           "y": [
            176.01000061035157
           ],
           "yaxis": "y"
          },
          {
           "hovertemplate": "variable=MSFT<br>Date=%{x}<br>Weekly Average Price=%{y}<extra></extra>",
           "legendgroup": "MSFT",
           "marker": {
            "color": "#EF553B",
            "symbol": "circle"
           },
           "mode": "markers",
           "name": "MSFT",
           "orientation": "v",
           "showlegend": true,
           "type": "scatter",
           "x": [
            "2023-10-22T00:00:00"
           ],
           "xaxis": "x",
           "y": [
            330.56000366210935
           ],
           "yaxis": "y"
          },
          {
           "hovertemplate": "variable=TSLA<br>Date=%{x}<br>Weekly Average Price=%{y}<extra></extra>",
           "legendgroup": "TSLA",
           "marker": {
            "color": "#00cc96",
            "symbol": "circle"
           },
           "mode": "markers",
           "name": "TSLA",
           "orientation": "v",
           "showlegend": true,
           "type": "scatter",
           "x": [
            "2023-10-22T00:00:00"
           ],
           "xaxis": "x",
           "y": [
            236.71000061035156
           ],
           "yaxis": "y"
          }
         ],
         "name": "2023-10-22 00:00:00"
        },
        {
         "data": [
          {
           "hovertemplate": "variable=AAPL<br>Date=%{x}<br>Weekly Average Price=%{y}<extra></extra>",
           "legendgroup": "AAPL",
           "marker": {
            "color": "#636efa",
            "symbol": "circle"
           },
           "mode": "markers",
           "name": "AAPL",
           "orientation": "v",
           "showlegend": true,
           "type": "scatter",
           "x": [
            "2023-10-29T00:00:00"
           ],
           "xaxis": "x",
           "y": [
            173.22000122070312
           ],
           "yaxis": "y"
          },
          {
           "hovertemplate": "variable=MSFT<br>Date=%{x}<br>Weekly Average Price=%{y}<extra></extra>",
           "legendgroup": "MSFT",
           "marker": {
            "color": "#EF553B",
            "symbol": "circle"
           },
           "mode": "markers",
           "name": "MSFT",
           "orientation": "v",
           "showlegend": true,
           "type": "scatter",
           "x": [
            "2023-10-29T00:00:00"
           ],
           "xaxis": "x",
           "y": [
            329.9250030517578
           ],
           "yaxis": "y"
          },
          {
           "hovertemplate": "variable=TSLA<br>Date=%{x}<br>Weekly Average Price=%{y}<extra></extra>",
           "legendgroup": "TSLA",
           "marker": {
            "color": "#00cc96",
            "symbol": "circle"
           },
           "mode": "markers",
           "name": "TSLA",
           "orientation": "v",
           "showlegend": true,
           "type": "scatter",
           "x": [
            "2023-10-29T00:00:00"
           ],
           "xaxis": "x",
           "y": [
            214.3000030517578
           ],
           "yaxis": "y"
          }
         ],
         "name": "2023-10-29 00:00:00"
        }
       ],
       "layout": {
        "legend": {
         "title": {
          "text": "variable"
         },
         "tracegroupgap": 0
        },
        "sliders": [
         {
          "active": 0,
          "currentvalue": {
           "prefix": "Date="
          },
          "len": 0.9,
          "pad": {
           "b": 10,
           "t": 60
          },
          "steps": [
           {
            "args": [
             [
              "2023-01-08 00:00:00"
             ],
             {
              "frame": {
               "duration": 0,
               "redraw": false
              },
              "fromcurrent": true,
              "mode": "immediate",
              "transition": {
               "duration": 0,
               "easing": "linear"
              }
             }
            ],
            "label": "2023-01-08 00:00:00",
            "method": "animate"
           },
           {
            "args": [
             [
              "2023-01-15 00:00:00"
             ],
             {
              "frame": {
               "duration": 0,
               "redraw": false
              },
              "fromcurrent": true,
              "mode": "immediate",
              "transition": {
               "duration": 0,
               "easing": "linear"
              }
             }
            ],
            "label": "2023-01-15 00:00:00",
            "method": "animate"
           },
           {
            "args": [
             [
              "2023-01-22 00:00:00"
             ],
             {
              "frame": {
               "duration": 0,
               "redraw": false
              },
              "fromcurrent": true,
              "mode": "immediate",
              "transition": {
               "duration": 0,
               "easing": "linear"
              }
             }
            ],
            "label": "2023-01-22 00:00:00",
            "method": "animate"
           },
           {
            "args": [
             [
              "2023-01-29 00:00:00"
             ],
             {
              "frame": {
               "duration": 0,
               "redraw": false
              },
              "fromcurrent": true,
              "mode": "immediate",
              "transition": {
               "duration": 0,
               "easing": "linear"
              }
             }
            ],
            "label": "2023-01-29 00:00:00",
            "method": "animate"
           },
           {
            "args": [
             [
              "2023-02-05 00:00:00"
             ],
             {
              "frame": {
               "duration": 0,
               "redraw": false
              },
              "fromcurrent": true,
              "mode": "immediate",
              "transition": {
               "duration": 0,
               "easing": "linear"
              }
             }
            ],
            "label": "2023-02-05 00:00:00",
            "method": "animate"
           },
           {
            "args": [
             [
              "2023-02-12 00:00:00"
             ],
             {
              "frame": {
               "duration": 0,
               "redraw": false
              },
              "fromcurrent": true,
              "mode": "immediate",
              "transition": {
               "duration": 0,
               "easing": "linear"
              }
             }
            ],
            "label": "2023-02-12 00:00:00",
            "method": "animate"
           },
           {
            "args": [
             [
              "2023-02-19 00:00:00"
             ],
             {
              "frame": {
               "duration": 0,
               "redraw": false
              },
              "fromcurrent": true,
              "mode": "immediate",
              "transition": {
               "duration": 0,
               "easing": "linear"
              }
             }
            ],
            "label": "2023-02-19 00:00:00",
            "method": "animate"
           },
           {
            "args": [
             [
              "2023-02-26 00:00:00"
             ],
             {
              "frame": {
               "duration": 0,
               "redraw": false
              },
              "fromcurrent": true,
              "mode": "immediate",
              "transition": {
               "duration": 0,
               "easing": "linear"
              }
             }
            ],
            "label": "2023-02-26 00:00:00",
            "method": "animate"
           },
           {
            "args": [
             [
              "2023-03-05 00:00:00"
             ],
             {
              "frame": {
               "duration": 0,
               "redraw": false
              },
              "fromcurrent": true,
              "mode": "immediate",
              "transition": {
               "duration": 0,
               "easing": "linear"
              }
             }
            ],
            "label": "2023-03-05 00:00:00",
            "method": "animate"
           },
           {
            "args": [
             [
              "2023-03-12 00:00:00"
             ],
             {
              "frame": {
               "duration": 0,
               "redraw": false
              },
              "fromcurrent": true,
              "mode": "immediate",
              "transition": {
               "duration": 0,
               "easing": "linear"
              }
             }
            ],
            "label": "2023-03-12 00:00:00",
            "method": "animate"
           },
           {
            "args": [
             [
              "2023-03-19 00:00:00"
             ],
             {
              "frame": {
               "duration": 0,
               "redraw": false
              },
              "fromcurrent": true,
              "mode": "immediate",
              "transition": {
               "duration": 0,
               "easing": "linear"
              }
             }
            ],
            "label": "2023-03-19 00:00:00",
            "method": "animate"
           },
           {
            "args": [
             [
              "2023-03-26 00:00:00"
             ],
             {
              "frame": {
               "duration": 0,
               "redraw": false
              },
              "fromcurrent": true,
              "mode": "immediate",
              "transition": {
               "duration": 0,
               "easing": "linear"
              }
             }
            ],
            "label": "2023-03-26 00:00:00",
            "method": "animate"
           },
           {
            "args": [
             [
              "2023-04-02 00:00:00"
             ],
             {
              "frame": {
               "duration": 0,
               "redraw": false
              },
              "fromcurrent": true,
              "mode": "immediate",
              "transition": {
               "duration": 0,
               "easing": "linear"
              }
             }
            ],
            "label": "2023-04-02 00:00:00",
            "method": "animate"
           },
           {
            "args": [
             [
              "2023-04-09 00:00:00"
             ],
             {
              "frame": {
               "duration": 0,
               "redraw": false
              },
              "fromcurrent": true,
              "mode": "immediate",
              "transition": {
               "duration": 0,
               "easing": "linear"
              }
             }
            ],
            "label": "2023-04-09 00:00:00",
            "method": "animate"
           },
           {
            "args": [
             [
              "2023-04-16 00:00:00"
             ],
             {
              "frame": {
               "duration": 0,
               "redraw": false
              },
              "fromcurrent": true,
              "mode": "immediate",
              "transition": {
               "duration": 0,
               "easing": "linear"
              }
             }
            ],
            "label": "2023-04-16 00:00:00",
            "method": "animate"
           },
           {
            "args": [
             [
              "2023-04-23 00:00:00"
             ],
             {
              "frame": {
               "duration": 0,
               "redraw": false
              },
              "fromcurrent": true,
              "mode": "immediate",
              "transition": {
               "duration": 0,
               "easing": "linear"
              }
             }
            ],
            "label": "2023-04-23 00:00:00",
            "method": "animate"
           },
           {
            "args": [
             [
              "2023-04-30 00:00:00"
             ],
             {
              "frame": {
               "duration": 0,
               "redraw": false
              },
              "fromcurrent": true,
              "mode": "immediate",
              "transition": {
               "duration": 0,
               "easing": "linear"
              }
             }
            ],
            "label": "2023-04-30 00:00:00",
            "method": "animate"
           },
           {
            "args": [
             [
              "2023-05-07 00:00:00"
             ],
             {
              "frame": {
               "duration": 0,
               "redraw": false
              },
              "fromcurrent": true,
              "mode": "immediate",
              "transition": {
               "duration": 0,
               "easing": "linear"
              }
             }
            ],
            "label": "2023-05-07 00:00:00",
            "method": "animate"
           },
           {
            "args": [
             [
              "2023-05-14 00:00:00"
             ],
             {
              "frame": {
               "duration": 0,
               "redraw": false
              },
              "fromcurrent": true,
              "mode": "immediate",
              "transition": {
               "duration": 0,
               "easing": "linear"
              }
             }
            ],
            "label": "2023-05-14 00:00:00",
            "method": "animate"
           },
           {
            "args": [
             [
              "2023-05-21 00:00:00"
             ],
             {
              "frame": {
               "duration": 0,
               "redraw": false
              },
              "fromcurrent": true,
              "mode": "immediate",
              "transition": {
               "duration": 0,
               "easing": "linear"
              }
             }
            ],
            "label": "2023-05-21 00:00:00",
            "method": "animate"
           },
           {
            "args": [
             [
              "2023-05-28 00:00:00"
             ],
             {
              "frame": {
               "duration": 0,
               "redraw": false
              },
              "fromcurrent": true,
              "mode": "immediate",
              "transition": {
               "duration": 0,
               "easing": "linear"
              }
             }
            ],
            "label": "2023-05-28 00:00:00",
            "method": "animate"
           },
           {
            "args": [
             [
              "2023-06-04 00:00:00"
             ],
             {
              "frame": {
               "duration": 0,
               "redraw": false
              },
              "fromcurrent": true,
              "mode": "immediate",
              "transition": {
               "duration": 0,
               "easing": "linear"
              }
             }
            ],
            "label": "2023-06-04 00:00:00",
            "method": "animate"
           },
           {
            "args": [
             [
              "2023-06-11 00:00:00"
             ],
             {
              "frame": {
               "duration": 0,
               "redraw": false
              },
              "fromcurrent": true,
              "mode": "immediate",
              "transition": {
               "duration": 0,
               "easing": "linear"
              }
             }
            ],
            "label": "2023-06-11 00:00:00",
            "method": "animate"
           },
           {
            "args": [
             [
              "2023-06-18 00:00:00"
             ],
             {
              "frame": {
               "duration": 0,
               "redraw": false
              },
              "fromcurrent": true,
              "mode": "immediate",
              "transition": {
               "duration": 0,
               "easing": "linear"
              }
             }
            ],
            "label": "2023-06-18 00:00:00",
            "method": "animate"
           },
           {
            "args": [
             [
              "2023-06-25 00:00:00"
             ],
             {
              "frame": {
               "duration": 0,
               "redraw": false
              },
              "fromcurrent": true,
              "mode": "immediate",
              "transition": {
               "duration": 0,
               "easing": "linear"
              }
             }
            ],
            "label": "2023-06-25 00:00:00",
            "method": "animate"
           },
           {
            "args": [
             [
              "2023-07-02 00:00:00"
             ],
             {
              "frame": {
               "duration": 0,
               "redraw": false
              },
              "fromcurrent": true,
              "mode": "immediate",
              "transition": {
               "duration": 0,
               "easing": "linear"
              }
             }
            ],
            "label": "2023-07-02 00:00:00",
            "method": "animate"
           },
           {
            "args": [
             [
              "2023-07-09 00:00:00"
             ],
             {
              "frame": {
               "duration": 0,
               "redraw": false
              },
              "fromcurrent": true,
              "mode": "immediate",
              "transition": {
               "duration": 0,
               "easing": "linear"
              }
             }
            ],
            "label": "2023-07-09 00:00:00",
            "method": "animate"
           },
           {
            "args": [
             [
              "2023-07-16 00:00:00"
             ],
             {
              "frame": {
               "duration": 0,
               "redraw": false
              },
              "fromcurrent": true,
              "mode": "immediate",
              "transition": {
               "duration": 0,
               "easing": "linear"
              }
             }
            ],
            "label": "2023-07-16 00:00:00",
            "method": "animate"
           },
           {
            "args": [
             [
              "2023-07-23 00:00:00"
             ],
             {
              "frame": {
               "duration": 0,
               "redraw": false
              },
              "fromcurrent": true,
              "mode": "immediate",
              "transition": {
               "duration": 0,
               "easing": "linear"
              }
             }
            ],
            "label": "2023-07-23 00:00:00",
            "method": "animate"
           },
           {
            "args": [
             [
              "2023-07-30 00:00:00"
             ],
             {
              "frame": {
               "duration": 0,
               "redraw": false
              },
              "fromcurrent": true,
              "mode": "immediate",
              "transition": {
               "duration": 0,
               "easing": "linear"
              }
             }
            ],
            "label": "2023-07-30 00:00:00",
            "method": "animate"
           },
           {
            "args": [
             [
              "2023-08-06 00:00:00"
             ],
             {
              "frame": {
               "duration": 0,
               "redraw": false
              },
              "fromcurrent": true,
              "mode": "immediate",
              "transition": {
               "duration": 0,
               "easing": "linear"
              }
             }
            ],
            "label": "2023-08-06 00:00:00",
            "method": "animate"
           },
           {
            "args": [
             [
              "2023-08-13 00:00:00"
             ],
             {
              "frame": {
               "duration": 0,
               "redraw": false
              },
              "fromcurrent": true,
              "mode": "immediate",
              "transition": {
               "duration": 0,
               "easing": "linear"
              }
             }
            ],
            "label": "2023-08-13 00:00:00",
            "method": "animate"
           },
           {
            "args": [
             [
              "2023-08-20 00:00:00"
             ],
             {
              "frame": {
               "duration": 0,
               "redraw": false
              },
              "fromcurrent": true,
              "mode": "immediate",
              "transition": {
               "duration": 0,
               "easing": "linear"
              }
             }
            ],
            "label": "2023-08-20 00:00:00",
            "method": "animate"
           },
           {
            "args": [
             [
              "2023-08-27 00:00:00"
             ],
             {
              "frame": {
               "duration": 0,
               "redraw": false
              },
              "fromcurrent": true,
              "mode": "immediate",
              "transition": {
               "duration": 0,
               "easing": "linear"
              }
             }
            ],
            "label": "2023-08-27 00:00:00",
            "method": "animate"
           },
           {
            "args": [
             [
              "2023-09-03 00:00:00"
             ],
             {
              "frame": {
               "duration": 0,
               "redraw": false
              },
              "fromcurrent": true,
              "mode": "immediate",
              "transition": {
               "duration": 0,
               "easing": "linear"
              }
             }
            ],
            "label": "2023-09-03 00:00:00",
            "method": "animate"
           },
           {
            "args": [
             [
              "2023-09-10 00:00:00"
             ],
             {
              "frame": {
               "duration": 0,
               "redraw": false
              },
              "fromcurrent": true,
              "mode": "immediate",
              "transition": {
               "duration": 0,
               "easing": "linear"
              }
             }
            ],
            "label": "2023-09-10 00:00:00",
            "method": "animate"
           },
           {
            "args": [
             [
              "2023-09-17 00:00:00"
             ],
             {
              "frame": {
               "duration": 0,
               "redraw": false
              },
              "fromcurrent": true,
              "mode": "immediate",
              "transition": {
               "duration": 0,
               "easing": "linear"
              }
             }
            ],
            "label": "2023-09-17 00:00:00",
            "method": "animate"
           },
           {
            "args": [
             [
              "2023-09-24 00:00:00"
             ],
             {
              "frame": {
               "duration": 0,
               "redraw": false
              },
              "fromcurrent": true,
              "mode": "immediate",
              "transition": {
               "duration": 0,
               "easing": "linear"
              }
             }
            ],
            "label": "2023-09-24 00:00:00",
            "method": "animate"
           },
           {
            "args": [
             [
              "2023-10-01 00:00:00"
             ],
             {
              "frame": {
               "duration": 0,
               "redraw": false
              },
              "fromcurrent": true,
              "mode": "immediate",
              "transition": {
               "duration": 0,
               "easing": "linear"
              }
             }
            ],
            "label": "2023-10-01 00:00:00",
            "method": "animate"
           },
           {
            "args": [
             [
              "2023-10-08 00:00:00"
             ],
             {
              "frame": {
               "duration": 0,
               "redraw": false
              },
              "fromcurrent": true,
              "mode": "immediate",
              "transition": {
               "duration": 0,
               "easing": "linear"
              }
             }
            ],
            "label": "2023-10-08 00:00:00",
            "method": "animate"
           },
           {
            "args": [
             [
              "2023-10-15 00:00:00"
             ],
             {
              "frame": {
               "duration": 0,
               "redraw": false
              },
              "fromcurrent": true,
              "mode": "immediate",
              "transition": {
               "duration": 0,
               "easing": "linear"
              }
             }
            ],
            "label": "2023-10-15 00:00:00",
            "method": "animate"
           },
           {
            "args": [
             [
              "2023-10-22 00:00:00"
             ],
             {
              "frame": {
               "duration": 0,
               "redraw": false
              },
              "fromcurrent": true,
              "mode": "immediate",
              "transition": {
               "duration": 0,
               "easing": "linear"
              }
             }
            ],
            "label": "2023-10-22 00:00:00",
            "method": "animate"
           },
           {
            "args": [
             [
              "2023-10-29 00:00:00"
             ],
             {
              "frame": {
               "duration": 0,
               "redraw": false
              },
              "fromcurrent": true,
              "mode": "immediate",
              "transition": {
               "duration": 0,
               "easing": "linear"
              }
             }
            ],
            "label": "2023-10-29 00:00:00",
            "method": "animate"
           }
          ],
          "x": 0.1,
          "xanchor": "left",
          "y": 0,
          "yanchor": "top"
         }
        ],
        "template": {
         "data": {
          "bar": [
           {
            "error_x": {
             "color": "#2a3f5f"
            },
            "error_y": {
             "color": "#2a3f5f"
            },
            "marker": {
             "line": {
              "color": "#E5ECF6",
              "width": 0.5
             },
             "pattern": {
              "fillmode": "overlay",
              "size": 10,
              "solidity": 0.2
             }
            },
            "type": "bar"
           }
          ],
          "barpolar": [
           {
            "marker": {
             "line": {
              "color": "#E5ECF6",
              "width": 0.5
             },
             "pattern": {
              "fillmode": "overlay",
              "size": 10,
              "solidity": 0.2
             }
            },
            "type": "barpolar"
           }
          ],
          "carpet": [
           {
            "aaxis": {
             "endlinecolor": "#2a3f5f",
             "gridcolor": "white",
             "linecolor": "white",
             "minorgridcolor": "white",
             "startlinecolor": "#2a3f5f"
            },
            "baxis": {
             "endlinecolor": "#2a3f5f",
             "gridcolor": "white",
             "linecolor": "white",
             "minorgridcolor": "white",
             "startlinecolor": "#2a3f5f"
            },
            "type": "carpet"
           }
          ],
          "choropleth": [
           {
            "colorbar": {
             "outlinewidth": 0,
             "ticks": ""
            },
            "type": "choropleth"
           }
          ],
          "contour": [
           {
            "colorbar": {
             "outlinewidth": 0,
             "ticks": ""
            },
            "colorscale": [
             [
              0,
              "#0d0887"
             ],
             [
              0.1111111111111111,
              "#46039f"
             ],
             [
              0.2222222222222222,
              "#7201a8"
             ],
             [
              0.3333333333333333,
              "#9c179e"
             ],
             [
              0.4444444444444444,
              "#bd3786"
             ],
             [
              0.5555555555555556,
              "#d8576b"
             ],
             [
              0.6666666666666666,
              "#ed7953"
             ],
             [
              0.7777777777777778,
              "#fb9f3a"
             ],
             [
              0.8888888888888888,
              "#fdca26"
             ],
             [
              1,
              "#f0f921"
             ]
            ],
            "type": "contour"
           }
          ],
          "contourcarpet": [
           {
            "colorbar": {
             "outlinewidth": 0,
             "ticks": ""
            },
            "type": "contourcarpet"
           }
          ],
          "heatmap": [
           {
            "colorbar": {
             "outlinewidth": 0,
             "ticks": ""
            },
            "colorscale": [
             [
              0,
              "#0d0887"
             ],
             [
              0.1111111111111111,
              "#46039f"
             ],
             [
              0.2222222222222222,
              "#7201a8"
             ],
             [
              0.3333333333333333,
              "#9c179e"
             ],
             [
              0.4444444444444444,
              "#bd3786"
             ],
             [
              0.5555555555555556,
              "#d8576b"
             ],
             [
              0.6666666666666666,
              "#ed7953"
             ],
             [
              0.7777777777777778,
              "#fb9f3a"
             ],
             [
              0.8888888888888888,
              "#fdca26"
             ],
             [
              1,
              "#f0f921"
             ]
            ],
            "type": "heatmap"
           }
          ],
          "heatmapgl": [
           {
            "colorbar": {
             "outlinewidth": 0,
             "ticks": ""
            },
            "colorscale": [
             [
              0,
              "#0d0887"
             ],
             [
              0.1111111111111111,
              "#46039f"
             ],
             [
              0.2222222222222222,
              "#7201a8"
             ],
             [
              0.3333333333333333,
              "#9c179e"
             ],
             [
              0.4444444444444444,
              "#bd3786"
             ],
             [
              0.5555555555555556,
              "#d8576b"
             ],
             [
              0.6666666666666666,
              "#ed7953"
             ],
             [
              0.7777777777777778,
              "#fb9f3a"
             ],
             [
              0.8888888888888888,
              "#fdca26"
             ],
             [
              1,
              "#f0f921"
             ]
            ],
            "type": "heatmapgl"
           }
          ],
          "histogram": [
           {
            "marker": {
             "pattern": {
              "fillmode": "overlay",
              "size": 10,
              "solidity": 0.2
             }
            },
            "type": "histogram"
           }
          ],
          "histogram2d": [
           {
            "colorbar": {
             "outlinewidth": 0,
             "ticks": ""
            },
            "colorscale": [
             [
              0,
              "#0d0887"
             ],
             [
              0.1111111111111111,
              "#46039f"
             ],
             [
              0.2222222222222222,
              "#7201a8"
             ],
             [
              0.3333333333333333,
              "#9c179e"
             ],
             [
              0.4444444444444444,
              "#bd3786"
             ],
             [
              0.5555555555555556,
              "#d8576b"
             ],
             [
              0.6666666666666666,
              "#ed7953"
             ],
             [
              0.7777777777777778,
              "#fb9f3a"
             ],
             [
              0.8888888888888888,
              "#fdca26"
             ],
             [
              1,
              "#f0f921"
             ]
            ],
            "type": "histogram2d"
           }
          ],
          "histogram2dcontour": [
           {
            "colorbar": {
             "outlinewidth": 0,
             "ticks": ""
            },
            "colorscale": [
             [
              0,
              "#0d0887"
             ],
             [
              0.1111111111111111,
              "#46039f"
             ],
             [
              0.2222222222222222,
              "#7201a8"
             ],
             [
              0.3333333333333333,
              "#9c179e"
             ],
             [
              0.4444444444444444,
              "#bd3786"
             ],
             [
              0.5555555555555556,
              "#d8576b"
             ],
             [
              0.6666666666666666,
              "#ed7953"
             ],
             [
              0.7777777777777778,
              "#fb9f3a"
             ],
             [
              0.8888888888888888,
              "#fdca26"
             ],
             [
              1,
              "#f0f921"
             ]
            ],
            "type": "histogram2dcontour"
           }
          ],
          "mesh3d": [
           {
            "colorbar": {
             "outlinewidth": 0,
             "ticks": ""
            },
            "type": "mesh3d"
           }
          ],
          "parcoords": [
           {
            "line": {
             "colorbar": {
              "outlinewidth": 0,
              "ticks": ""
             }
            },
            "type": "parcoords"
           }
          ],
          "pie": [
           {
            "automargin": true,
            "type": "pie"
           }
          ],
          "scatter": [
           {
            "fillpattern": {
             "fillmode": "overlay",
             "size": 10,
             "solidity": 0.2
            },
            "type": "scatter"
           }
          ],
          "scatter3d": [
           {
            "line": {
             "colorbar": {
              "outlinewidth": 0,
              "ticks": ""
             }
            },
            "marker": {
             "colorbar": {
              "outlinewidth": 0,
              "ticks": ""
             }
            },
            "type": "scatter3d"
           }
          ],
          "scattercarpet": [
           {
            "marker": {
             "colorbar": {
              "outlinewidth": 0,
              "ticks": ""
             }
            },
            "type": "scattercarpet"
           }
          ],
          "scattergeo": [
           {
            "marker": {
             "colorbar": {
              "outlinewidth": 0,
              "ticks": ""
             }
            },
            "type": "scattergeo"
           }
          ],
          "scattergl": [
           {
            "marker": {
             "colorbar": {
              "outlinewidth": 0,
              "ticks": ""
             }
            },
            "type": "scattergl"
           }
          ],
          "scattermapbox": [
           {
            "marker": {
             "colorbar": {
              "outlinewidth": 0,
              "ticks": ""
             }
            },
            "type": "scattermapbox"
           }
          ],
          "scatterpolar": [
           {
            "marker": {
             "colorbar": {
              "outlinewidth": 0,
              "ticks": ""
             }
            },
            "type": "scatterpolar"
           }
          ],
          "scatterpolargl": [
           {
            "marker": {
             "colorbar": {
              "outlinewidth": 0,
              "ticks": ""
             }
            },
            "type": "scatterpolargl"
           }
          ],
          "scatterternary": [
           {
            "marker": {
             "colorbar": {
              "outlinewidth": 0,
              "ticks": ""
             }
            },
            "type": "scatterternary"
           }
          ],
          "surface": [
           {
            "colorbar": {
             "outlinewidth": 0,
             "ticks": ""
            },
            "colorscale": [
             [
              0,
              "#0d0887"
             ],
             [
              0.1111111111111111,
              "#46039f"
             ],
             [
              0.2222222222222222,
              "#7201a8"
             ],
             [
              0.3333333333333333,
              "#9c179e"
             ],
             [
              0.4444444444444444,
              "#bd3786"
             ],
             [
              0.5555555555555556,
              "#d8576b"
             ],
             [
              0.6666666666666666,
              "#ed7953"
             ],
             [
              0.7777777777777778,
              "#fb9f3a"
             ],
             [
              0.8888888888888888,
              "#fdca26"
             ],
             [
              1,
              "#f0f921"
             ]
            ],
            "type": "surface"
           }
          ],
          "table": [
           {
            "cells": {
             "fill": {
              "color": "#EBF0F8"
             },
             "line": {
              "color": "white"
             }
            },
            "header": {
             "fill": {
              "color": "#C8D4E3"
             },
             "line": {
              "color": "white"
             }
            },
            "type": "table"
           }
          ]
         },
         "layout": {
          "annotationdefaults": {
           "arrowcolor": "#2a3f5f",
           "arrowhead": 0,
           "arrowwidth": 1
          },
          "autotypenumbers": "strict",
          "coloraxis": {
           "colorbar": {
            "outlinewidth": 0,
            "ticks": ""
           }
          },
          "colorscale": {
           "diverging": [
            [
             0,
             "#8e0152"
            ],
            [
             0.1,
             "#c51b7d"
            ],
            [
             0.2,
             "#de77ae"
            ],
            [
             0.3,
             "#f1b6da"
            ],
            [
             0.4,
             "#fde0ef"
            ],
            [
             0.5,
             "#f7f7f7"
            ],
            [
             0.6,
             "#e6f5d0"
            ],
            [
             0.7,
             "#b8e186"
            ],
            [
             0.8,
             "#7fbc41"
            ],
            [
             0.9,
             "#4d9221"
            ],
            [
             1,
             "#276419"
            ]
           ],
           "sequential": [
            [
             0,
             "#0d0887"
            ],
            [
             0.1111111111111111,
             "#46039f"
            ],
            [
             0.2222222222222222,
             "#7201a8"
            ],
            [
             0.3333333333333333,
             "#9c179e"
            ],
            [
             0.4444444444444444,
             "#bd3786"
            ],
            [
             0.5555555555555556,
             "#d8576b"
            ],
            [
             0.6666666666666666,
             "#ed7953"
            ],
            [
             0.7777777777777778,
             "#fb9f3a"
            ],
            [
             0.8888888888888888,
             "#fdca26"
            ],
            [
             1,
             "#f0f921"
            ]
           ],
           "sequentialminus": [
            [
             0,
             "#0d0887"
            ],
            [
             0.1111111111111111,
             "#46039f"
            ],
            [
             0.2222222222222222,
             "#7201a8"
            ],
            [
             0.3333333333333333,
             "#9c179e"
            ],
            [
             0.4444444444444444,
             "#bd3786"
            ],
            [
             0.5555555555555556,
             "#d8576b"
            ],
            [
             0.6666666666666666,
             "#ed7953"
            ],
            [
             0.7777777777777778,
             "#fb9f3a"
            ],
            [
             0.8888888888888888,
             "#fdca26"
            ],
            [
             1,
             "#f0f921"
            ]
           ]
          },
          "colorway": [
           "#636efa",
           "#EF553B",
           "#00cc96",
           "#ab63fa",
           "#FFA15A",
           "#19d3f3",
           "#FF6692",
           "#B6E880",
           "#FF97FF",
           "#FECB52"
          ],
          "font": {
           "color": "#2a3f5f"
          },
          "geo": {
           "bgcolor": "white",
           "lakecolor": "white",
           "landcolor": "#E5ECF6",
           "showlakes": true,
           "showland": true,
           "subunitcolor": "white"
          },
          "hoverlabel": {
           "align": "left"
          },
          "hovermode": "closest",
          "mapbox": {
           "style": "light"
          },
          "paper_bgcolor": "white",
          "plot_bgcolor": "#E5ECF6",
          "polar": {
           "angularaxis": {
            "gridcolor": "white",
            "linecolor": "white",
            "ticks": ""
           },
           "bgcolor": "#E5ECF6",
           "radialaxis": {
            "gridcolor": "white",
            "linecolor": "white",
            "ticks": ""
           }
          },
          "scene": {
           "xaxis": {
            "backgroundcolor": "#E5ECF6",
            "gridcolor": "white",
            "gridwidth": 2,
            "linecolor": "white",
            "showbackground": true,
            "ticks": "",
            "zerolinecolor": "white"
           },
           "yaxis": {
            "backgroundcolor": "#E5ECF6",
            "gridcolor": "white",
            "gridwidth": 2,
            "linecolor": "white",
            "showbackground": true,
            "ticks": "",
            "zerolinecolor": "white"
           },
           "zaxis": {
            "backgroundcolor": "#E5ECF6",
            "gridcolor": "white",
            "gridwidth": 2,
            "linecolor": "white",
            "showbackground": true,
            "ticks": "",
            "zerolinecolor": "white"
           }
          },
          "shapedefaults": {
           "line": {
            "color": "#2a3f5f"
           }
          },
          "ternary": {
           "aaxis": {
            "gridcolor": "white",
            "linecolor": "white",
            "ticks": ""
           },
           "baxis": {
            "gridcolor": "white",
            "linecolor": "white",
            "ticks": ""
           },
           "bgcolor": "#E5ECF6",
           "caxis": {
            "gridcolor": "white",
            "linecolor": "white",
            "ticks": ""
           }
          },
          "title": {
           "x": 0.05
          },
          "xaxis": {
           "automargin": true,
           "gridcolor": "white",
           "linecolor": "white",
           "ticks": "",
           "title": {
            "standoff": 15
           },
           "zerolinecolor": "white",
           "zerolinewidth": 2
          },
          "yaxis": {
           "automargin": true,
           "gridcolor": "white",
           "linecolor": "white",
           "ticks": "",
           "title": {
            "standoff": 15
           },
           "zerolinecolor": "white",
           "zerolinewidth": 2
          }
         }
        },
        "title": {
         "text": "Weekly Stock Prices"
        },
        "updatemenus": [
         {
          "buttons": [
           {
            "args": [
             null,
             {
              "frame": {
               "duration": 500,
               "redraw": false
              },
              "fromcurrent": true,
              "mode": "immediate",
              "transition": {
               "duration": 500,
               "easing": "linear"
              }
             }
            ],
            "label": "&#9654;",
            "method": "animate"
           },
           {
            "args": [
             [
              null
             ],
             {
              "frame": {
               "duration": 0,
               "redraw": false
              },
              "fromcurrent": true,
              "mode": "immediate",
              "transition": {
               "duration": 0,
               "easing": "linear"
              }
             }
            ],
            "label": "&#9724;",
            "method": "animate"
           }
          ],
          "direction": "left",
          "pad": {
           "r": 10,
           "t": 70
          },
          "showactive": false,
          "type": "buttons",
          "x": 0.1,
          "xanchor": "right",
          "y": 0,
          "yanchor": "top"
         }
        ],
        "xaxis": {
         "anchor": "y",
         "categoryarray": [
          "2023-01-08T00:00:00",
          "2023-01-15T00:00:00",
          "2023-01-22T00:00:00",
          "2023-01-29T00:00:00",
          "2023-02-05T00:00:00",
          "2023-02-12T00:00:00",
          "2023-02-19T00:00:00",
          "2023-02-26T00:00:00",
          "2023-03-05T00:00:00",
          "2023-03-12T00:00:00",
          "2023-03-19T00:00:00",
          "2023-03-26T00:00:00",
          "2023-04-02T00:00:00",
          "2023-04-09T00:00:00",
          "2023-04-16T00:00:00",
          "2023-04-23T00:00:00",
          "2023-04-30T00:00:00",
          "2023-05-07T00:00:00",
          "2023-05-14T00:00:00",
          "2023-05-21T00:00:00",
          "2023-05-28T00:00:00",
          "2023-06-04T00:00:00",
          "2023-06-11T00:00:00",
          "2023-06-18T00:00:00",
          "2023-06-25T00:00:00",
          "2023-07-02T00:00:00",
          "2023-07-09T00:00:00",
          "2023-07-16T00:00:00",
          "2023-07-23T00:00:00",
          "2023-07-30T00:00:00",
          "2023-08-06T00:00:00",
          "2023-08-13T00:00:00",
          "2023-08-20T00:00:00",
          "2023-08-27T00:00:00",
          "2023-09-03T00:00:00",
          "2023-09-10T00:00:00",
          "2023-09-17T00:00:00",
          "2023-09-24T00:00:00",
          "2023-10-01T00:00:00",
          "2023-10-08T00:00:00",
          "2023-10-15T00:00:00",
          "2023-10-22T00:00:00",
          "2023-10-29T00:00:00"
         ],
         "categoryorder": "array",
         "domain": [
          0,
          1
         ],
         "range": [
          "2023-01-01",
          "2023-10-25"
         ],
         "title": {
          "text": "Date"
         }
        },
        "yaxis": {
         "anchor": "x",
         "domain": [
          0,
          1
         ],
         "range": [
          50,
          500
         ],
         "title": {
          "text": "Weekly Average Price"
         }
        }
       }
      }
     },
     "metadata": {},
     "output_type": "display_data"
    }
   ],
   "source": [
    "import yfinance as yf\n",
    "import pandas as pd\n",
    "import plotly.express as px\n",
    "\n",
    "# Define the list of stock symbols\n",
    "stock_symbols = [\"AAPL\", \"MSFT\", \"TSLA\"]\n",
    "\n",
    "# Define the start and end dates\n",
    "start_date = \"2023-01-01\"\n",
    "end_date = \"2023-10-25\"  # You can modify this to the current date or any other desired end date\n",
    "\n",
    "# Create an empty DataFrame to store the weekly data\n",
    "weekly_data = pd.DataFrame()\n",
    "\n",
    "# Loop through each stock symbol\n",
    "for symbol in stock_symbols:\n",
    "    # Download daily stock data from Yahoo Finance\n",
    "    df = yf.download(symbol, start=start_date, end=end_date)\n",
    "    \n",
    "    # Resample the daily data to weekly and calculate the mean\n",
    "    weekly_data[symbol] = df['Adj Close'].resample('W').mean()\n",
    "\n",
    "# Create an animated scatter plot\n",
    "fig = px.scatter(weekly_data, x=weekly_data.index, y=stock_symbols,\n",
    "                 labels={\"index\": \"Date\", \"value\": \"Weekly Average Price\"},\n",
    "                 title=\"Weekly Stock Prices\",\n",
    "                 animation_frame=weekly_data.index,\n",
    "                 range_x=[start_date, end_date],\n",
    "                 range_y=[50, 500], size_max=55)\n",
    "\n",
    "# Add lines behind the stock symbols\n",
    "for symbol in stock_symbols:\n",
    "    fig.add_scatter(x=[start_date, end_date], y=[weekly_data[symbol].iloc[0], weekly_data[symbol].iloc[-1]],\n",
    "                    mode='lines', line=dict(width=2), name=symbol)\n",
    "\n",
    "# Show the plot\n",
    "fig.show()\n"
   ]
  }
 ],
 "metadata": {
  "kernelspec": {
   "display_name": "python_eda",
   "language": "python",
   "name": "python3"
  },
  "language_info": {
   "codemirror_mode": {
    "name": "ipython",
    "version": 3
   },
   "file_extension": ".py",
   "mimetype": "text/x-python",
   "name": "python",
   "nbconvert_exporter": "python",
   "pygments_lexer": "ipython3",
   "version": "3.12.0"
  }
 },
 "nbformat": 4,
 "nbformat_minor": 2
}
