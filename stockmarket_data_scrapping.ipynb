{
 "cells": [
  {
   "cell_type": "code",
   "execution_count": 1,
   "metadata": {},
   "outputs": [
    {
     "name": "stdout",
     "output_type": "stream",
     "text": [
      "Requirement already satisfied: yfinance in c:\\users\\nauma\\miniconda3\\envs\\remotatask\\lib\\site-packages (0.2.36)\n",
      "Requirement already satisfied: pandas>=1.3.0 in c:\\users\\nauma\\miniconda3\\envs\\remotatask\\lib\\site-packages (from yfinance) (2.0.3)\n",
      "Requirement already satisfied: numpy>=1.16.5 in c:\\users\\nauma\\miniconda3\\envs\\remotatask\\lib\\site-packages (from yfinance) (1.24.3)\n",
      "Requirement already satisfied: requests>=2.31 in c:\\users\\nauma\\miniconda3\\envs\\remotatask\\lib\\site-packages (from yfinance) (2.31.0)\n",
      "Requirement already satisfied: multitasking>=0.0.7 in c:\\users\\nauma\\miniconda3\\envs\\remotatask\\lib\\site-packages (from yfinance) (0.0.11)\n",
      "Requirement already satisfied: lxml>=4.9.1 in c:\\users\\nauma\\miniconda3\\envs\\remotatask\\lib\\site-packages (from yfinance) (5.1.0)\n",
      "Requirement already satisfied: appdirs>=1.4.4 in c:\\users\\nauma\\miniconda3\\envs\\remotatask\\lib\\site-packages (from yfinance) (1.4.4)\n",
      "Requirement already satisfied: pytz>=2022.5 in c:\\users\\nauma\\miniconda3\\envs\\remotatask\\lib\\site-packages (from yfinance) (2023.3.post1)\n",
      "Requirement already satisfied: frozendict>=2.3.4 in c:\\users\\nauma\\miniconda3\\envs\\remotatask\\lib\\site-packages (from yfinance) (2.4.0)\n",
      "Requirement already satisfied: peewee>=3.16.2 in c:\\users\\nauma\\miniconda3\\envs\\remotatask\\lib\\site-packages (from yfinance) (3.17.0)\n",
      "Requirement already satisfied: beautifulsoup4>=4.11.1 in c:\\users\\nauma\\miniconda3\\envs\\remotatask\\lib\\site-packages (from yfinance) (4.12.3)\n",
      "Requirement already satisfied: html5lib>=1.1 in c:\\users\\nauma\\miniconda3\\envs\\remotatask\\lib\\site-packages (from yfinance) (1.1)\n",
      "Requirement already satisfied: soupsieve>1.2 in c:\\users\\nauma\\miniconda3\\envs\\remotatask\\lib\\site-packages (from beautifulsoup4>=4.11.1->yfinance) (2.5)\n",
      "Requirement already satisfied: six>=1.9 in c:\\users\\nauma\\miniconda3\\envs\\remotatask\\lib\\site-packages (from html5lib>=1.1->yfinance) (1.16.0)\n",
      "Requirement already satisfied: webencodings in c:\\users\\nauma\\miniconda3\\envs\\remotatask\\lib\\site-packages (from html5lib>=1.1->yfinance) (0.5.1)\n",
      "Requirement already satisfied: python-dateutil>=2.8.2 in c:\\users\\nauma\\miniconda3\\envs\\remotatask\\lib\\site-packages (from pandas>=1.3.0->yfinance) (2.8.2)\n",
      "Requirement already satisfied: tzdata>=2022.1 in c:\\users\\nauma\\miniconda3\\envs\\remotatask\\lib\\site-packages (from pandas>=1.3.0->yfinance) (2023.4)\n",
      "Requirement already satisfied: charset-normalizer<4,>=2 in c:\\users\\nauma\\miniconda3\\envs\\remotatask\\lib\\site-packages (from requests>=2.31->yfinance) (3.3.2)\n",
      "Requirement already satisfied: idna<4,>=2.5 in c:\\users\\nauma\\miniconda3\\envs\\remotatask\\lib\\site-packages (from requests>=2.31->yfinance) (3.6)\n",
      "Requirement already satisfied: urllib3<3,>=1.21.1 in c:\\users\\nauma\\miniconda3\\envs\\remotatask\\lib\\site-packages (from requests>=2.31->yfinance) (2.1.0)\n",
      "Requirement already satisfied: certifi>=2017.4.17 in c:\\users\\nauma\\miniconda3\\envs\\remotatask\\lib\\site-packages (from requests>=2.31->yfinance) (2023.11.17)\n",
      "Note: you may need to restart the kernel to use updated packages.\n"
     ]
    }
   ],
   "source": [
    "%pip install yfinance"
   ]
  },
  {
   "cell_type": "code",
   "execution_count": 2,
   "metadata": {},
   "outputs": [],
   "source": [
    "import yfinance as yf\n",
    "import pandas as pd\n",
    "import numpy as np\n",
    "import matplotlib.pyplot as plt\n"
   ]
  },
  {
   "cell_type": "code",
   "execution_count": 11,
   "metadata": {},
   "outputs": [
    {
     "name": "stdout",
     "output_type": "stream",
     "text": [
      "                                 Open        High         Low       Close  \\\n",
      "Date                                                                        \n",
      "2010-06-01 00:00:00-04:00   11.965899   12.230656   11.958178   12.014218   \n",
      "2010-06-02 00:00:00-04:00   12.121565   12.300644   11.991553   12.288191   \n",
      "2010-06-03 00:00:00-04:00   12.331528   12.652575   12.321317   12.592799   \n",
      "2010-06-04 00:00:00-04:00   12.446348   12.683708   12.371130   12.421441   \n",
      "2010-06-07 00:00:00-04:00   12.429910   12.475987   12.033645   12.092674   \n",
      "...                               ...         ...         ...         ...   \n",
      "2024-01-26 00:00:00-05:00  152.869995  154.110001  152.800003  153.789993   \n",
      "2024-01-29 00:00:00-05:00  153.639999  155.199997  152.919998  154.839996   \n",
      "2024-01-30 00:00:00-05:00  154.009995  155.039993  152.774994  153.050003   \n",
      "2024-01-31 00:00:00-05:00  145.389999  145.589996  141.550003  141.800003   \n",
      "2024-02-01 00:00:00-05:00  143.690002  144.619995  142.259995  142.710007   \n",
      "\n",
      "                              Volume  Dividends  Stock Splits  \n",
      "Date                                                           \n",
      "2010-06-01 00:00:00-04:00  107071833        0.0           0.0  \n",
      "2010-06-02 00:00:00-04:00  102012942        0.0           0.0  \n",
      "2010-06-03 00:00:00-04:00  146575349        0.0           0.0  \n",
      "2010-06-04 00:00:00-04:00  157399770        0.0           0.0  \n",
      "2010-06-07 00:00:00-04:00  145852650        0.0           0.0  \n",
      "...                              ...        ...           ...  \n",
      "2024-01-26 00:00:00-05:00   19494500        0.0           0.0  \n",
      "2024-01-29 00:00:00-05:00   20909300        0.0           0.0  \n",
      "2024-01-30 00:00:00-05:00   26578900        0.0           0.0  \n",
      "2024-01-31 00:00:00-05:00   43908600        0.0           0.0  \n",
      "2024-02-01 00:00:00-05:00   25526900        0.0           0.0  \n",
      "\n",
      "[3442 rows x 7 columns]\n"
     ]
    }
   ],
   "source": [
    "#define the ticker symbol\n",
    "tickerSymbol = 'GOOG'\n",
    "#get data on this ticker\n",
    "tickerData = yf.Ticker(tickerSymbol)\n",
    "#get the historical prices for this ticker\n",
    "tickerDf = tickerData.history(period='1d', start='2010-5-31', end='2024-02-02')\n",
    "#see your data\n",
    "print(tickerDf)\n",
    "\n"
   ]
  },
  {
   "cell_type": "code",
   "execution_count": 12,
   "metadata": {},
   "outputs": [
    {
     "name": "stdout",
     "output_type": "stream",
     "text": [
      "142.7100067138672\n"
     ]
    }
   ],
   "source": [
    "# last closing price\n",
    "last_price = tickerDf['Close'][-1]\n",
    "print(last_price)"
   ]
  },
  {
   "cell_type": "code",
   "execution_count": 13,
   "metadata": {},
   "outputs": [
    {
     "data": {
      "text/html": [
       "<div>\n",
       "<style scoped>\n",
       "    .dataframe tbody tr th:only-of-type {\n",
       "        vertical-align: middle;\n",
       "    }\n",
       "\n",
       "    .dataframe tbody tr th {\n",
       "        vertical-align: top;\n",
       "    }\n",
       "\n",
       "    .dataframe thead th {\n",
       "        text-align: right;\n",
       "    }\n",
       "</style>\n",
       "<table border=\"1\" class=\"dataframe\">\n",
       "  <thead>\n",
       "    <tr style=\"text-align: right;\">\n",
       "      <th></th>\n",
       "      <th>Open</th>\n",
       "      <th>High</th>\n",
       "      <th>Low</th>\n",
       "      <th>Close</th>\n",
       "      <th>Volume</th>\n",
       "      <th>Dividends</th>\n",
       "      <th>Stock Splits</th>\n",
       "    </tr>\n",
       "    <tr>\n",
       "      <th>Date</th>\n",
       "      <th></th>\n",
       "      <th></th>\n",
       "      <th></th>\n",
       "      <th></th>\n",
       "      <th></th>\n",
       "      <th></th>\n",
       "      <th></th>\n",
       "    </tr>\n",
       "  </thead>\n",
       "  <tbody>\n",
       "    <tr>\n",
       "      <th>2024-01-26 00:00:00-05:00</th>\n",
       "      <td>152.869995</td>\n",
       "      <td>154.110001</td>\n",
       "      <td>152.800003</td>\n",
       "      <td>153.789993</td>\n",
       "      <td>19494500</td>\n",
       "      <td>0.0</td>\n",
       "      <td>0.0</td>\n",
       "    </tr>\n",
       "    <tr>\n",
       "      <th>2024-01-29 00:00:00-05:00</th>\n",
       "      <td>153.639999</td>\n",
       "      <td>155.199997</td>\n",
       "      <td>152.919998</td>\n",
       "      <td>154.839996</td>\n",
       "      <td>20909300</td>\n",
       "      <td>0.0</td>\n",
       "      <td>0.0</td>\n",
       "    </tr>\n",
       "    <tr>\n",
       "      <th>2024-01-30 00:00:00-05:00</th>\n",
       "      <td>154.009995</td>\n",
       "      <td>155.039993</td>\n",
       "      <td>152.774994</td>\n",
       "      <td>153.050003</td>\n",
       "      <td>26578900</td>\n",
       "      <td>0.0</td>\n",
       "      <td>0.0</td>\n",
       "    </tr>\n",
       "    <tr>\n",
       "      <th>2024-01-31 00:00:00-05:00</th>\n",
       "      <td>145.389999</td>\n",
       "      <td>145.589996</td>\n",
       "      <td>141.550003</td>\n",
       "      <td>141.800003</td>\n",
       "      <td>43908600</td>\n",
       "      <td>0.0</td>\n",
       "      <td>0.0</td>\n",
       "    </tr>\n",
       "    <tr>\n",
       "      <th>2024-02-01 00:00:00-05:00</th>\n",
       "      <td>143.690002</td>\n",
       "      <td>144.619995</td>\n",
       "      <td>142.259995</td>\n",
       "      <td>142.710007</td>\n",
       "      <td>25526900</td>\n",
       "      <td>0.0</td>\n",
       "      <td>0.0</td>\n",
       "    </tr>\n",
       "  </tbody>\n",
       "</table>\n",
       "</div>"
      ],
      "text/plain": [
       "                                 Open        High         Low       Close  \\\n",
       "Date                                                                        \n",
       "2024-01-26 00:00:00-05:00  152.869995  154.110001  152.800003  153.789993   \n",
       "2024-01-29 00:00:00-05:00  153.639999  155.199997  152.919998  154.839996   \n",
       "2024-01-30 00:00:00-05:00  154.009995  155.039993  152.774994  153.050003   \n",
       "2024-01-31 00:00:00-05:00  145.389999  145.589996  141.550003  141.800003   \n",
       "2024-02-01 00:00:00-05:00  143.690002  144.619995  142.259995  142.710007   \n",
       "\n",
       "                             Volume  Dividends  Stock Splits  \n",
       "Date                                                          \n",
       "2024-01-26 00:00:00-05:00  19494500        0.0           0.0  \n",
       "2024-01-29 00:00:00-05:00  20909300        0.0           0.0  \n",
       "2024-01-30 00:00:00-05:00  26578900        0.0           0.0  \n",
       "2024-01-31 00:00:00-05:00  43908600        0.0           0.0  \n",
       "2024-02-01 00:00:00-05:00  25526900        0.0           0.0  "
      ]
     },
     "execution_count": 13,
     "metadata": {},
     "output_type": "execute_result"
    }
   ],
   "source": [
    "tickerDf.tail()"
   ]
  },
  {
   "cell_type": "code",
   "execution_count": null,
   "metadata": {},
   "outputs": [],
   "source": []
  }
 ],
 "metadata": {
  "kernelspec": {
   "display_name": "remotatask",
   "language": "python",
   "name": "python3"
  },
  "language_info": {
   "codemirror_mode": {
    "name": "ipython",
    "version": 3
   },
   "file_extension": ".py",
   "mimetype": "text/x-python",
   "name": "python",
   "nbconvert_exporter": "python",
   "pygments_lexer": "ipython3",
   "version": "3.8.18"
  }
 },
 "nbformat": 4,
 "nbformat_minor": 2
}
